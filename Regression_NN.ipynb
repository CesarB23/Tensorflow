{
 "cells": [
  {
   "cell_type": "markdown",
   "metadata": {},
   "source": [
    "# Neural Networks for Regression Problems\n",
    "\n",
    "Regression is a statistical tecnique used for computing the correlation between a dependent variable and a single or a set of independent variables...predict a number based on the input features\n",
    "\n",
    "Steps for implementing a NN for regresion:\n",
    "\n",
    "* Input Features\n",
    "    * Label/Numerical Encoding\n",
    "* ML or DL algorithm \n",
    "* Compare output features with expected features"
   ]
  },
  {
   "cell_type": "markdown",
   "metadata": {},
   "source": [
    "Add Picture NN"
   ]
  },
  {
   "cell_type": "markdown",
   "metadata": {},
   "source": [
    "## Anatomy of a NN(Fully connected) \n",
    "\n",
    "* Input Layer (data)\n",
    "* Hidden Layer\n",
    "    * Activation Function\n",
    "    * Number of Neurons per Hidden Layer\n",
    "* Output Layer (expected features)\n",
    "    * Activation Function\n",
    "    * Number of Neurons\n",
    "* Optimization\n",
    "    * Loss Function\n",
    "    * Optimizer"
   ]
  },
  {
   "cell_type": "code",
   "execution_count": 2,
   "metadata": {},
   "outputs": [],
   "source": [
    "import tensorflow as tf\n",
    "import numpy as np\n",
    "import matplotlib.pyplot as plt"
   ]
  },
  {
   "cell_type": "code",
   "execution_count": 3,
   "metadata": {},
   "outputs": [
    {
     "data": {
      "image/png": "[encoded data removed]",
      "text/plain": [
       "<Figure size 640x480 with 1 Axes>"
      ]
     },
     "metadata": {},
     "output_type": "display_data"
    }
   ],
   "source": [
    "X = np.array([-7.0,-4.0,-1.0,2.0,5.0,8.0,11.0,14.0])\n",
    "y = np.array([3.0,6.0,9.0,12.0,15.0,18.0,21.0,24.0])\n",
    "\n",
    "plt.scatter(X,y);"
   ]
  },
  {
   "cell_type": "code",
   "execution_count": 4,
   "metadata": {},
   "outputs": [],
   "source": [
    "X_tensor = tf.cast(tf.constant(X),dtype=tf.float32)\n",
    "y_tensor = tf.cast(tf.constant(y),dtype=tf.float32)"
   ]
  },
  {
   "cell_type": "code",
   "execution_count": 5,
   "metadata": {},
   "outputs": [
    {
     "data": {
      "text/plain": [
       "(<tf.Tensor: shape=(8,), dtype=float32, numpy=array([-7., -4., -1.,  2.,  5.,  8., 11., 14.], dtype=float32)>,\n",
       " <tf.Tensor: shape=(8,), dtype=float32, numpy=array([ 3.,  6.,  9., 12., 15., 18., 21., 24.], dtype=float32)>)"
      ]
     },
     "execution_count": 5,
     "metadata": {},
     "output_type": "execute_result"
    }
   ],
   "source": [
    "X_tensor,y_tensor"
   ]
  },
  {
   "cell_type": "markdown",
   "metadata": {},
   "source": [
    "## Steps for modeling with TF\n",
    "\n",
    "1. Create Architecture\n",
    "    * Data must be a **n** dimensional tensor \n",
    "2. Compile Model\n",
    "3. Fit the model"
   ]
  },
  {
   "cell_type": "code",
   "execution_count": 6,
   "metadata": {},
   "outputs": [
    {
     "name": "stdout",
     "output_type": "stream",
     "text": [
      "Epoch 1/10\n",
      "1/1 [==============================] - 5s 5s/step - loss: 9.5164 - mae: 9.5164\n",
      "Epoch 2/10\n",
      "1/1 [==============================] - 0s 34ms/step - loss: 9.3839 - mae: 9.3839\n",
      "Epoch 3/10\n",
      "1/1 [==============================] - 0s 37ms/step - loss: 9.2514 - mae: 9.2514\n",
      "Epoch 4/10\n",
      "1/1 [==============================] - 0s 34ms/step - loss: 9.1189 - mae: 9.1189\n",
      "Epoch 5/10\n",
      "1/1 [==============================] - 0s 23ms/step - loss: 8.9864 - mae: 8.9864\n",
      "Epoch 6/10\n",
      "1/1 [==============================] - 0s 33ms/step - loss: 8.8539 - mae: 8.8539\n",
      "Epoch 7/10\n",
      "1/1 [==============================] - 0s 21ms/step - loss: 8.7214 - mae: 8.7214\n",
      "Epoch 8/10\n",
      "1/1 [==============================] - 0s 25ms/step - loss: 8.5889 - mae: 8.5889\n",
      "Epoch 9/10\n",
      "1/1 [==============================] - 0s 124ms/step - loss: 8.4564 - mae: 8.4564\n",
      "Epoch 10/10\n",
      "1/1 [==============================] - 0s 38ms/step - loss: 8.3239 - mae: 8.3239\n"
     ]
    },
    {
     "data": {
      "text/plain": [
       "<keras.callbacks.History at 0x27d878e4700>"
      ]
     },
     "execution_count": 6,
     "metadata": {},
     "output_type": "execute_result"
    }
   ],
   "source": [
    "tf.random.set_seed(42)\n",
    "\n",
    "#Define Sequential model\n",
    "model = tf.keras.Sequential([\n",
    "    tf.keras.layers.Input(shape=(1,)),\n",
    "    tf.keras.layers.Dense(1)\n",
    "])\n",
    "model.layers\n",
    "model.compile(loss=tf.keras.losses.mae,\n",
    "             optimizer=tf.keras.optimizers.SGD(),\n",
    "              metrics = [\"mae\"])\n",
    "\n",
    "model.fit(X_tensor,y_tensor,epochs=10)"
   ]
  },
  {
   "cell_type": "code",
   "execution_count": 7,
   "metadata": {},
   "outputs": [
    {
     "name": "stdout",
     "output_type": "stream",
     "text": [
      "1/1 [==============================] - 1s 602ms/step\n"
     ]
    },
    {
     "data": {
      "text/plain": [
       "array([[25.39909]], dtype=float32)"
      ]
     },
     "execution_count": 7,
     "metadata": {},
     "output_type": "execute_result"
    }
   ],
   "source": [
    "model.predict([17.0])"
   ]
  },
  {
   "cell_type": "markdown",
   "metadata": {},
   "source": [
    "## Improving Model\n",
    "We can improve the model in each step of the modeling... \n",
    "\n",
    "1. Layer Hyperparameter tunning...\n",
    "2. Choose the correct optimizer, learning rate, \n",
    "3. Let the model train longer, train in more data"
   ]
  },
  {
   "cell_type": "code",
   "execution_count": 8,
   "metadata": {},
   "outputs": [
    {
     "name": "stdout",
     "output_type": "stream",
     "text": [
      "Epoch 1/50\n",
      "1/1 [==============================] - 1s 1s/step - loss: 14.1188 - mae: 14.1188\n",
      "Epoch 2/50\n",
      "1/1 [==============================] - 0s 28ms/step - loss: 13.5493 - mae: 13.5493\n",
      "Epoch 3/50\n",
      "1/1 [==============================] - 0s 30ms/step - loss: 12.9854 - mae: 12.9854\n",
      "Epoch 4/50\n",
      "1/1 [==============================] - 0s 68ms/step - loss: 12.4171 - mae: 12.4171\n",
      "Epoch 5/50\n",
      "1/1 [==============================] - 0s 23ms/step - loss: 11.8442 - mae: 11.8442\n",
      "Epoch 6/50\n",
      "1/1 [==============================] - 0s 37ms/step - loss: 11.2643 - mae: 11.2643\n",
      "Epoch 7/50\n",
      "1/1 [==============================] - 0s 26ms/step - loss: 10.6687 - mae: 10.6687\n",
      "Epoch 8/50\n",
      "1/1 [==============================] - 0s 56ms/step - loss: 10.0499 - mae: 10.0499\n",
      "Epoch 9/50\n",
      "1/1 [==============================] - 0s 26ms/step - loss: 9.4021 - mae: 9.4021\n",
      "Epoch 10/50\n",
      "1/1 [==============================] - 0s 26ms/step - loss: 8.7194 - mae: 8.7194\n",
      "Epoch 11/50\n",
      "1/1 [==============================] - 0s 28ms/step - loss: 7.9976 - mae: 7.9976\n",
      "Epoch 12/50\n",
      "1/1 [==============================] - 0s 27ms/step - loss: 7.2359 - mae: 7.2359\n",
      "Epoch 13/50\n",
      "1/1 [==============================] - 0s 34ms/step - loss: 6.4340 - mae: 6.4340\n",
      "Epoch 14/50\n",
      "1/1 [==============================] - 0s 47ms/step - loss: 5.5729 - mae: 5.5729\n",
      "Epoch 15/50\n",
      "1/1 [==============================] - 0s 33ms/step - loss: 4.6481 - mae: 4.6481\n",
      "Epoch 16/50\n",
      "1/1 [==============================] - 0s 34ms/step - loss: 4.0464 - mae: 4.0464\n",
      "Epoch 17/50\n",
      "1/1 [==============================] - 0s 46ms/step - loss: 3.9162 - mae: 3.9162\n",
      "Epoch 18/50\n",
      "1/1 [==============================] - 0s 25ms/step - loss: 3.9541 - mae: 3.9541\n",
      "Epoch 19/50\n",
      "1/1 [==============================] - 0s 26ms/step - loss: 3.8938 - mae: 3.8938\n",
      "Epoch 20/50\n",
      "1/1 [==============================] - 0s 30ms/step - loss: 3.9686 - mae: 3.9686\n",
      "Epoch 21/50\n",
      "1/1 [==============================] - 0s 36ms/step - loss: 3.9010 - mae: 3.9010\n",
      "Epoch 22/50\n",
      "1/1 [==============================] - 0s 31ms/step - loss: 3.9467 - mae: 3.9467\n",
      "Epoch 23/50\n",
      "1/1 [==============================] - 0s 26ms/step - loss: 3.9083 - mae: 3.9083\n",
      "Epoch 24/50\n",
      "1/1 [==============================] - 0s 26ms/step - loss: 3.9218 - mae: 3.9218\n",
      "Epoch 25/50\n",
      "1/1 [==============================] - 0s 30ms/step - loss: 3.9158 - mae: 3.9158\n",
      "Epoch 26/50\n",
      "1/1 [==============================] - 0s 41ms/step - loss: 3.8968 - mae: 3.8968\n",
      "Epoch 27/50\n",
      "1/1 [==============================] - 0s 29ms/step - loss: 3.9234 - mae: 3.9234\n",
      "Epoch 28/50\n",
      "1/1 [==============================] - 0s 31ms/step - loss: 3.8780 - mae: 3.8780\n",
      "Epoch 29/50\n",
      "1/1 [==============================] - 0s 30ms/step - loss: 3.9380 - mae: 3.9380\n",
      "Epoch 30/50\n",
      "1/1 [==============================] - 0s 27ms/step - loss: 3.8708 - mae: 3.8708\n",
      "Epoch 31/50\n",
      "1/1 [==============================] - 0s 37ms/step - loss: 3.9265 - mae: 3.9265\n",
      "Epoch 32/50\n",
      "1/1 [==============================] - 0s 31ms/step - loss: 3.8784 - mae: 3.8784\n",
      "Epoch 33/50\n",
      "1/1 [==============================] - 0s 30ms/step - loss: 3.9014 - mae: 3.9014\n",
      "Epoch 34/50\n",
      "1/1 [==============================] - 0s 27ms/step - loss: 3.8861 - mae: 3.8861\n",
      "Epoch 35/50\n",
      "1/1 [==============================] - 0s 34ms/step - loss: 3.8762 - mae: 3.8762\n",
      "Epoch 36/50\n",
      "1/1 [==============================] - 0s 31ms/step - loss: 3.8971 - mae: 3.8971\n",
      "Epoch 37/50\n",
      "1/1 [==============================] - 0s 34ms/step - loss: 3.8570 - mae: 3.8570\n",
      "Epoch 38/50\n",
      "1/1 [==============================] - 0s 45ms/step - loss: 3.9086 - mae: 3.9086\n",
      "Epoch 39/50\n",
      "1/1 [==============================] - 0s 31ms/step - loss: 3.8419 - mae: 3.8419\n",
      "Epoch 40/50\n",
      "1/1 [==============================] - 0s 25ms/step - loss: 3.9051 - mae: 3.9051\n",
      "Epoch 41/50\n",
      "1/1 [==============================] - 0s 28ms/step - loss: 3.8496 - mae: 3.8496\n",
      "Epoch 42/50\n",
      "1/1 [==============================] - 0s 35ms/step - loss: 3.8798 - mae: 3.8798\n",
      "Epoch 43/50\n",
      "1/1 [==============================] - 0s 26ms/step - loss: 3.8575 - mae: 3.8575\n",
      "Epoch 44/50\n",
      "1/1 [==============================] - 0s 28ms/step - loss: 3.8549 - mae: 3.8549\n",
      "Epoch 45/50\n",
      "1/1 [==============================] - 0s 30ms/step - loss: 3.8723 - mae: 3.8723\n",
      "Epoch 46/50\n",
      "1/1 [==============================] - 0s 33ms/step - loss: 3.8348 - mae: 3.8348\n",
      "Epoch 47/50\n",
      "1/1 [==============================] - 0s 22ms/step - loss: 3.8804 - mae: 3.8804\n",
      "Epoch 48/50\n",
      "1/1 [==============================] - 0s 31ms/step - loss: 3.8140 - mae: 3.8140\n",
      "Epoch 49/50\n",
      "1/1 [==============================] - 0s 42ms/step - loss: 3.8825 - mae: 3.8825\n",
      "Epoch 50/50\n",
      "1/1 [==============================] - 0s 23ms/step - loss: 3.8220 - mae: 3.8220\n"
     ]
    },
    {
     "data": {
      "text/plain": [
       "<keras.callbacks.History at 0x27d87c98fd0>"
      ]
     },
     "execution_count": 8,
     "metadata": {},
     "output_type": "execute_result"
    }
   ],
   "source": [
    "tf.random.set_seed(42)\n",
    "model = tf.keras.Sequential([\n",
    "    tf.keras.layers.Input(shape=(1,)),\n",
    "    tf.keras.layers.Dense(100,activation=\"relu\"),\n",
    "    tf.keras.layers.Dense(1,)\n",
    "])\n",
    "\n",
    "model.layers\n",
    "model.compile(loss=\"mae\",\n",
    "             optimizer=tf.keras.optimizers.SGD(),\n",
    "              metrics = [\"mae\"])\n",
    "\n",
    "model.fit(X_tensor,y_tensor,epochs=50)"
   ]
  },
  {
   "cell_type": "code",
   "execution_count": 9,
   "metadata": {},
   "outputs": [
    {
     "name": "stdout",
     "output_type": "stream",
     "text": [
      "1/1 [==============================] - 0s 346ms/step\n"
     ]
    },
    {
     "data": {
      "text/plain": [
       "array([[31.533651]], dtype=float32)"
      ]
     },
     "execution_count": 9,
     "metadata": {},
     "output_type": "execute_result"
    }
   ],
   "source": [
    "model.predict([17.0])"
   ]
  },
  {
   "cell_type": "markdown",
   "metadata": {},
   "source": [
    "## Most common ways to improve a deep model:\n",
    "* More Hidden Layers\n",
    "* Increase number of neurons per hiddel layer\n",
    "* Change activation functions\n",
    "* Change the optimization function\n",
    "* Change the **learning rate**\n",
    "* Fit the model in more data\n",
    "* Fit the model for more epochs"
   ]
  },
  {
   "cell_type": "code",
   "execution_count": 10,
   "metadata": {},
   "outputs": [
    {
     "name": "stdout",
     "output_type": "stream",
     "text": [
      "Epoch 1/100\n",
      "1/1 [==============================] - 3s 3s/step - loss: 13.2441 - mae: 13.2441\n",
      "Epoch 2/100\n",
      "1/1 [==============================] - 0s 38ms/step - loss: 10.1755 - mae: 10.1755\n",
      "Epoch 3/100\n",
      "1/1 [==============================] - 0s 43ms/step - loss: 6.7663 - mae: 6.7663\n",
      "Epoch 4/100\n",
      "1/1 [==============================] - 0s 30ms/step - loss: 4.2622 - mae: 4.2622\n",
      "Epoch 5/100\n",
      "1/1 [==============================] - 0s 33ms/step - loss: 6.8456 - mae: 6.8456\n",
      "Epoch 6/100\n",
      "1/1 [==============================] - 0s 30ms/step - loss: 5.8910 - mae: 5.8910\n",
      "Epoch 7/100\n",
      "1/1 [==============================] - 0s 52ms/step - loss: 4.2660 - mae: 4.2660\n",
      "Epoch 8/100\n",
      "1/1 [==============================] - 0s 38ms/step - loss: 4.0165 - mae: 4.0165\n",
      "Epoch 9/100\n",
      "1/1 [==============================] - 0s 35ms/step - loss: 4.6710 - mae: 4.6710\n",
      "Epoch 10/100\n",
      "1/1 [==============================] - 0s 27ms/step - loss: 4.1546 - mae: 4.1546\n",
      "Epoch 11/100\n",
      "1/1 [==============================] - 0s 45ms/step - loss: 3.5284 - mae: 3.5284\n",
      "Epoch 12/100\n",
      "1/1 [==============================] - 0s 36ms/step - loss: 3.7075 - mae: 3.7075\n",
      "Epoch 13/100\n",
      "1/1 [==============================] - 0s 28ms/step - loss: 4.0012 - mae: 4.0012\n",
      "Epoch 14/100\n",
      "1/1 [==============================] - 0s 36ms/step - loss: 3.7301 - mae: 3.7301\n",
      "Epoch 15/100\n",
      "1/1 [==============================] - 0s 25ms/step - loss: 3.3227 - mae: 3.3227\n",
      "Epoch 16/100\n",
      "1/1 [==============================] - 0s 43ms/step - loss: 3.1375 - mae: 3.1375\n",
      "Epoch 17/100\n",
      "1/1 [==============================] - 0s 43ms/step - loss: 3.1804 - mae: 3.1804\n",
      "Epoch 18/100\n",
      "1/1 [==============================] - 0s 40ms/step - loss: 3.0314 - mae: 3.0314\n",
      "Epoch 19/100\n",
      "1/1 [==============================] - 0s 32ms/step - loss: 2.6867 - mae: 2.6867\n",
      "Epoch 20/100\n",
      "1/1 [==============================] - 0s 36ms/step - loss: 2.5922 - mae: 2.5922\n",
      "Epoch 21/100\n",
      "1/1 [==============================] - 0s 41ms/step - loss: 2.7078 - mae: 2.7078\n",
      "Epoch 22/100\n",
      "1/1 [==============================] - 0s 38ms/step - loss: 2.3083 - mae: 2.3083\n",
      "Epoch 23/100\n",
      "1/1 [==============================] - 0s 35ms/step - loss: 2.2435 - mae: 2.2435\n",
      "Epoch 24/100\n",
      "1/1 [==============================] - 0s 41ms/step - loss: 2.2284 - mae: 2.2284\n",
      "Epoch 25/100\n",
      "1/1 [==============================] - 0s 35ms/step - loss: 1.7383 - mae: 1.7383\n",
      "Epoch 26/100\n",
      "1/1 [==============================] - 0s 36ms/step - loss: 1.2560 - mae: 1.2560\n",
      "Epoch 27/100\n",
      "1/1 [==============================] - 0s 39ms/step - loss: 1.1319 - mae: 1.1319\n",
      "Epoch 28/100\n",
      "1/1 [==============================] - 0s 46ms/step - loss: 1.0036 - mae: 1.0036\n",
      "Epoch 29/100\n",
      "1/1 [==============================] - 0s 32ms/step - loss: 0.6142 - mae: 0.6142\n",
      "Epoch 30/100\n",
      "1/1 [==============================] - 0s 34ms/step - loss: 0.5343 - mae: 0.5343\n",
      "Epoch 31/100\n",
      "1/1 [==============================] - 0s 36ms/step - loss: 1.1673 - mae: 1.1673\n",
      "Epoch 32/100\n",
      "1/1 [==============================] - 0s 34ms/step - loss: 0.9428 - mae: 0.9428\n",
      "Epoch 33/100\n",
      "1/1 [==============================] - 0s 36ms/step - loss: 0.6213 - mae: 0.6213\n",
      "Epoch 34/100\n",
      "1/1 [==============================] - 0s 34ms/step - loss: 1.6218 - mae: 1.6218\n",
      "Epoch 35/100\n",
      "1/1 [==============================] - 0s 40ms/step - loss: 1.0243 - mae: 1.0243\n",
      "Epoch 36/100\n",
      "1/1 [==============================] - 0s 39ms/step - loss: 1.3604 - mae: 1.3604\n",
      "Epoch 37/100\n",
      "1/1 [==============================] - 0s 132ms/step - loss: 1.7581 - mae: 1.7581\n",
      "Epoch 38/100\n",
      "1/1 [==============================] - 0s 23ms/step - loss: 0.9247 - mae: 0.9247\n",
      "Epoch 39/100\n",
      "1/1 [==============================] - 0s 32ms/step - loss: 1.2952 - mae: 1.2952\n",
      "Epoch 40/100\n",
      "1/1 [==============================] - 0s 28ms/step - loss: 1.4257 - mae: 1.4257\n",
      "Epoch 41/100\n",
      "1/1 [==============================] - 0s 43ms/step - loss: 0.4347 - mae: 0.4347\n",
      "Epoch 42/100\n",
      "1/1 [==============================] - 0s 36ms/step - loss: 1.5605 - mae: 1.5605\n",
      "Epoch 43/100\n",
      "1/1 [==============================] - 0s 35ms/step - loss: 1.5261 - mae: 1.5261\n",
      "Epoch 44/100\n",
      "1/1 [==============================] - 0s 43ms/step - loss: 0.7106 - mae: 0.7106\n",
      "Epoch 45/100\n",
      "1/1 [==============================] - 0s 43ms/step - loss: 2.0366 - mae: 2.0366\n",
      "Epoch 46/100\n",
      "1/1 [==============================] - 0s 30ms/step - loss: 2.4878 - mae: 2.4878\n",
      "Epoch 47/100\n",
      "1/1 [==============================] - 0s 39ms/step - loss: 1.3218 - mae: 1.3218\n",
      "Epoch 48/100\n",
      "1/1 [==============================] - 0s 42ms/step - loss: 0.9037 - mae: 0.9037\n",
      "Epoch 49/100\n",
      "1/1 [==============================] - 0s 44ms/step - loss: 1.6554 - mae: 1.6554\n",
      "Epoch 50/100\n",
      "1/1 [==============================] - 0s 41ms/step - loss: 1.3389 - mae: 1.3389\n",
      "Epoch 51/100\n",
      "1/1 [==============================] - 0s 34ms/step - loss: 0.2764 - mae: 0.2764\n",
      "Epoch 52/100\n",
      "1/1 [==============================] - 0s 28ms/step - loss: 0.8932 - mae: 0.8932\n",
      "Epoch 53/100\n",
      "1/1 [==============================] - 0s 42ms/step - loss: 0.5399 - mae: 0.5399\n",
      "Epoch 54/100\n",
      "1/1 [==============================] - 0s 39ms/step - loss: 1.0479 - mae: 1.0479\n",
      "Epoch 55/100\n",
      "1/1 [==============================] - 0s 43ms/step - loss: 1.2811 - mae: 1.2811\n",
      "Epoch 56/100\n",
      "1/1 [==============================] - 0s 33ms/step - loss: 0.6869 - mae: 0.6869\n",
      "Epoch 57/100\n",
      "1/1 [==============================] - 0s 39ms/step - loss: 0.8641 - mae: 0.8641\n",
      "Epoch 58/100\n",
      "1/1 [==============================] - 0s 33ms/step - loss: 1.1420 - mae: 1.1420\n",
      "Epoch 59/100\n",
      "1/1 [==============================] - 0s 28ms/step - loss: 0.4923 - mae: 0.4923\n",
      "Epoch 60/100\n",
      "1/1 [==============================] - 0s 80ms/step - loss: 1.0321 - mae: 1.0321\n",
      "Epoch 61/100\n",
      "1/1 [==============================] - 0s 34ms/step - loss: 1.4188 - mae: 1.4188\n",
      "Epoch 62/100\n",
      "1/1 [==============================] - 0s 29ms/step - loss: 1.1474 - mae: 1.1474\n",
      "Epoch 63/100\n",
      "1/1 [==============================] - 0s 30ms/step - loss: 0.2907 - mae: 0.2907\n",
      "Epoch 64/100\n",
      "1/1 [==============================] - 0s 32ms/step - loss: 1.5128 - mae: 1.5128\n",
      "Epoch 65/100\n",
      "1/1 [==============================] - 0s 25ms/step - loss: 1.9949 - mae: 1.9949\n",
      "Epoch 66/100\n",
      "1/1 [==============================] - 0s 39ms/step - loss: 1.4627 - mae: 1.4627\n",
      "Epoch 67/100\n",
      "1/1 [==============================] - 0s 37ms/step - loss: 0.2394 - mae: 0.2394\n",
      "Epoch 68/100\n",
      "1/1 [==============================] - 0s 49ms/step - loss: 1.2770 - mae: 1.2770\n",
      "Epoch 69/100\n",
      "1/1 [==============================] - 0s 74ms/step - loss: 1.4890 - mae: 1.4890\n",
      "Epoch 70/100\n",
      "1/1 [==============================] - 0s 43ms/step - loss: 1.1129 - mae: 1.1129\n",
      "Epoch 71/100\n",
      "1/1 [==============================] - 0s 30ms/step - loss: 0.3016 - mae: 0.3016\n",
      "Epoch 72/100\n",
      "1/1 [==============================] - 0s 31ms/step - loss: 0.7817 - mae: 0.7817\n",
      "Epoch 73/100\n",
      "1/1 [==============================] - 0s 43ms/step - loss: 0.2938 - mae: 0.2938\n",
      "Epoch 74/100\n",
      "1/1 [==============================] - 0s 37ms/step - loss: 1.0207 - mae: 1.0207\n",
      "Epoch 75/100\n",
      "1/1 [==============================] - 0s 34ms/step - loss: 1.3438 - mae: 1.3438\n",
      "Epoch 76/100\n",
      "1/1 [==============================] - 0s 62ms/step - loss: 0.9490 - mae: 0.9490\n",
      "Epoch 77/100\n",
      "1/1 [==============================] - 0s 34ms/step - loss: 0.4105 - mae: 0.4105\n",
      "Epoch 78/100\n",
      "1/1 [==============================] - 0s 33ms/step - loss: 0.7057 - mae: 0.7057\n",
      "Epoch 79/100\n",
      "1/1 [==============================] - 0s 34ms/step - loss: 0.2479 - mae: 0.2479\n",
      "Epoch 80/100\n",
      "1/1 [==============================] - 0s 51ms/step - loss: 0.9134 - mae: 0.9134\n",
      "Epoch 81/100\n",
      "1/1 [==============================] - 0s 30ms/step - loss: 1.2187 - mae: 1.2187\n",
      "Epoch 82/100\n",
      "1/1 [==============================] - 0s 52ms/step - loss: 0.9226 - mae: 0.9226\n",
      "Epoch 83/100\n",
      "1/1 [==============================] - 0s 38ms/step - loss: 0.1493 - mae: 0.1493\n",
      "Epoch 84/100\n",
      "1/1 [==============================] - 0s 38ms/step - loss: 0.8003 - mae: 0.8003\n",
      "Epoch 85/100\n",
      "1/1 [==============================] - 0s 39ms/step - loss: 0.7066 - mae: 0.7066\n",
      "Epoch 86/100\n",
      "1/1 [==============================] - 0s 51ms/step - loss: 0.4797 - mae: 0.4797\n",
      "Epoch 87/100\n",
      "1/1 [==============================] - 0s 39ms/step - loss: 0.5425 - mae: 0.5425\n",
      "Epoch 88/100\n",
      "1/1 [==============================] - 0s 43ms/step - loss: 0.4871 - mae: 0.4871\n",
      "Epoch 89/100\n",
      "1/1 [==============================] - 0s 32ms/step - loss: 0.3638 - mae: 0.3638\n",
      "Epoch 90/100\n",
      "1/1 [==============================] - 0s 58ms/step - loss: 0.3585 - mae: 0.3585\n",
      "Epoch 91/100\n",
      "1/1 [==============================] - 0s 40ms/step - loss: 0.3819 - mae: 0.3819\n",
      "Epoch 92/100\n",
      "1/1 [==============================] - 0s 39ms/step - loss: 0.5105 - mae: 0.5105\n",
      "Epoch 93/100\n",
      "1/1 [==============================] - 0s 34ms/step - loss: 0.3076 - mae: 0.3076\n",
      "Epoch 94/100\n",
      "1/1 [==============================] - 0s 34ms/step - loss: 0.6440 - mae: 0.6440\n",
      "Epoch 95/100\n",
      "1/1 [==============================] - 0s 33ms/step - loss: 0.7878 - mae: 0.7878\n",
      "Epoch 96/100\n",
      "1/1 [==============================] - 0s 84ms/step - loss: 0.2337 - mae: 0.2337\n",
      "Epoch 97/100\n",
      "1/1 [==============================] - 0s 50ms/step - loss: 0.7919 - mae: 0.7919\n",
      "Epoch 98/100\n",
      "1/1 [==============================] - 0s 68ms/step - loss: 0.8458 - mae: 0.8458\n",
      "Epoch 99/100\n",
      "1/1 [==============================] - 0s 25ms/step - loss: 0.1939 - mae: 0.1939\n",
      "Epoch 100/100\n",
      "1/1 [==============================] - 0s 36ms/step - loss: 1.0652 - mae: 1.0652\n"
     ]
    },
    {
     "data": {
      "text/plain": [
       "<keras.callbacks.History at 0x27d96a8c640>"
      ]
     },
     "execution_count": 10,
     "metadata": {},
     "output_type": "execute_result"
    }
   ],
   "source": [
    "#Define Sequential model\n",
    "tf.random.set_seed(42)\n",
    "model = tf.keras.Sequential([\n",
    "    tf.keras.layers.Input(shape=(1,)),\n",
    "    tf.keras.layers.Dense(100,activation=\"relu\"),\n",
    "    tf.keras.layers.Dense(100,activation=\"relu\"),\n",
    "    tf.keras.layers.Dense(100,activation=\"relu\"),\n",
    "    tf.keras.layers.Dense(1,)\n",
    "])\n",
    "\n",
    "\n",
    "model.compile(loss=\"mae\",\n",
    "             optimizer=tf.keras.optimizers.Adam(learning_rate=0.01),\n",
    "              metrics = [\"mae\"])\n",
    "\n",
    "model.fit(X_tensor,y_tensor,epochs=100)"
   ]
  },
  {
   "cell_type": "code",
   "execution_count": 11,
   "metadata": {},
   "outputs": [
    {
     "name": "stdout",
     "output_type": "stream",
     "text": [
      "1/1 [==============================] - 1s 534ms/step\n"
     ]
    },
    {
     "data": {
      "text/plain": [
       "array([[25.63493]], dtype=float32)"
      ]
     },
     "execution_count": 11,
     "metadata": {},
     "output_type": "execute_result"
    }
   ],
   "source": [
    "model.predict([20.0])"
   ]
  },
  {
   "cell_type": "markdown",
   "metadata": {},
   "source": [
    "## Evaluating Model\n",
    "\n",
    "Visualizing the results from the model its a good insight for looking what is going on with the model"
   ]
  },
  {
   "cell_type": "code",
   "execution_count": 12,
   "metadata": {},
   "outputs": [
    {
     "data": {
      "text/plain": [
       "<tf.Tensor: shape=(50,), dtype=int32, numpy=\n",
       "array([-100,  -96,  -92,  -88,  -84,  -80,  -76,  -72,  -68,  -64,  -60,\n",
       "        -56,  -52,  -48,  -44,  -40,  -36,  -32,  -28,  -24,  -20,  -16,\n",
       "        -12,   -8,   -4,    0,    4,    8,   12,   16,   20,   24,   28,\n",
       "         32,   36,   40,   44,   48,   52,   56,   60,   64,   68,   72,\n",
       "         76,   80,   84,   88,   92,   96])>"
      ]
     },
     "execution_count": 12,
     "metadata": {},
     "output_type": "execute_result"
    }
   ],
   "source": [
    "X_augmented = tf.range(-100,100,4)\n",
    "X_augmented"
   ]
  },
  {
   "cell_type": "code",
   "execution_count": 13,
   "metadata": {},
   "outputs": [
    {
     "data": {
      "text/plain": [
       "<tf.Tensor: shape=(50,), dtype=int32, numpy=\n",
       "array([-90, -86, -82, -78, -74, -70, -66, -62, -58, -54, -50, -46, -42,\n",
       "       -38, -34, -30, -26, -22, -18, -14, -10,  -6,  -2,   2,   6,  10,\n",
       "        14,  18,  22,  26,  30,  34,  38,  42,  46,  50,  54,  58,  62,\n",
       "        66,  70,  74,  78,  82,  86,  90,  94,  98, 102, 106])>"
      ]
     },
     "execution_count": 13,
     "metadata": {},
     "output_type": "execute_result"
    }
   ],
   "source": [
    "y_augmented = X_augmented + 10\n",
    "y_augmented"
   ]
  },
  {
   "cell_type": "code",
   "execution_count": 14,
   "metadata": {},
   "outputs": [
    {
     "data": {
      "image/png": "[encoded data removed]",
      "text/plain": [
       "<Figure size 640x480 with 1 Axes>"
      ]
     },
     "metadata": {},
     "output_type": "display_data"
    }
   ],
   "source": [
    "plt.scatter(X_augmented,y_augmented);"
   ]
  },
  {
   "cell_type": "markdown",
   "metadata": {},
   "source": [
    "### The **3** Sets\n",
    "* Training (70-80 %)\n",
    "* Validation (10-15 %)\n",
    "* Testing (10-15 %)"
   ]
  },
  {
   "cell_type": "code",
   "execution_count": 15,
   "metadata": {},
   "outputs": [
    {
     "data": {
      "text/plain": [
       "TensorShape([40])"
      ]
     },
     "execution_count": 15,
     "metadata": {},
     "output_type": "execute_result"
    }
   ],
   "source": [
    "X_train = X_augmented[:40]\n",
    "y_train = y_augmented[:40]\n",
    "X_train.shape"
   ]
  },
  {
   "cell_type": "code",
   "execution_count": 16,
   "metadata": {},
   "outputs": [
    {
     "data": {
      "text/plain": [
       "TensorShape([10])"
      ]
     },
     "execution_count": 16,
     "metadata": {},
     "output_type": "execute_result"
    }
   ],
   "source": [
    "X_test = X_augmented[40:]\n",
    "y_test = y_augmented[40:]\n",
    "X_test.shape"
   ]
  },
  {
   "cell_type": "code",
   "execution_count": 17,
   "metadata": {},
   "outputs": [
    {
     "data": {
      "image/png": "[encoded data removed]",
      "text/plain": [
       "<Figure size 640x480 with 1 Axes>"
      ]
     },
     "metadata": {},
     "output_type": "display_data"
    }
   ],
   "source": [
    "fig, ax = plt.subplots()\n",
    "\n",
    "values = [len(X_train),len(y_train),len(X_test),len(y_test)]\n",
    "labels = [\"X_train\",\"y_train\",\"X_test\",\"y_test\"]\n",
    "\n",
    "ax.bar(labels,values,color=[\"blue\",\"red\"])\n",
    "ax.set_ylabel(\"Count\")\n",
    "ax.set_xlabel(\"Sets\")\n",
    "ax.set_title(\"Data for NN Training\")\n",
    "\n",
    "plt.show()"
   ]
  },
  {
   "cell_type": "markdown",
   "metadata": {},
   "source": [
    "### Getting Classification Report"
   ]
  },
  {
   "cell_type": "code",
   "execution_count": 18,
   "metadata": {},
   "outputs": [
    {
     "name": "stdout",
     "output_type": "stream",
     "text": [
      "Model: \"sequential_3\"\n",
      "_________________________________________________________________\n",
      " Layer (type)                Output Shape              Param #   \n",
      "=================================================================\n",
      " dense_7 (Dense)             (None, 100)               200       \n",
      "                                                                 \n",
      " dense_8 (Dense)             (None, 100)               10100     \n",
      "                                                                 \n",
      " dense_9 (Dense)             (None, 100)               10100     \n",
      "                                                                 \n",
      " dense_10 (Dense)            (None, 1)                 101       \n",
      "                                                                 \n",
      "=================================================================\n",
      "Total params: 20,501\n",
      "Trainable params: 20,501\n",
      "Non-trainable params: 0\n",
      "_________________________________________________________________\n"
     ]
    }
   ],
   "source": [
    "tf.random.set_seed(42)\n",
    "model = tf.keras.Sequential([\n",
    "    tf.keras.layers.Input(shape=(1,)),\n",
    "    tf.keras.layers.Dense(100,activation=\"relu\"),\n",
    "    tf.keras.layers.Dense(100,activation=\"relu\"),\n",
    "    tf.keras.layers.Dense(100,activation=\"relu\"),\n",
    "    tf.keras.layers.Dense(1,)\n",
    "])\n",
    "\n",
    "model.summary()"
   ]
  },
  {
   "cell_type": "markdown",
   "metadata": {},
   "source": [
    "#### Total Params\n",
    "* Number of parameters in the model\n",
    "#### Trainable Params\n",
    "* Parameters (patterns) that the model can update while training\n",
    "#### Non-Trainalbe Params\n",
    "* Non updatable parameters, usefull when using **Transfer Learning**\n",
    "\n"
   ]
  },
  {
   "cell_type": "code",
   "execution_count": 19,
   "metadata": {},
   "outputs": [
    {
     "name": "stdout",
     "output_type": "stream",
     "text": [
      "Epoch 1/100\n",
      "2/2 [==============================] - 3s 28ms/step - loss: 42.3239 - mae: 42.3239\n",
      "Epoch 2/100\n",
      "2/2 [==============================] - 0s 33ms/step - loss: 17.4964 - mae: 17.4964\n",
      "Epoch 3/100\n",
      "2/2 [==============================] - 0s 40ms/step - loss: 8.2081 - mae: 8.2081\n",
      "Epoch 4/100\n",
      "2/2 [==============================] - 0s 36ms/step - loss: 5.0151 - mae: 5.0151\n",
      "Epoch 5/100\n",
      "2/2 [==============================] - 0s 25ms/step - loss: 4.4425 - mae: 4.4425\n",
      "Epoch 6/100\n",
      "2/2 [==============================] - 0s 30ms/step - loss: 4.6476 - mae: 4.6476\n",
      "Epoch 7/100\n",
      "2/2 [==============================] - 0s 44ms/step - loss: 4.1098 - mae: 4.1098\n",
      "Epoch 8/100\n",
      "2/2 [==============================] - 0s 25ms/step - loss: 4.7743 - mae: 4.7743\n",
      "Epoch 9/100\n",
      "2/2 [==============================] - 0s 40ms/step - loss: 8.7568 - mae: 8.7568\n",
      "Epoch 10/100\n",
      "2/2 [==============================] - 0s 35ms/step - loss: 6.4662 - mae: 6.4662\n",
      "Epoch 11/100\n",
      "2/2 [==============================] - 0s 38ms/step - loss: 9.2557 - mae: 9.2557\n",
      "Epoch 12/100\n",
      "2/2 [==============================] - 0s 27ms/step - loss: 7.2556 - mae: 7.2556\n",
      "Epoch 13/100\n",
      "2/2 [==============================] - 0s 31ms/step - loss: 7.2167 - mae: 7.2167\n",
      "Epoch 14/100\n",
      "2/2 [==============================] - 0s 35ms/step - loss: 6.7018 - mae: 6.7018\n",
      "Epoch 15/100\n",
      "2/2 [==============================] - 0s 36ms/step - loss: 5.5017 - mae: 5.5017\n",
      "Epoch 16/100\n",
      "2/2 [==============================] - 0s 48ms/step - loss: 7.4360 - mae: 7.4360\n",
      "Epoch 17/100\n",
      "2/2 [==============================] - 0s 27ms/step - loss: 4.9898 - mae: 4.9898\n",
      "Epoch 18/100\n",
      "2/2 [==============================] - 0s 25ms/step - loss: 7.7894 - mae: 7.7894\n",
      "Epoch 19/100\n",
      "2/2 [==============================] - 0s 33ms/step - loss: 7.3719 - mae: 7.3719\n",
      "Epoch 20/100\n",
      "2/2 [==============================] - 0s 33ms/step - loss: 6.5339 - mae: 6.5339\n",
      "Epoch 21/100\n",
      "2/2 [==============================] - 0s 37ms/step - loss: 5.9272 - mae: 5.9272\n",
      "Epoch 22/100\n",
      "2/2 [==============================] - 0s 33ms/step - loss: 4.5771 - mae: 4.5771\n",
      "Epoch 23/100\n",
      "2/2 [==============================] - 0s 27ms/step - loss: 6.9260 - mae: 6.9260\n",
      "Epoch 24/100\n",
      "2/2 [==============================] - 0s 44ms/step - loss: 6.2545 - mae: 6.2545\n",
      "Epoch 25/100\n",
      "2/2 [==============================] - 0s 31ms/step - loss: 7.5679 - mae: 7.5679\n",
      "Epoch 26/100\n",
      "2/2 [==============================] - 0s 30ms/step - loss: 4.3077 - mae: 4.3077\n",
      "Epoch 27/100\n",
      "2/2 [==============================] - 0s 29ms/step - loss: 5.5731 - mae: 5.5731\n",
      "Epoch 28/100\n",
      "2/2 [==============================] - 0s 30ms/step - loss: 4.0886 - mae: 4.0886\n",
      "Epoch 29/100\n",
      "2/2 [==============================] - 0s 40ms/step - loss: 5.7855 - mae: 5.7855\n",
      "Epoch 30/100\n",
      "2/2 [==============================] - 0s 29ms/step - loss: 4.8673 - mae: 4.8673\n",
      "Epoch 31/100\n",
      "2/2 [==============================] - 0s 26ms/step - loss: 5.5055 - mae: 5.5055\n",
      "Epoch 32/100\n",
      "2/2 [==============================] - 0s 44ms/step - loss: 7.9429 - mae: 7.9429\n",
      "Epoch 33/100\n",
      "2/2 [==============================] - 0s 32ms/step - loss: 3.2331 - mae: 3.2331\n",
      "Epoch 34/100\n",
      "2/2 [==============================] - 0s 44ms/step - loss: 5.7229 - mae: 5.7229\n",
      "Epoch 35/100\n",
      "2/2 [==============================] - 0s 31ms/step - loss: 5.4699 - mae: 5.4699\n",
      "Epoch 36/100\n",
      "2/2 [==============================] - 0s 34ms/step - loss: 2.8656 - mae: 2.8656\n",
      "Epoch 37/100\n",
      "2/2 [==============================] - 0s 33ms/step - loss: 6.9420 - mae: 6.9420\n",
      "Epoch 38/100\n",
      "2/2 [==============================] - 0s 26ms/step - loss: 3.7909 - mae: 3.7909\n",
      "Epoch 39/100\n",
      "2/2 [==============================] - 0s 29ms/step - loss: 3.9382 - mae: 3.9382\n",
      "Epoch 40/100\n",
      "2/2 [==============================] - 0s 26ms/step - loss: 2.4017 - mae: 2.4017\n",
      "Epoch 41/100\n",
      "2/2 [==============================] - 0s 34ms/step - loss: 3.3934 - mae: 3.3934\n",
      "Epoch 42/100\n",
      "2/2 [==============================] - 0s 32ms/step - loss: 2.0201 - mae: 2.0201\n",
      "Epoch 43/100\n",
      "2/2 [==============================] - 0s 45ms/step - loss: 1.5550 - mae: 1.5550\n",
      "Epoch 44/100\n",
      "2/2 [==============================] - 0s 35ms/step - loss: 1.6669 - mae: 1.6669\n",
      "Epoch 45/100\n",
      "2/2 [==============================] - 0s 22ms/step - loss: 1.8430 - mae: 1.8430\n",
      "Epoch 46/100\n",
      "2/2 [==============================] - 0s 30ms/step - loss: 1.0266 - mae: 1.0266\n",
      "Epoch 47/100\n",
      "2/2 [==============================] - 0s 36ms/step - loss: 4.8608 - mae: 4.8608\n",
      "Epoch 48/100\n",
      "2/2 [==============================] - 0s 23ms/step - loss: 1.9071 - mae: 1.9071\n",
      "Epoch 49/100\n",
      "2/2 [==============================] - 0s 24ms/step - loss: 6.1748 - mae: 6.1748\n",
      "Epoch 50/100\n",
      "2/2 [==============================] - 0s 30ms/step - loss: 3.6603 - mae: 3.6603\n",
      "Epoch 51/100\n",
      "2/2 [==============================] - 0s 34ms/step - loss: 4.3279 - mae: 4.3279\n",
      "Epoch 52/100\n",
      "2/2 [==============================] - 0s 26ms/step - loss: 2.4151 - mae: 2.4151\n",
      "Epoch 53/100\n",
      "2/2 [==============================] - 0s 33ms/step - loss: 2.5564 - mae: 2.5564\n",
      "Epoch 54/100\n",
      "2/2 [==============================] - 0s 33ms/step - loss: 1.5598 - mae: 1.5598\n",
      "Epoch 55/100\n",
      "2/2 [==============================] - 0s 21ms/step - loss: 1.8079 - mae: 1.8079\n",
      "Epoch 56/100\n",
      "2/2 [==============================] - 0s 38ms/step - loss: 1.2167 - mae: 1.2167\n",
      "Epoch 57/100\n",
      "2/2 [==============================] - 0s 33ms/step - loss: 1.8965 - mae: 1.8965\n",
      "Epoch 58/100\n",
      "2/2 [==============================] - 0s 24ms/step - loss: 1.4244 - mae: 1.4244\n",
      "Epoch 59/100\n",
      "2/2 [==============================] - 0s 95ms/step - loss: 3.2898 - mae: 3.2898\n",
      "Epoch 60/100\n",
      "2/2 [==============================] - 0s 33ms/step - loss: 2.1149 - mae: 2.1149\n",
      "Epoch 61/100\n",
      "2/2 [==============================] - 0s 27ms/step - loss: 2.2172 - mae: 2.2172\n",
      "Epoch 62/100\n",
      "2/2 [==============================] - 0s 33ms/step - loss: 1.3616 - mae: 1.3616\n",
      "Epoch 63/100\n",
      "2/2 [==============================] - 0s 34ms/step - loss: 1.9456 - mae: 1.9456\n",
      "Epoch 64/100\n",
      "2/2 [==============================] - 0s 40ms/step - loss: 4.8333 - mae: 4.8333\n",
      "Epoch 65/100\n",
      "2/2 [==============================] - 0s 33ms/step - loss: 2.3207 - mae: 2.3207\n",
      "Epoch 66/100\n",
      "2/2 [==============================] - 0s 62ms/step - loss: 1.3351 - mae: 1.3351\n",
      "Epoch 67/100\n",
      "2/2 [==============================] - 0s 30ms/step - loss: 0.9759 - mae: 0.9759\n",
      "Epoch 68/100\n",
      "2/2 [==============================] - 0s 34ms/step - loss: 1.3850 - mae: 1.3850\n",
      "Epoch 69/100\n",
      "2/2 [==============================] - 0s 69ms/step - loss: 3.2018 - mae: 3.2018\n",
      "Epoch 70/100\n",
      "2/2 [==============================] - 0s 28ms/step - loss: 1.8900 - mae: 1.8900\n",
      "Epoch 71/100\n",
      "2/2 [==============================] - 0s 37ms/step - loss: 3.2437 - mae: 3.2437\n",
      "Epoch 72/100\n",
      "2/2 [==============================] - 0s 23ms/step - loss: 1.5373 - mae: 1.5373\n",
      "Epoch 73/100\n",
      "2/2 [==============================] - 0s 33ms/step - loss: 2.5278 - mae: 2.5278\n",
      "Epoch 74/100\n",
      "2/2 [==============================] - 0s 34ms/step - loss: 1.3119 - mae: 1.3119\n",
      "Epoch 75/100\n",
      "2/2 [==============================] - 0s 31ms/step - loss: 2.4628 - mae: 2.4628\n",
      "Epoch 76/100\n",
      "2/2 [==============================] - 0s 26ms/step - loss: 3.3297 - mae: 3.3297\n",
      "Epoch 77/100\n",
      "2/2 [==============================] - 0s 38ms/step - loss: 3.1895 - mae: 3.1895\n",
      "Epoch 78/100\n",
      "2/2 [==============================] - 0s 25ms/step - loss: 4.1357 - mae: 4.1357\n",
      "Epoch 79/100\n",
      "2/2 [==============================] - 0s 26ms/step - loss: 3.5396 - mae: 3.5396\n",
      "Epoch 80/100\n",
      "2/2 [==============================] - 0s 42ms/step - loss: 4.3684 - mae: 4.3684\n",
      "Epoch 81/100\n",
      "2/2 [==============================] - 0s 64ms/step - loss: 7.3826 - mae: 7.3826\n",
      "Epoch 82/100\n",
      "2/2 [==============================] - 0s 74ms/step - loss: 7.8540 - mae: 7.8540\n",
      "Epoch 83/100\n",
      "2/2 [==============================] - 0s 29ms/step - loss: 3.8342 - mae: 3.8342\n",
      "Epoch 84/100\n",
      "2/2 [==============================] - 0s 33ms/step - loss: 2.5549 - mae: 2.5549\n",
      "Epoch 85/100\n",
      "2/2 [==============================] - 0s 24ms/step - loss: 2.5655 - mae: 2.5655\n",
      "Epoch 86/100\n",
      "2/2 [==============================] - 0s 33ms/step - loss: 3.2259 - mae: 3.2259\n",
      "Epoch 87/100\n",
      "2/2 [==============================] - 0s 35ms/step - loss: 4.7048 - mae: 4.7048\n",
      "Epoch 88/100\n",
      "2/2 [==============================] - 0s 36ms/step - loss: 1.8744 - mae: 1.8744\n",
      "Epoch 89/100\n",
      "2/2 [==============================] - 0s 24ms/step - loss: 4.1329 - mae: 4.1329\n",
      "Epoch 90/100\n",
      "2/2 [==============================] - 0s 24ms/step - loss: 1.7775 - mae: 1.7775\n",
      "Epoch 91/100\n",
      "2/2 [==============================] - 0s 20ms/step - loss: 3.5525 - mae: 3.5525\n",
      "Epoch 92/100\n",
      "2/2 [==============================] - 0s 31ms/step - loss: 3.1994 - mae: 3.1994\n",
      "Epoch 93/100\n",
      "2/2 [==============================] - 0s 40ms/step - loss: 3.1213 - mae: 3.1213\n",
      "Epoch 94/100\n",
      "2/2 [==============================] - 0s 30ms/step - loss: 2.2538 - mae: 2.2538\n",
      "Epoch 95/100\n",
      "2/2 [==============================] - 0s 35ms/step - loss: 2.8090 - mae: 2.8090\n",
      "Epoch 96/100\n",
      "2/2 [==============================] - 0s 30ms/step - loss: 4.1654 - mae: 4.1654\n",
      "Epoch 97/100\n",
      "2/2 [==============================] - 0s 35ms/step - loss: 1.9256 - mae: 1.9256\n",
      "Epoch 98/100\n",
      "2/2 [==============================] - 0s 23ms/step - loss: 3.1994 - mae: 3.1994\n",
      "Epoch 99/100\n",
      "2/2 [==============================] - 0s 31ms/step - loss: 1.9192 - mae: 1.9192\n",
      "Epoch 100/100\n",
      "2/2 [==============================] - 0s 30ms/step - loss: 2.0750 - mae: 2.0750\n"
     ]
    },
    {
     "data": {
      "text/plain": [
       "<keras.callbacks.History at 0x27de6e2be80>"
      ]
     },
     "execution_count": 19,
     "metadata": {},
     "output_type": "execute_result"
    }
   ],
   "source": [
    "model.compile(loss=\"mae\",\n",
    "             optimizer=tf.keras.optimizers.Adam(learning_rate=0.01),\n",
    "              metrics = [\"mae\"])\n",
    "\n",
    "model.fit(X_train,y_train,epochs=100)"
   ]
  },
  {
   "cell_type": "markdown",
   "metadata": {},
   "source": [
    "### Model Predictions"
   ]
  },
  {
   "cell_type": "code",
   "execution_count": 20,
   "metadata": {},
   "outputs": [
    {
     "name": "stdout",
     "output_type": "stream",
     "text": [
      "1/1 [==============================] - 0s 436ms/step\n"
     ]
    },
    {
     "data": {
      "text/plain": [
       "array([[ 70.518425],\n",
       "       [ 74.52807 ],\n",
       "       [ 78.53805 ],\n",
       "       [ 82.54793 ],\n",
       "       [ 86.55775 ],\n",
       "       [ 90.56756 ],\n",
       "       [ 94.57737 ],\n",
       "       [ 98.5872  ],\n",
       "       [102.597015],\n",
       "       [106.6068  ]], dtype=float32)"
      ]
     },
     "execution_count": 20,
     "metadata": {},
     "output_type": "execute_result"
    }
   ],
   "source": [
    "y_pred = model.predict(X_test)\n",
    "y_pred"
   ]
  },
  {
   "cell_type": "code",
   "execution_count": 21,
   "metadata": {},
   "outputs": [
    {
     "data": {
      "text/plain": [
       "<tf.Tensor: shape=(10,), dtype=int32, numpy=array([60, 64, 68, 72, 76, 80, 84, 88, 92, 96])>"
      ]
     },
     "execution_count": 21,
     "metadata": {},
     "output_type": "execute_result"
    }
   ],
   "source": [
    "X_test"
   ]
  },
  {
   "cell_type": "code",
   "execution_count": 22,
   "metadata": {},
   "outputs": [
    {
     "data": {
      "text/plain": [
       "<tf.Tensor: shape=(10,), dtype=int32, numpy=array([ 70,  74,  78,  82,  86,  90,  94,  98, 102, 106])>"
      ]
     },
     "execution_count": 22,
     "metadata": {},
     "output_type": "execute_result"
    }
   ],
   "source": [
    "y_test"
   ]
  },
  {
   "cell_type": "code",
   "execution_count": 23,
   "metadata": {},
   "outputs": [],
   "source": [
    "def plot_pred(train_data=X_train,\n",
    "              train_labels=y_train,\n",
    "              test_data=X_test,\n",
    "              test_labels=y_test,\n",
    "              predictios=y_pred):\n",
    "    \n",
    "    ax,fig = plt.subplots()\n",
    "    fig.scatter(train_data,train_labels,c=\"red\",label=\"Training\")\n",
    "    fig.scatter(test_data,test_labels,c=\"blue\",label=\"Testing\")\n",
    "    fig.scatter(test_data,predictios,c=\"green\",label=\"Predictions\")\n",
    "    plt.legend()\n",
    "    plt.show()"
   ]
  },
  {
   "cell_type": "code",
   "execution_count": 24,
   "metadata": {},
   "outputs": [
    {
     "data": {
      "image/png": "[encoded data removed]",
      "text/plain": [
       "<Figure size 640x480 with 1 Axes>"
      ]
     },
     "metadata": {},
     "output_type": "display_data"
    }
   ],
   "source": [
    "plot_pred()"
   ]
  },
  {
   "cell_type": "markdown",
   "metadata": {},
   "source": [
    "### Evaluation on Regression Problems\n",
    "- MAE: Mean Absolute Error\n",
    "- MSE: Mean Squared Error\n",
    "- Huber"
   ]
  },
  {
   "cell_type": "code",
   "execution_count": 25,
   "metadata": {},
   "outputs": [
    {
     "name": "stdout",
     "output_type": "stream",
     "text": [
      "1/1 [==============================] - 1s 1s/step - loss: 0.5626 - mae: 0.5626\n"
     ]
    },
    {
     "data": {
      "text/plain": [
       "[0.5626152157783508, 0.5626152157783508]"
      ]
     },
     "execution_count": 25,
     "metadata": {},
     "output_type": "execute_result"
    }
   ],
   "source": [
    "model.evaluate(X_test,y_test)"
   ]
  },
  {
   "cell_type": "code",
   "execution_count": 26,
   "metadata": {},
   "outputs": [],
   "source": [
    "mae =tf.metrics.mean_absolute_error(y_test,y_pred)"
   ]
  },
  {
   "cell_type": "code",
   "execution_count": 27,
   "metadata": {},
   "outputs": [
    {
     "data": {
      "text/plain": [
       "<tf.Tensor: shape=(10,), dtype=float32, numpy=\n",
       "array([17.58526 , 14.483159, 12.184781, 10.690414, 10.      , 10.113512,\n",
       "       11.030948, 12.752317, 15.277613, 18.606796], dtype=float32)>"
      ]
     },
     "execution_count": 27,
     "metadata": {},
     "output_type": "execute_result"
    }
   ],
   "source": [
    "mae"
   ]
  },
  {
   "cell_type": "code",
   "execution_count": 28,
   "metadata": {},
   "outputs": [],
   "source": [
    "y_pred = tf.squeeze(y_pred)"
   ]
  },
  {
   "cell_type": "code",
   "execution_count": 29,
   "metadata": {},
   "outputs": [
    {
     "data": {
      "text/plain": [
       "(TensorShape([10]), TensorShape([10]))"
      ]
     },
     "execution_count": 29,
     "metadata": {},
     "output_type": "execute_result"
    }
   ],
   "source": [
    "y_pred.shape,y_test.shape"
   ]
  },
  {
   "cell_type": "code",
   "execution_count": 30,
   "metadata": {},
   "outputs": [
    {
     "data": {
      "text/plain": [
       "<tf.Tensor: shape=(), dtype=float32, numpy=0.5626152>"
      ]
     },
     "execution_count": 30,
     "metadata": {},
     "output_type": "execute_result"
    }
   ],
   "source": [
    "mae =tf.metrics.mean_absolute_error(y_test,y_pred)\n",
    "mae"
   ]
  },
  {
   "cell_type": "code",
   "execution_count": 31,
   "metadata": {},
   "outputs": [
    {
     "data": {
      "text/plain": [
       "<tf.Tensor: shape=(), dtype=float32, numpy=0.31733292>"
      ]
     },
     "execution_count": 31,
     "metadata": {},
     "output_type": "execute_result"
    }
   ],
   "source": [
    "mse = tf.metrics.mean_squared_error(y_test,y_pred)\n",
    "mse"
   ]
  },
  {
   "cell_type": "code",
   "execution_count": 32,
   "metadata": {},
   "outputs": [],
   "source": [
    "def metrics(y_true=y_test,y_pred=y_pred):\n",
    "    print(f\"MAE: {tf.metrics.mean_absolute_error(y_true,y_pred)}\")\n",
    "    print(f\"MSE: {tf.metrics.mean_squared_error(y_true,y_pred)}\")\n"
   ]
  },
  {
   "cell_type": "code",
   "execution_count": 33,
   "metadata": {},
   "outputs": [
    {
     "name": "stdout",
     "output_type": "stream",
     "text": [
      "MAE: 0.5626152157783508\n",
      "MSE: 0.317332923412323\n"
     ]
    }
   ],
   "source": [
    "metrics()"
   ]
  },
  {
   "cell_type": "code",
   "execution_count": 34,
   "metadata": {},
   "outputs": [
    {
     "name": "stdout",
     "output_type": "stream",
     "text": [
      "WARNING:tensorflow:5 out of the last 5 calls to <function Model.make_predict_function.<locals>.predict_function at 0x0000027DE6E3FB80> triggered tf.function retracing. Tracing is expensive and the excessive number of tracings could be due to (1) creating @tf.function repeatedly in a loop, (2) passing tensors with different shapes, (3) passing Python objects instead of tensors. For (1), please define your @tf.function outside of the loop. For (2), @tf.function has reduce_retracing=True option that can avoid unnecessary retracing. For (3), please refer to https://www.tensorflow.org/guide/function#controlling_retracing and https://www.tensorflow.org/api_docs/python/tf/function for  more details.\n",
      "1/1 [==============================] - 1s 730ms/step\n"
     ]
    },
    {
     "data": {
      "text/plain": [
       "array([[27.41729]], dtype=float32)"
      ]
     },
     "execution_count": 34,
     "metadata": {},
     "output_type": "execute_result"
    }
   ],
   "source": [
    "model.predict([17.0])"
   ]
  },
  {
   "cell_type": "markdown",
   "metadata": {},
   "source": [
    "### Compare Results from Experimenting\n",
    "There exists multiple ways of comparing models, DataFrames.. and so on\n",
    "The best 2 for me are:\n",
    "* Tensorboard\n",
    "* Weights and Biases\n"
   ]
  },
  {
   "cell_type": "code",
   "execution_count": 35,
   "metadata": {},
   "outputs": [],
   "source": [
    "model.save(\"Model.h5\")"
   ]
  },
  {
   "cell_type": "code",
   "execution_count": 36,
   "metadata": {},
   "outputs": [],
   "source": [
    "model1 = tf.keras.models.load_model(\"models\\Model.h5\")"
   ]
  },
  {
   "cell_type": "code",
   "execution_count": 37,
   "metadata": {},
   "outputs": [
    {
     "name": "stdout",
     "output_type": "stream",
     "text": [
      "Model: \"sequential_7\"\n",
      "_________________________________________________________________\n",
      " Layer (type)                Output Shape              Param #   \n",
      "=================================================================\n",
      " dense_36 (Dense)            (None, 100)               200       \n",
      "                                                                 \n",
      " dense_37 (Dense)            (None, 100)               10100     \n",
      "                                                                 \n",
      " dense_38 (Dense)            (None, 100)               10100     \n",
      "                                                                 \n",
      " dense_39 (Dense)            (None, 1)                 101       \n",
      "                                                                 \n",
      "=================================================================\n",
      "Total params: 20,501\n",
      "Trainable params: 20,501\n",
      "Non-trainable params: 0\n",
      "_________________________________________________________________\n"
     ]
    }
   ],
   "source": [
    "model1.summary()"
   ]
  },
  {
   "cell_type": "markdown",
   "metadata": {},
   "source": [
    "## Train a Model in Greater Dataset"
   ]
  },
  {
   "cell_type": "code",
   "execution_count": 38,
   "metadata": {},
   "outputs": [],
   "source": [
    "import pandas as pd"
   ]
  },
  {
   "cell_type": "code",
   "execution_count": 39,
   "metadata": {},
   "outputs": [],
   "source": [
    "insurance = pd.read_csv(\"https://raw.githubusercontent.com/stedy/Machine-Learning-with-R-datasets/master/insurance.csv\")"
   ]
  },
  {
   "cell_type": "code",
   "execution_count": 40,
   "metadata": {},
   "outputs": [
    {
     "data": {
      "text/html": [
       "<div>\n",
       "<style scoped>\n",
       "    .dataframe tbody tr th:only-of-type {\n",
       "        vertical-align: middle;\n",
       "    }\n",
       "\n",
       "    .dataframe tbody tr th {\n",
       "        vertical-align: top;\n",
       "    }\n",
       "\n",
       "    .dataframe thead th {\n",
       "        text-align: right;\n",
       "    }\n",
       "</style>\n",
       "<table border=\"1\" class=\"dataframe\">\n",
       "  <thead>\n",
       "    <tr style=\"text-align: right;\">\n",
       "      <th></th>\n",
       "      <th>age</th>\n",
       "      <th>sex</th>\n",
       "      <th>bmi</th>\n",
       "      <th>children</th>\n",
       "      <th>smoker</th>\n",
       "      <th>region</th>\n",
       "      <th>charges</th>\n",
       "    </tr>\n",
       "  </thead>\n",
       "  <tbody>\n",
       "    <tr>\n",
       "      <th>0</th>\n",
       "      <td>19</td>\n",
       "      <td>female</td>\n",
       "      <td>27.900</td>\n",
       "      <td>0</td>\n",
       "      <td>yes</td>\n",
       "      <td>southwest</td>\n",
       "      <td>16884.92400</td>\n",
       "    </tr>\n",
       "    <tr>\n",
       "      <th>1</th>\n",
       "      <td>18</td>\n",
       "      <td>male</td>\n",
       "      <td>33.770</td>\n",
       "      <td>1</td>\n",
       "      <td>no</td>\n",
       "      <td>southeast</td>\n",
       "      <td>1725.55230</td>\n",
       "    </tr>\n",
       "    <tr>\n",
       "      <th>2</th>\n",
       "      <td>28</td>\n",
       "      <td>male</td>\n",
       "      <td>33.000</td>\n",
       "      <td>3</td>\n",
       "      <td>no</td>\n",
       "      <td>southeast</td>\n",
       "      <td>4449.46200</td>\n",
       "    </tr>\n",
       "    <tr>\n",
       "      <th>3</th>\n",
       "      <td>33</td>\n",
       "      <td>male</td>\n",
       "      <td>22.705</td>\n",
       "      <td>0</td>\n",
       "      <td>no</td>\n",
       "      <td>northwest</td>\n",
       "      <td>21984.47061</td>\n",
       "    </tr>\n",
       "    <tr>\n",
       "      <th>4</th>\n",
       "      <td>32</td>\n",
       "      <td>male</td>\n",
       "      <td>28.880</td>\n",
       "      <td>0</td>\n",
       "      <td>no</td>\n",
       "      <td>northwest</td>\n",
       "      <td>3866.85520</td>\n",
       "    </tr>\n",
       "    <tr>\n",
       "      <th>...</th>\n",
       "      <td>...</td>\n",
       "      <td>...</td>\n",
       "      <td>...</td>\n",
       "      <td>...</td>\n",
       "      <td>...</td>\n",
       "      <td>...</td>\n",
       "      <td>...</td>\n",
       "    </tr>\n",
       "    <tr>\n",
       "      <th>1333</th>\n",
       "      <td>50</td>\n",
       "      <td>male</td>\n",
       "      <td>30.970</td>\n",
       "      <td>3</td>\n",
       "      <td>no</td>\n",
       "      <td>northwest</td>\n",
       "      <td>10600.54830</td>\n",
       "    </tr>\n",
       "    <tr>\n",
       "      <th>1334</th>\n",
       "      <td>18</td>\n",
       "      <td>female</td>\n",
       "      <td>31.920</td>\n",
       "      <td>0</td>\n",
       "      <td>no</td>\n",
       "      <td>northeast</td>\n",
       "      <td>2205.98080</td>\n",
       "    </tr>\n",
       "    <tr>\n",
       "      <th>1335</th>\n",
       "      <td>18</td>\n",
       "      <td>female</td>\n",
       "      <td>36.850</td>\n",
       "      <td>0</td>\n",
       "      <td>no</td>\n",
       "      <td>southeast</td>\n",
       "      <td>1629.83350</td>\n",
       "    </tr>\n",
       "    <tr>\n",
       "      <th>1336</th>\n",
       "      <td>21</td>\n",
       "      <td>female</td>\n",
       "      <td>25.800</td>\n",
       "      <td>0</td>\n",
       "      <td>no</td>\n",
       "      <td>southwest</td>\n",
       "      <td>2007.94500</td>\n",
       "    </tr>\n",
       "    <tr>\n",
       "      <th>1337</th>\n",
       "      <td>61</td>\n",
       "      <td>female</td>\n",
       "      <td>29.070</td>\n",
       "      <td>0</td>\n",
       "      <td>yes</td>\n",
       "      <td>northwest</td>\n",
       "      <td>29141.36030</td>\n",
       "    </tr>\n",
       "  </tbody>\n",
       "</table>\n",
       "<p>1338 rows × 7 columns</p>\n",
       "</div>"
      ],
      "text/plain": [
       "      age     sex     bmi  children smoker     region      charges\n",
       "0      19  female  27.900         0    yes  southwest  16884.92400\n",
       "1      18    male  33.770         1     no  southeast   1725.55230\n",
       "2      28    male  33.000         3     no  southeast   4449.46200\n",
       "3      33    male  22.705         0     no  northwest  21984.47061\n",
       "4      32    male  28.880         0     no  northwest   3866.85520\n",
       "...   ...     ...     ...       ...    ...        ...          ...\n",
       "1333   50    male  30.970         3     no  northwest  10600.54830\n",
       "1334   18  female  31.920         0     no  northeast   2205.98080\n",
       "1335   18  female  36.850         0     no  southeast   1629.83350\n",
       "1336   21  female  25.800         0     no  southwest   2007.94500\n",
       "1337   61  female  29.070         0    yes  northwest  29141.36030\n",
       "\n",
       "[1338 rows x 7 columns]"
      ]
     },
     "execution_count": 40,
     "metadata": {},
     "output_type": "execute_result"
    }
   ],
   "source": [
    "insurance"
   ]
  },
  {
   "cell_type": "code",
   "execution_count": 41,
   "metadata": {},
   "outputs": [
    {
     "name": "stdout",
     "output_type": "stream",
     "text": [
      "<class 'pandas.core.frame.DataFrame'>\n",
      "RangeIndex: 1338 entries, 0 to 1337\n",
      "Data columns (total 7 columns):\n",
      " #   Column    Non-Null Count  Dtype  \n",
      "---  ------    --------------  -----  \n",
      " 0   age       1338 non-null   int64  \n",
      " 1   sex       1338 non-null   object \n",
      " 2   bmi       1338 non-null   float64\n",
      " 3   children  1338 non-null   int64  \n",
      " 4   smoker    1338 non-null   object \n",
      " 5   region    1338 non-null   object \n",
      " 6   charges   1338 non-null   float64\n",
      "dtypes: float64(2), int64(2), object(3)\n",
      "memory usage: 73.3+ KB\n"
     ]
    }
   ],
   "source": [
    "insurance.info()"
   ]
  },
  {
   "cell_type": "code",
   "execution_count": 42,
   "metadata": {},
   "outputs": [],
   "source": [
    "ins = pd.get_dummies(insurance)"
   ]
  },
  {
   "cell_type": "code",
   "execution_count": 43,
   "metadata": {},
   "outputs": [
    {
     "data": {
      "text/html": [
       "<div>\n",
       "<style scoped>\n",
       "    .dataframe tbody tr th:only-of-type {\n",
       "        vertical-align: middle;\n",
       "    }\n",
       "\n",
       "    .dataframe tbody tr th {\n",
       "        vertical-align: top;\n",
       "    }\n",
       "\n",
       "    .dataframe thead th {\n",
       "        text-align: right;\n",
       "    }\n",
       "</style>\n",
       "<table border=\"1\" class=\"dataframe\">\n",
       "  <thead>\n",
       "    <tr style=\"text-align: right;\">\n",
       "      <th></th>\n",
       "      <th>age</th>\n",
       "      <th>bmi</th>\n",
       "      <th>children</th>\n",
       "      <th>charges</th>\n",
       "      <th>sex_female</th>\n",
       "      <th>sex_male</th>\n",
       "      <th>smoker_no</th>\n",
       "      <th>smoker_yes</th>\n",
       "      <th>region_northeast</th>\n",
       "      <th>region_northwest</th>\n",
       "      <th>region_southeast</th>\n",
       "      <th>region_southwest</th>\n",
       "    </tr>\n",
       "  </thead>\n",
       "  <tbody>\n",
       "    <tr>\n",
       "      <th>0</th>\n",
       "      <td>19</td>\n",
       "      <td>27.900</td>\n",
       "      <td>0</td>\n",
       "      <td>16884.92400</td>\n",
       "      <td>True</td>\n",
       "      <td>False</td>\n",
       "      <td>False</td>\n",
       "      <td>True</td>\n",
       "      <td>False</td>\n",
       "      <td>False</td>\n",
       "      <td>False</td>\n",
       "      <td>True</td>\n",
       "    </tr>\n",
       "    <tr>\n",
       "      <th>1</th>\n",
       "      <td>18</td>\n",
       "      <td>33.770</td>\n",
       "      <td>1</td>\n",
       "      <td>1725.55230</td>\n",
       "      <td>False</td>\n",
       "      <td>True</td>\n",
       "      <td>True</td>\n",
       "      <td>False</td>\n",
       "      <td>False</td>\n",
       "      <td>False</td>\n",
       "      <td>True</td>\n",
       "      <td>False</td>\n",
       "    </tr>\n",
       "    <tr>\n",
       "      <th>2</th>\n",
       "      <td>28</td>\n",
       "      <td>33.000</td>\n",
       "      <td>3</td>\n",
       "      <td>4449.46200</td>\n",
       "      <td>False</td>\n",
       "      <td>True</td>\n",
       "      <td>True</td>\n",
       "      <td>False</td>\n",
       "      <td>False</td>\n",
       "      <td>False</td>\n",
       "      <td>True</td>\n",
       "      <td>False</td>\n",
       "    </tr>\n",
       "    <tr>\n",
       "      <th>3</th>\n",
       "      <td>33</td>\n",
       "      <td>22.705</td>\n",
       "      <td>0</td>\n",
       "      <td>21984.47061</td>\n",
       "      <td>False</td>\n",
       "      <td>True</td>\n",
       "      <td>True</td>\n",
       "      <td>False</td>\n",
       "      <td>False</td>\n",
       "      <td>True</td>\n",
       "      <td>False</td>\n",
       "      <td>False</td>\n",
       "    </tr>\n",
       "    <tr>\n",
       "      <th>4</th>\n",
       "      <td>32</td>\n",
       "      <td>28.880</td>\n",
       "      <td>0</td>\n",
       "      <td>3866.85520</td>\n",
       "      <td>False</td>\n",
       "      <td>True</td>\n",
       "      <td>True</td>\n",
       "      <td>False</td>\n",
       "      <td>False</td>\n",
       "      <td>True</td>\n",
       "      <td>False</td>\n",
       "      <td>False</td>\n",
       "    </tr>\n",
       "    <tr>\n",
       "      <th>...</th>\n",
       "      <td>...</td>\n",
       "      <td>...</td>\n",
       "      <td>...</td>\n",
       "      <td>...</td>\n",
       "      <td>...</td>\n",
       "      <td>...</td>\n",
       "      <td>...</td>\n",
       "      <td>...</td>\n",
       "      <td>...</td>\n",
       "      <td>...</td>\n",
       "      <td>...</td>\n",
       "      <td>...</td>\n",
       "    </tr>\n",
       "    <tr>\n",
       "      <th>1333</th>\n",
       "      <td>50</td>\n",
       "      <td>30.970</td>\n",
       "      <td>3</td>\n",
       "      <td>10600.54830</td>\n",
       "      <td>False</td>\n",
       "      <td>True</td>\n",
       "      <td>True</td>\n",
       "      <td>False</td>\n",
       "      <td>False</td>\n",
       "      <td>True</td>\n",
       "      <td>False</td>\n",
       "      <td>False</td>\n",
       "    </tr>\n",
       "    <tr>\n",
       "      <th>1334</th>\n",
       "      <td>18</td>\n",
       "      <td>31.920</td>\n",
       "      <td>0</td>\n",
       "      <td>2205.98080</td>\n",
       "      <td>True</td>\n",
       "      <td>False</td>\n",
       "      <td>True</td>\n",
       "      <td>False</td>\n",
       "      <td>True</td>\n",
       "      <td>False</td>\n",
       "      <td>False</td>\n",
       "      <td>False</td>\n",
       "    </tr>\n",
       "    <tr>\n",
       "      <th>1335</th>\n",
       "      <td>18</td>\n",
       "      <td>36.850</td>\n",
       "      <td>0</td>\n",
       "      <td>1629.83350</td>\n",
       "      <td>True</td>\n",
       "      <td>False</td>\n",
       "      <td>True</td>\n",
       "      <td>False</td>\n",
       "      <td>False</td>\n",
       "      <td>False</td>\n",
       "      <td>True</td>\n",
       "      <td>False</td>\n",
       "    </tr>\n",
       "    <tr>\n",
       "      <th>1336</th>\n",
       "      <td>21</td>\n",
       "      <td>25.800</td>\n",
       "      <td>0</td>\n",
       "      <td>2007.94500</td>\n",
       "      <td>True</td>\n",
       "      <td>False</td>\n",
       "      <td>True</td>\n",
       "      <td>False</td>\n",
       "      <td>False</td>\n",
       "      <td>False</td>\n",
       "      <td>False</td>\n",
       "      <td>True</td>\n",
       "    </tr>\n",
       "    <tr>\n",
       "      <th>1337</th>\n",
       "      <td>61</td>\n",
       "      <td>29.070</td>\n",
       "      <td>0</td>\n",
       "      <td>29141.36030</td>\n",
       "      <td>True</td>\n",
       "      <td>False</td>\n",
       "      <td>False</td>\n",
       "      <td>True</td>\n",
       "      <td>False</td>\n",
       "      <td>True</td>\n",
       "      <td>False</td>\n",
       "      <td>False</td>\n",
       "    </tr>\n",
       "  </tbody>\n",
       "</table>\n",
       "<p>1338 rows × 12 columns</p>\n",
       "</div>"
      ],
      "text/plain": [
       "      age     bmi  children      charges  sex_female  sex_male  smoker_no  \\\n",
       "0      19  27.900         0  16884.92400        True     False      False   \n",
       "1      18  33.770         1   1725.55230       False      True       True   \n",
       "2      28  33.000         3   4449.46200       False      True       True   \n",
       "3      33  22.705         0  21984.47061       False      True       True   \n",
       "4      32  28.880         0   3866.85520       False      True       True   \n",
       "...   ...     ...       ...          ...         ...       ...        ...   \n",
       "1333   50  30.970         3  10600.54830       False      True       True   \n",
       "1334   18  31.920         0   2205.98080        True     False       True   \n",
       "1335   18  36.850         0   1629.83350        True     False       True   \n",
       "1336   21  25.800         0   2007.94500        True     False       True   \n",
       "1337   61  29.070         0  29141.36030        True     False      False   \n",
       "\n",
       "      smoker_yes  region_northeast  region_northwest  region_southeast  \\\n",
       "0           True             False             False             False   \n",
       "1          False             False             False              True   \n",
       "2          False             False             False              True   \n",
       "3          False             False              True             False   \n",
       "4          False             False              True             False   \n",
       "...          ...               ...               ...               ...   \n",
       "1333       False             False              True             False   \n",
       "1334       False              True             False             False   \n",
       "1335       False             False             False              True   \n",
       "1336       False             False             False             False   \n",
       "1337        True             False              True             False   \n",
       "\n",
       "      region_southwest  \n",
       "0                 True  \n",
       "1                False  \n",
       "2                False  \n",
       "3                False  \n",
       "4                False  \n",
       "...                ...  \n",
       "1333             False  \n",
       "1334             False  \n",
       "1335             False  \n",
       "1336              True  \n",
       "1337             False  \n",
       "\n",
       "[1338 rows x 12 columns]"
      ]
     },
     "execution_count": 43,
     "metadata": {},
     "output_type": "execute_result"
    }
   ],
   "source": [
    "ins"
   ]
  },
  {
   "cell_type": "code",
   "execution_count": 44,
   "metadata": {},
   "outputs": [],
   "source": [
    "#ins = ins.astype({\"age\":\"float64\",\"children\":\"float64\",})"
   ]
  },
  {
   "cell_type": "code",
   "execution_count": 45,
   "metadata": {},
   "outputs": [
    {
     "data": {
      "text/plain": [
       "age                   int64\n",
       "bmi                 float64\n",
       "children              int64\n",
       "charges             float64\n",
       "sex_female             bool\n",
       "sex_male               bool\n",
       "smoker_no              bool\n",
       "smoker_yes             bool\n",
       "region_northeast       bool\n",
       "region_northwest       bool\n",
       "region_southeast       bool\n",
       "region_southwest       bool\n",
       "dtype: object"
      ]
     },
     "execution_count": 45,
     "metadata": {},
     "output_type": "execute_result"
    }
   ],
   "source": [
    "ins.dtypes"
   ]
  },
  {
   "cell_type": "code",
   "execution_count": 46,
   "metadata": {},
   "outputs": [
    {
     "data": {
      "text/html": [
       "<div>\n",
       "<style scoped>\n",
       "    .dataframe tbody tr th:only-of-type {\n",
       "        vertical-align: middle;\n",
       "    }\n",
       "\n",
       "    .dataframe tbody tr th {\n",
       "        vertical-align: top;\n",
       "    }\n",
       "\n",
       "    .dataframe thead th {\n",
       "        text-align: right;\n",
       "    }\n",
       "</style>\n",
       "<table border=\"1\" class=\"dataframe\">\n",
       "  <thead>\n",
       "    <tr style=\"text-align: right;\">\n",
       "      <th></th>\n",
       "      <th>age</th>\n",
       "      <th>bmi</th>\n",
       "      <th>children</th>\n",
       "      <th>charges</th>\n",
       "      <th>sex_female</th>\n",
       "      <th>sex_male</th>\n",
       "      <th>smoker_no</th>\n",
       "      <th>smoker_yes</th>\n",
       "      <th>region_northeast</th>\n",
       "      <th>region_northwest</th>\n",
       "      <th>region_southeast</th>\n",
       "      <th>region_southwest</th>\n",
       "    </tr>\n",
       "  </thead>\n",
       "  <tbody>\n",
       "    <tr>\n",
       "      <th>0</th>\n",
       "      <td>19</td>\n",
       "      <td>27.900</td>\n",
       "      <td>0</td>\n",
       "      <td>16884.92400</td>\n",
       "      <td>True</td>\n",
       "      <td>False</td>\n",
       "      <td>False</td>\n",
       "      <td>True</td>\n",
       "      <td>False</td>\n",
       "      <td>False</td>\n",
       "      <td>False</td>\n",
       "      <td>True</td>\n",
       "    </tr>\n",
       "    <tr>\n",
       "      <th>1</th>\n",
       "      <td>18</td>\n",
       "      <td>33.770</td>\n",
       "      <td>1</td>\n",
       "      <td>1725.55230</td>\n",
       "      <td>False</td>\n",
       "      <td>True</td>\n",
       "      <td>True</td>\n",
       "      <td>False</td>\n",
       "      <td>False</td>\n",
       "      <td>False</td>\n",
       "      <td>True</td>\n",
       "      <td>False</td>\n",
       "    </tr>\n",
       "    <tr>\n",
       "      <th>2</th>\n",
       "      <td>28</td>\n",
       "      <td>33.000</td>\n",
       "      <td>3</td>\n",
       "      <td>4449.46200</td>\n",
       "      <td>False</td>\n",
       "      <td>True</td>\n",
       "      <td>True</td>\n",
       "      <td>False</td>\n",
       "      <td>False</td>\n",
       "      <td>False</td>\n",
       "      <td>True</td>\n",
       "      <td>False</td>\n",
       "    </tr>\n",
       "    <tr>\n",
       "      <th>3</th>\n",
       "      <td>33</td>\n",
       "      <td>22.705</td>\n",
       "      <td>0</td>\n",
       "      <td>21984.47061</td>\n",
       "      <td>False</td>\n",
       "      <td>True</td>\n",
       "      <td>True</td>\n",
       "      <td>False</td>\n",
       "      <td>False</td>\n",
       "      <td>True</td>\n",
       "      <td>False</td>\n",
       "      <td>False</td>\n",
       "    </tr>\n",
       "    <tr>\n",
       "      <th>4</th>\n",
       "      <td>32</td>\n",
       "      <td>28.880</td>\n",
       "      <td>0</td>\n",
       "      <td>3866.85520</td>\n",
       "      <td>False</td>\n",
       "      <td>True</td>\n",
       "      <td>True</td>\n",
       "      <td>False</td>\n",
       "      <td>False</td>\n",
       "      <td>True</td>\n",
       "      <td>False</td>\n",
       "      <td>False</td>\n",
       "    </tr>\n",
       "    <tr>\n",
       "      <th>...</th>\n",
       "      <td>...</td>\n",
       "      <td>...</td>\n",
       "      <td>...</td>\n",
       "      <td>...</td>\n",
       "      <td>...</td>\n",
       "      <td>...</td>\n",
       "      <td>...</td>\n",
       "      <td>...</td>\n",
       "      <td>...</td>\n",
       "      <td>...</td>\n",
       "      <td>...</td>\n",
       "      <td>...</td>\n",
       "    </tr>\n",
       "    <tr>\n",
       "      <th>1333</th>\n",
       "      <td>50</td>\n",
       "      <td>30.970</td>\n",
       "      <td>3</td>\n",
       "      <td>10600.54830</td>\n",
       "      <td>False</td>\n",
       "      <td>True</td>\n",
       "      <td>True</td>\n",
       "      <td>False</td>\n",
       "      <td>False</td>\n",
       "      <td>True</td>\n",
       "      <td>False</td>\n",
       "      <td>False</td>\n",
       "    </tr>\n",
       "    <tr>\n",
       "      <th>1334</th>\n",
       "      <td>18</td>\n",
       "      <td>31.920</td>\n",
       "      <td>0</td>\n",
       "      <td>2205.98080</td>\n",
       "      <td>True</td>\n",
       "      <td>False</td>\n",
       "      <td>True</td>\n",
       "      <td>False</td>\n",
       "      <td>True</td>\n",
       "      <td>False</td>\n",
       "      <td>False</td>\n",
       "      <td>False</td>\n",
       "    </tr>\n",
       "    <tr>\n",
       "      <th>1335</th>\n",
       "      <td>18</td>\n",
       "      <td>36.850</td>\n",
       "      <td>0</td>\n",
       "      <td>1629.83350</td>\n",
       "      <td>True</td>\n",
       "      <td>False</td>\n",
       "      <td>True</td>\n",
       "      <td>False</td>\n",
       "      <td>False</td>\n",
       "      <td>False</td>\n",
       "      <td>True</td>\n",
       "      <td>False</td>\n",
       "    </tr>\n",
       "    <tr>\n",
       "      <th>1336</th>\n",
       "      <td>21</td>\n",
       "      <td>25.800</td>\n",
       "      <td>0</td>\n",
       "      <td>2007.94500</td>\n",
       "      <td>True</td>\n",
       "      <td>False</td>\n",
       "      <td>True</td>\n",
       "      <td>False</td>\n",
       "      <td>False</td>\n",
       "      <td>False</td>\n",
       "      <td>False</td>\n",
       "      <td>True</td>\n",
       "    </tr>\n",
       "    <tr>\n",
       "      <th>1337</th>\n",
       "      <td>61</td>\n",
       "      <td>29.070</td>\n",
       "      <td>0</td>\n",
       "      <td>29141.36030</td>\n",
       "      <td>True</td>\n",
       "      <td>False</td>\n",
       "      <td>False</td>\n",
       "      <td>True</td>\n",
       "      <td>False</td>\n",
       "      <td>True</td>\n",
       "      <td>False</td>\n",
       "      <td>False</td>\n",
       "    </tr>\n",
       "  </tbody>\n",
       "</table>\n",
       "<p>1338 rows × 12 columns</p>\n",
       "</div>"
      ],
      "text/plain": [
       "      age     bmi  children      charges  sex_female  sex_male  smoker_no  \\\n",
       "0      19  27.900         0  16884.92400        True     False      False   \n",
       "1      18  33.770         1   1725.55230       False      True       True   \n",
       "2      28  33.000         3   4449.46200       False      True       True   \n",
       "3      33  22.705         0  21984.47061       False      True       True   \n",
       "4      32  28.880         0   3866.85520       False      True       True   \n",
       "...   ...     ...       ...          ...         ...       ...        ...   \n",
       "1333   50  30.970         3  10600.54830       False      True       True   \n",
       "1334   18  31.920         0   2205.98080        True     False       True   \n",
       "1335   18  36.850         0   1629.83350        True     False       True   \n",
       "1336   21  25.800         0   2007.94500        True     False       True   \n",
       "1337   61  29.070         0  29141.36030        True     False      False   \n",
       "\n",
       "      smoker_yes  region_northeast  region_northwest  region_southeast  \\\n",
       "0           True             False             False             False   \n",
       "1          False             False             False              True   \n",
       "2          False             False             False              True   \n",
       "3          False             False              True             False   \n",
       "4          False             False              True             False   \n",
       "...          ...               ...               ...               ...   \n",
       "1333       False             False              True             False   \n",
       "1334       False              True             False             False   \n",
       "1335       False             False             False              True   \n",
       "1336       False             False             False             False   \n",
       "1337        True             False              True             False   \n",
       "\n",
       "      region_southwest  \n",
       "0                 True  \n",
       "1                False  \n",
       "2                False  \n",
       "3                False  \n",
       "4                False  \n",
       "...                ...  \n",
       "1333             False  \n",
       "1334             False  \n",
       "1335             False  \n",
       "1336              True  \n",
       "1337             False  \n",
       "\n",
       "[1338 rows x 12 columns]"
      ]
     },
     "execution_count": 46,
     "metadata": {},
     "output_type": "execute_result"
    }
   ],
   "source": [
    "ins"
   ]
  },
  {
   "cell_type": "code",
   "execution_count": 47,
   "metadata": {},
   "outputs": [],
   "source": [
    "X = ins.drop([\"charges\"],axis=1)"
   ]
  },
  {
   "cell_type": "code",
   "execution_count": 48,
   "metadata": {},
   "outputs": [
    {
     "data": {
      "text/html": [
       "<div>\n",
       "<style scoped>\n",
       "    .dataframe tbody tr th:only-of-type {\n",
       "        vertical-align: middle;\n",
       "    }\n",
       "\n",
       "    .dataframe tbody tr th {\n",
       "        vertical-align: top;\n",
       "    }\n",
       "\n",
       "    .dataframe thead th {\n",
       "        text-align: right;\n",
       "    }\n",
       "</style>\n",
       "<table border=\"1\" class=\"dataframe\">\n",
       "  <thead>\n",
       "    <tr style=\"text-align: right;\">\n",
       "      <th></th>\n",
       "      <th>age</th>\n",
       "      <th>bmi</th>\n",
       "      <th>children</th>\n",
       "      <th>sex_female</th>\n",
       "      <th>sex_male</th>\n",
       "      <th>smoker_no</th>\n",
       "      <th>smoker_yes</th>\n",
       "      <th>region_northeast</th>\n",
       "      <th>region_northwest</th>\n",
       "      <th>region_southeast</th>\n",
       "      <th>region_southwest</th>\n",
       "    </tr>\n",
       "  </thead>\n",
       "  <tbody>\n",
       "    <tr>\n",
       "      <th>0</th>\n",
       "      <td>19</td>\n",
       "      <td>27.900</td>\n",
       "      <td>0</td>\n",
       "      <td>True</td>\n",
       "      <td>False</td>\n",
       "      <td>False</td>\n",
       "      <td>True</td>\n",
       "      <td>False</td>\n",
       "      <td>False</td>\n",
       "      <td>False</td>\n",
       "      <td>True</td>\n",
       "    </tr>\n",
       "    <tr>\n",
       "      <th>1</th>\n",
       "      <td>18</td>\n",
       "      <td>33.770</td>\n",
       "      <td>1</td>\n",
       "      <td>False</td>\n",
       "      <td>True</td>\n",
       "      <td>True</td>\n",
       "      <td>False</td>\n",
       "      <td>False</td>\n",
       "      <td>False</td>\n",
       "      <td>True</td>\n",
       "      <td>False</td>\n",
       "    </tr>\n",
       "    <tr>\n",
       "      <th>2</th>\n",
       "      <td>28</td>\n",
       "      <td>33.000</td>\n",
       "      <td>3</td>\n",
       "      <td>False</td>\n",
       "      <td>True</td>\n",
       "      <td>True</td>\n",
       "      <td>False</td>\n",
       "      <td>False</td>\n",
       "      <td>False</td>\n",
       "      <td>True</td>\n",
       "      <td>False</td>\n",
       "    </tr>\n",
       "    <tr>\n",
       "      <th>3</th>\n",
       "      <td>33</td>\n",
       "      <td>22.705</td>\n",
       "      <td>0</td>\n",
       "      <td>False</td>\n",
       "      <td>True</td>\n",
       "      <td>True</td>\n",
       "      <td>False</td>\n",
       "      <td>False</td>\n",
       "      <td>True</td>\n",
       "      <td>False</td>\n",
       "      <td>False</td>\n",
       "    </tr>\n",
       "    <tr>\n",
       "      <th>4</th>\n",
       "      <td>32</td>\n",
       "      <td>28.880</td>\n",
       "      <td>0</td>\n",
       "      <td>False</td>\n",
       "      <td>True</td>\n",
       "      <td>True</td>\n",
       "      <td>False</td>\n",
       "      <td>False</td>\n",
       "      <td>True</td>\n",
       "      <td>False</td>\n",
       "      <td>False</td>\n",
       "    </tr>\n",
       "    <tr>\n",
       "      <th>...</th>\n",
       "      <td>...</td>\n",
       "      <td>...</td>\n",
       "      <td>...</td>\n",
       "      <td>...</td>\n",
       "      <td>...</td>\n",
       "      <td>...</td>\n",
       "      <td>...</td>\n",
       "      <td>...</td>\n",
       "      <td>...</td>\n",
       "      <td>...</td>\n",
       "      <td>...</td>\n",
       "    </tr>\n",
       "    <tr>\n",
       "      <th>1333</th>\n",
       "      <td>50</td>\n",
       "      <td>30.970</td>\n",
       "      <td>3</td>\n",
       "      <td>False</td>\n",
       "      <td>True</td>\n",
       "      <td>True</td>\n",
       "      <td>False</td>\n",
       "      <td>False</td>\n",
       "      <td>True</td>\n",
       "      <td>False</td>\n",
       "      <td>False</td>\n",
       "    </tr>\n",
       "    <tr>\n",
       "      <th>1334</th>\n",
       "      <td>18</td>\n",
       "      <td>31.920</td>\n",
       "      <td>0</td>\n",
       "      <td>True</td>\n",
       "      <td>False</td>\n",
       "      <td>True</td>\n",
       "      <td>False</td>\n",
       "      <td>True</td>\n",
       "      <td>False</td>\n",
       "      <td>False</td>\n",
       "      <td>False</td>\n",
       "    </tr>\n",
       "    <tr>\n",
       "      <th>1335</th>\n",
       "      <td>18</td>\n",
       "      <td>36.850</td>\n",
       "      <td>0</td>\n",
       "      <td>True</td>\n",
       "      <td>False</td>\n",
       "      <td>True</td>\n",
       "      <td>False</td>\n",
       "      <td>False</td>\n",
       "      <td>False</td>\n",
       "      <td>True</td>\n",
       "      <td>False</td>\n",
       "    </tr>\n",
       "    <tr>\n",
       "      <th>1336</th>\n",
       "      <td>21</td>\n",
       "      <td>25.800</td>\n",
       "      <td>0</td>\n",
       "      <td>True</td>\n",
       "      <td>False</td>\n",
       "      <td>True</td>\n",
       "      <td>False</td>\n",
       "      <td>False</td>\n",
       "      <td>False</td>\n",
       "      <td>False</td>\n",
       "      <td>True</td>\n",
       "    </tr>\n",
       "    <tr>\n",
       "      <th>1337</th>\n",
       "      <td>61</td>\n",
       "      <td>29.070</td>\n",
       "      <td>0</td>\n",
       "      <td>True</td>\n",
       "      <td>False</td>\n",
       "      <td>False</td>\n",
       "      <td>True</td>\n",
       "      <td>False</td>\n",
       "      <td>True</td>\n",
       "      <td>False</td>\n",
       "      <td>False</td>\n",
       "    </tr>\n",
       "  </tbody>\n",
       "</table>\n",
       "<p>1338 rows × 11 columns</p>\n",
       "</div>"
      ],
      "text/plain": [
       "      age     bmi  children  sex_female  sex_male  smoker_no  smoker_yes  \\\n",
       "0      19  27.900         0        True     False      False        True   \n",
       "1      18  33.770         1       False      True       True       False   \n",
       "2      28  33.000         3       False      True       True       False   \n",
       "3      33  22.705         0       False      True       True       False   \n",
       "4      32  28.880         0       False      True       True       False   \n",
       "...   ...     ...       ...         ...       ...        ...         ...   \n",
       "1333   50  30.970         3       False      True       True       False   \n",
       "1334   18  31.920         0        True     False       True       False   \n",
       "1335   18  36.850         0        True     False       True       False   \n",
       "1336   21  25.800         0        True     False       True       False   \n",
       "1337   61  29.070         0        True     False      False        True   \n",
       "\n",
       "      region_northeast  region_northwest  region_southeast  region_southwest  \n",
       "0                False             False             False              True  \n",
       "1                False             False              True             False  \n",
       "2                False             False              True             False  \n",
       "3                False              True             False             False  \n",
       "4                False              True             False             False  \n",
       "...                ...               ...               ...               ...  \n",
       "1333             False              True             False             False  \n",
       "1334              True             False             False             False  \n",
       "1335             False             False              True             False  \n",
       "1336             False             False             False              True  \n",
       "1337             False              True             False             False  \n",
       "\n",
       "[1338 rows x 11 columns]"
      ]
     },
     "execution_count": 48,
     "metadata": {},
     "output_type": "execute_result"
    }
   ],
   "source": [
    "X"
   ]
  },
  {
   "cell_type": "code",
   "execution_count": 49,
   "metadata": {},
   "outputs": [],
   "source": [
    "y = ins[\"charges\"]"
   ]
  },
  {
   "cell_type": "code",
   "execution_count": 50,
   "metadata": {},
   "outputs": [
    {
     "data": {
      "text/plain": [
       "0       16884.92400\n",
       "1        1725.55230\n",
       "2        4449.46200\n",
       "3       21984.47061\n",
       "4        3866.85520\n",
       "           ...     \n",
       "1333    10600.54830\n",
       "1334     2205.98080\n",
       "1335     1629.83350\n",
       "1336     2007.94500\n",
       "1337    29141.36030\n",
       "Name: charges, Length: 1338, dtype: float64"
      ]
     },
     "execution_count": 50,
     "metadata": {},
     "output_type": "execute_result"
    }
   ],
   "source": [
    "y"
   ]
  },
  {
   "cell_type": "markdown",
   "metadata": {},
   "source": [
    "### Transforming DataFrame into Tensors\n",
    "\n",
    "The pandas DataFrame object is not compatible with a NN input, it should be tranformed into numerical and in tensor or numpy array dtype, it's possible to make this with built-in tf function or with numpy"
   ]
  },
  {
   "cell_type": "markdown",
   "metadata": {},
   "source": [
    "#### Numpy Solution\n",
    "The numpy solution consists on turning the whole DataFrame into an array, also turing the data into float32/64 the most compatible dtypes with tf\n",
    "\n",
    "*Update*: Viable option, works well until now"
   ]
  },
  {
   "cell_type": "code",
   "execution_count": 51,
   "metadata": {},
   "outputs": [],
   "source": [
    "X = np.asarray(X).astype(\"float32\")\n",
    "y = np.asarray(y).astype(\"float32\")"
   ]
  },
  {
   "cell_type": "markdown",
   "metadata": {},
   "source": [
    "#### Tf Solution\n",
    "\n",
    "Also with tensorflow we can turn the DataFrame into a tensor dtype with the float32/64 format\n",
    "\n",
    "*Update*: This option results in dtype error, searching for reason..."
   ]
  },
  {
   "cell_type": "code",
   "execution_count": 52,
   "metadata": {},
   "outputs": [],
   "source": [
    "#X = tf.convert_to_tensor(X,dtype=tf.float32)\n",
    "#y = tf.convert_to_tensor(y,dtype=tf.float32)\n"
   ]
  },
  {
   "cell_type": "code",
   "execution_count": 53,
   "metadata": {},
   "outputs": [
    {
     "data": {
      "text/plain": [
       "array([19. , 27.9,  0. ,  1. ,  0. ,  0. ,  1. ,  0. ,  0. ,  0. ,  1. ],\n",
       "      dtype=float32)"
      ]
     },
     "execution_count": 53,
     "metadata": {},
     "output_type": "execute_result"
    }
   ],
   "source": [
    "X[0]"
   ]
  },
  {
   "cell_type": "code",
   "execution_count": 54,
   "metadata": {},
   "outputs": [
    {
     "data": {
      "text/plain": [
       "numpy.float32"
      ]
     },
     "execution_count": 54,
     "metadata": {},
     "output_type": "execute_result"
    }
   ],
   "source": [
    "type(y[0])"
   ]
  },
  {
   "cell_type": "code",
   "execution_count": 55,
   "metadata": {},
   "outputs": [],
   "source": [
    "from sklearn.model_selection import train_test_split"
   ]
  },
  {
   "cell_type": "code",
   "execution_count": 56,
   "metadata": {},
   "outputs": [],
   "source": [
    "X_train,X_test,y_train,y_test = train_test_split(X,y,test_size=0.20)"
   ]
  },
  {
   "cell_type": "code",
   "execution_count": 57,
   "metadata": {},
   "outputs": [
    {
     "data": {
      "text/plain": [
       "((1070, 11), (268, 11), (1070,), (268,))"
      ]
     },
     "execution_count": 57,
     "metadata": {},
     "output_type": "execute_result"
    }
   ],
   "source": [
    "X_train.shape,X_test.shape,y_train.shape,y_test.shape"
   ]
  },
  {
   "cell_type": "code",
   "execution_count": 58,
   "metadata": {},
   "outputs": [],
   "source": [
    "from keras.layers import Dense"
   ]
  },
  {
   "cell_type": "code",
   "execution_count": 59,
   "metadata": {},
   "outputs": [],
   "source": [
    "tf.random.set_seed(42)\n",
    "model_ins = tf.keras.Sequential()\n",
    "\n",
    "model_ins.add(Dense(100,input_shape=(11,),activation=\"relu\"))\n",
    "model_ins.add(Dense(150,activation=\"relu\"))\n",
    "model_ins.add(Dense(200,activation=\"relu\"))\n",
    "model_ins.add(Dense(1))"
   ]
  },
  {
   "cell_type": "code",
   "execution_count": 60,
   "metadata": {},
   "outputs": [
    {
     "name": "stdout",
     "output_type": "stream",
     "text": [
      "Model: \"sequential_4\"\n",
      "_________________________________________________________________\n",
      " Layer (type)                Output Shape              Param #   \n",
      "=================================================================\n",
      " dense_11 (Dense)            (None, 100)               1200      \n",
      "                                                                 \n",
      " dense_12 (Dense)            (None, 150)               15150     \n",
      "                                                                 \n",
      " dense_13 (Dense)            (None, 200)               30200     \n",
      "                                                                 \n",
      " dense_14 (Dense)            (None, 1)                 201       \n",
      "                                                                 \n",
      "=================================================================\n",
      "Total params: 46,751\n",
      "Trainable params: 46,751\n",
      "Non-trainable params: 0\n",
      "_________________________________________________________________\n"
     ]
    }
   ],
   "source": [
    "model_ins.summary()"
   ]
  },
  {
   "cell_type": "code",
   "execution_count": 61,
   "metadata": {},
   "outputs": [],
   "source": [
    "model_ins.compile(loss=\"mae\",optimizer=tf.keras.optimizers.Adam(learning_rate=0.1),metrics=\"mae\")"
   ]
  },
  {
   "cell_type": "code",
   "execution_count": 62,
   "metadata": {},
   "outputs": [
    {
     "name": "stdout",
     "output_type": "stream",
     "text": [
      "Epoch 1/100\n"
     ]
    },
    {
     "name": "stdout",
     "output_type": "stream",
     "text": [
      "34/34 [==============================] - 4s 30ms/step - loss: 8317.1719 - mae: 8317.1719\n",
      "Epoch 2/100\n",
      "34/34 [==============================] - 1s 27ms/step - loss: 5753.8545 - mae: 5753.8545\n",
      "Epoch 3/100\n",
      "34/34 [==============================] - 1s 29ms/step - loss: 5172.6372 - mae: 5172.6372\n",
      "Epoch 4/100\n",
      "34/34 [==============================] - 1s 32ms/step - loss: 3653.3738 - mae: 3653.3738\n",
      "Epoch 5/100\n",
      "34/34 [==============================] - 1s 35ms/step - loss: 3600.7195 - mae: 3600.7195\n",
      "Epoch 6/100\n",
      "34/34 [==============================] - 1s 38ms/step - loss: 4003.7996 - mae: 4003.7996\n",
      "Epoch 7/100\n",
      "34/34 [==============================] - 1s 25ms/step - loss: 4093.4790 - mae: 4093.4790\n",
      "Epoch 8/100\n",
      "34/34 [==============================] - 1s 32ms/step - loss: 4323.8374 - mae: 4323.8374\n",
      "Epoch 9/100\n",
      "34/34 [==============================] - 1s 26ms/step - loss: 3620.0010 - mae: 3620.0010\n",
      "Epoch 10/100\n",
      "34/34 [==============================] - 1s 29ms/step - loss: 4163.2632 - mae: 4163.2632\n",
      "Epoch 11/100\n",
      "34/34 [==============================] - 1s 26ms/step - loss: 3698.3594 - mae: 3698.3594\n",
      "Epoch 12/100\n",
      "34/34 [==============================] - 1s 27ms/step - loss: 3160.6995 - mae: 3160.6995\n",
      "Epoch 13/100\n",
      "34/34 [==============================] - 1s 25ms/step - loss: 3261.4561 - mae: 3261.4561\n",
      "Epoch 14/100\n",
      "34/34 [==============================] - 1s 36ms/step - loss: 2986.1570 - mae: 2986.1570\n",
      "Epoch 15/100\n",
      "34/34 [==============================] - 1s 26ms/step - loss: 3274.0735 - mae: 3274.0735\n",
      "Epoch 16/100\n",
      "34/34 [==============================] - 2s 49ms/step - loss: 3137.6357 - mae: 3137.6357\n",
      "Epoch 17/100\n",
      "34/34 [==============================] - 1s 35ms/step - loss: 3161.7261 - mae: 3161.7261\n",
      "Epoch 18/100\n",
      "34/34 [==============================] - 1s 36ms/step - loss: 2950.0349 - mae: 2950.0349\n",
      "Epoch 19/100\n",
      "34/34 [==============================] - 1s 25ms/step - loss: 2985.9299 - mae: 2985.9299\n",
      "Epoch 20/100\n",
      "34/34 [==============================] - 2s 66ms/step - loss: 2764.7854 - mae: 2764.7854\n",
      "Epoch 21/100\n",
      "34/34 [==============================] - 2s 63ms/step - loss: 3122.3052 - mae: 3122.3052\n",
      "Epoch 22/100\n",
      "34/34 [==============================] - 1s 26ms/step - loss: 2706.9944 - mae: 2706.9944\n",
      "Epoch 23/100\n",
      "34/34 [==============================] - 1s 25ms/step - loss: 2532.2866 - mae: 2532.2866\n",
      "Epoch 24/100\n",
      "34/34 [==============================] - 1s 32ms/step - loss: 2532.6538 - mae: 2532.6538\n",
      "Epoch 25/100\n",
      "34/34 [==============================] - 1s 27ms/step - loss: 2539.5027 - mae: 2539.5027\n",
      "Epoch 26/100\n",
      "34/34 [==============================] - 1s 24ms/step - loss: 2922.2532 - mae: 2922.2532\n",
      "Epoch 27/100\n",
      "34/34 [==============================] - 2s 45ms/step - loss: 2698.6621 - mae: 2698.6621\n",
      "Epoch 28/100\n",
      "34/34 [==============================] - 1s 40ms/step - loss: 2549.0977 - mae: 2549.0977\n",
      "Epoch 29/100\n",
      "34/34 [==============================] - 2s 73ms/step - loss: 2642.2004 - mae: 2642.2004\n",
      "Epoch 30/100\n",
      "34/34 [==============================] - 3s 99ms/step - loss: 2876.0544 - mae: 2876.0544\n",
      "Epoch 31/100\n",
      "34/34 [==============================] - 4s 106ms/step - loss: 2781.9485 - mae: 2781.9485\n",
      "Epoch 32/100\n",
      "34/34 [==============================] - 2s 72ms/step - loss: 2808.2498 - mae: 2808.2498\n",
      "Epoch 33/100\n",
      "34/34 [==============================] - 2s 55ms/step - loss: 2448.8867 - mae: 2448.8867\n",
      "Epoch 34/100\n",
      "34/34 [==============================] - 1s 28ms/step - loss: 2428.2712 - mae: 2428.2712\n",
      "Epoch 35/100\n",
      "34/34 [==============================] - 1s 26ms/step - loss: 2321.2112 - mae: 2321.2112\n",
      "Epoch 36/100\n",
      "34/34 [==============================] - 1s 26ms/step - loss: 2324.9888 - mae: 2324.9888\n",
      "Epoch 37/100\n",
      "34/34 [==============================] - 1s 32ms/step - loss: 2334.7935 - mae: 2334.7935\n",
      "Epoch 38/100\n",
      "34/34 [==============================] - 1s 27ms/step - loss: 2606.1721 - mae: 2606.1721\n",
      "Epoch 39/100\n",
      "34/34 [==============================] - 1s 27ms/step - loss: 2285.7244 - mae: 2285.7244\n",
      "Epoch 40/100\n",
      "34/34 [==============================] - 1s 25ms/step - loss: 2641.4678 - mae: 2641.4678\n",
      "Epoch 41/100\n",
      "34/34 [==============================] - 1s 31ms/step - loss: 2382.0134 - mae: 2382.0134\n",
      "Epoch 42/100\n",
      "34/34 [==============================] - 1s 27ms/step - loss: 2534.9763 - mae: 2534.9763\n",
      "Epoch 43/100\n",
      "34/34 [==============================] - 1s 25ms/step - loss: 2520.3372 - mae: 2520.3372\n",
      "Epoch 44/100\n",
      "34/34 [==============================] - 1s 27ms/step - loss: 2754.9795 - mae: 2754.9795\n",
      "Epoch 45/100\n",
      "34/34 [==============================] - 1s 32ms/step - loss: 2535.4907 - mae: 2535.4907\n",
      "Epoch 46/100\n",
      "34/34 [==============================] - 1s 30ms/step - loss: 2347.9893 - mae: 2347.9893\n",
      "Epoch 47/100\n",
      "34/34 [==============================] - 1s 32ms/step - loss: 2159.9248 - mae: 2159.9248\n",
      "Epoch 48/100\n",
      "34/34 [==============================] - 1s 30ms/step - loss: 2326.8301 - mae: 2326.8301\n",
      "Epoch 49/100\n",
      "34/34 [==============================] - 1s 31ms/step - loss: 2612.8479 - mae: 2612.8479\n",
      "Epoch 50/100\n",
      "34/34 [==============================] - 1s 41ms/step - loss: 2698.2620 - mae: 2698.2620\n",
      "Epoch 51/100\n",
      "34/34 [==============================] - 1s 27ms/step - loss: 2248.0808 - mae: 2248.0808\n",
      "Epoch 52/100\n",
      "34/34 [==============================] - 1s 33ms/step - loss: 2160.3936 - mae: 2160.3936\n",
      "Epoch 53/100\n",
      "34/34 [==============================] - 1s 23ms/step - loss: 2649.8174 - mae: 2649.8174\n",
      "Epoch 54/100\n",
      "34/34 [==============================] - 1s 25ms/step - loss: 2326.4675 - mae: 2326.4675\n",
      "Epoch 55/100\n",
      "34/34 [==============================] - 1s 24ms/step - loss: 2361.6123 - mae: 2361.6123\n",
      "Epoch 56/100\n",
      "34/34 [==============================] - 1s 30ms/step - loss: 2121.1401 - mae: 2121.1401\n",
      "Epoch 57/100\n",
      "34/34 [==============================] - 1s 25ms/step - loss: 2322.4138 - mae: 2322.4138\n",
      "Epoch 58/100\n",
      "34/34 [==============================] - 1s 26ms/step - loss: 2503.7405 - mae: 2503.7405\n",
      "Epoch 59/100\n",
      "34/34 [==============================] - 1s 26ms/step - loss: 2773.2830 - mae: 2773.2830\n",
      "Epoch 60/100\n",
      "34/34 [==============================] - 1s 30ms/step - loss: 2223.6387 - mae: 2223.6387\n",
      "Epoch 61/100\n",
      "34/34 [==============================] - 1s 27ms/step - loss: 2322.5325 - mae: 2322.5325\n",
      "Epoch 62/100\n",
      "34/34 [==============================] - 1s 28ms/step - loss: 2299.9009 - mae: 2299.9009\n",
      "Epoch 63/100\n",
      "34/34 [==============================] - 1s 33ms/step - loss: 2089.9480 - mae: 2089.9480\n",
      "Epoch 64/100\n",
      "34/34 [==============================] - 2s 48ms/step - loss: 2481.2568 - mae: 2481.2568\n",
      "Epoch 65/100\n",
      "34/34 [==============================] - 1s 33ms/step - loss: 2348.3589 - mae: 2348.3589\n",
      "Epoch 66/100\n",
      "34/34 [==============================] - 1s 43ms/step - loss: 2256.4768 - mae: 2256.4768\n",
      "Epoch 67/100\n",
      "34/34 [==============================] - 1s 25ms/step - loss: 2152.2637 - mae: 2152.2637\n",
      "Epoch 68/100\n",
      "34/34 [==============================] - 1s 25ms/step - loss: 2138.0303 - mae: 2138.0303\n",
      "Epoch 69/100\n",
      "34/34 [==============================] - 1s 27ms/step - loss: 2389.0806 - mae: 2389.0806\n",
      "Epoch 70/100\n",
      "34/34 [==============================] - 1s 33ms/step - loss: 2147.9780 - mae: 2147.9780\n",
      "Epoch 71/100\n",
      "34/34 [==============================] - 1s 32ms/step - loss: 2059.5476 - mae: 2059.5476\n",
      "Epoch 72/100\n",
      "34/34 [==============================] - 1s 35ms/step - loss: 2155.2285 - mae: 2155.2285\n",
      "Epoch 73/100\n",
      "34/34 [==============================] - 1s 25ms/step - loss: 2385.1741 - mae: 2385.1741\n",
      "Epoch 74/100\n",
      "34/34 [==============================] - 1s 31ms/step - loss: 2131.2502 - mae: 2131.2502\n",
      "Epoch 75/100\n",
      "34/34 [==============================] - 1s 27ms/step - loss: 2118.0588 - mae: 2118.0588\n",
      "Epoch 76/100\n",
      "34/34 [==============================] - 1s 26ms/step - loss: 2206.5684 - mae: 2206.5684\n",
      "Epoch 77/100\n",
      "34/34 [==============================] - 1s 32ms/step - loss: 2154.1934 - mae: 2154.1934\n",
      "Epoch 78/100\n",
      "34/34 [==============================] - 1s 28ms/step - loss: 2206.5955 - mae: 2206.5955\n",
      "Epoch 79/100\n",
      "34/34 [==============================] - 1s 25ms/step - loss: 2181.7195 - mae: 2181.7195\n",
      "Epoch 80/100\n",
      "34/34 [==============================] - 1s 28ms/step - loss: 2282.6404 - mae: 2282.6404\n",
      "Epoch 81/100\n",
      "34/34 [==============================] - 1s 31ms/step - loss: 2107.4512 - mae: 2107.4512\n",
      "Epoch 82/100\n",
      "34/34 [==============================] - 1s 26ms/step - loss: 2146.9016 - mae: 2146.9016\n",
      "Epoch 83/100\n",
      "34/34 [==============================] - 1s 26ms/step - loss: 2113.3792 - mae: 2113.3792\n",
      "Epoch 84/100\n",
      "34/34 [==============================] - 1s 29ms/step - loss: 2145.1074 - mae: 2145.1074\n",
      "Epoch 85/100\n",
      "34/34 [==============================] - 1s 24ms/step - loss: 2061.4612 - mae: 2061.4612\n",
      "Epoch 86/100\n",
      "34/34 [==============================] - 1s 25ms/step - loss: 2250.5505 - mae: 2250.5505\n",
      "Epoch 87/100\n",
      "34/34 [==============================] - 1s 31ms/step - loss: 2421.3088 - mae: 2421.3088\n",
      "Epoch 88/100\n",
      "34/34 [==============================] - 1s 25ms/step - loss: 2519.3828 - mae: 2519.3828\n",
      "Epoch 89/100\n",
      "34/34 [==============================] - 1s 25ms/step - loss: 2332.8870 - mae: 2332.8870\n",
      "Epoch 90/100\n",
      "34/34 [==============================] - 1s 29ms/step - loss: 2694.5559 - mae: 2694.5559\n",
      "Epoch 91/100\n",
      "34/34 [==============================] - 1s 33ms/step - loss: 2368.0750 - mae: 2368.0750\n",
      "Epoch 92/100\n",
      "34/34 [==============================] - 1s 27ms/step - loss: 2045.8152 - mae: 2045.8152\n",
      "Epoch 93/100\n",
      "34/34 [==============================] - 1s 27ms/step - loss: 2163.1375 - mae: 2163.1375\n",
      "Epoch 94/100\n",
      "34/34 [==============================] - 1s 38ms/step - loss: 2249.2961 - mae: 2249.2961\n",
      "Epoch 95/100\n",
      "34/34 [==============================] - 1s 28ms/step - loss: 2292.4043 - mae: 2292.4043\n",
      "Epoch 96/100\n",
      "34/34 [==============================] - 1s 24ms/step - loss: 2027.6855 - mae: 2027.6855\n",
      "Epoch 97/100\n",
      "34/34 [==============================] - 1s 28ms/step - loss: 2198.9526 - mae: 2198.9526\n",
      "Epoch 98/100\n",
      "34/34 [==============================] - 1s 25ms/step - loss: 2120.0645 - mae: 2120.0645\n",
      "Epoch 99/100\n",
      "34/34 [==============================] - 1s 24ms/step - loss: 2137.6289 - mae: 2137.6289\n",
      "Epoch 100/100\n",
      "34/34 [==============================] - 1s 32ms/step - loss: 2112.5898 - mae: 2112.5898\n"
     ]
    },
    {
     "data": {
      "text/plain": [
       "<keras.callbacks.History at 0x27e2746cb50>"
      ]
     },
     "execution_count": 62,
     "metadata": {},
     "output_type": "execute_result"
    }
   ],
   "source": [
    "model_ins.fit(X_train,y_train,epochs=100)"
   ]
  },
  {
   "cell_type": "code",
   "execution_count": 63,
   "metadata": {},
   "outputs": [
    {
     "data": {
      "text/plain": [
       "(array([19. , 27.9,  0. ,  1. ,  0. ,  0. ,  1. ,  0. ,  0. ,  0. ,  1. ],\n",
       "       dtype=float32),\n",
       " 16884.924)"
      ]
     },
     "execution_count": 63,
     "metadata": {},
     "output_type": "execute_result"
    }
   ],
   "source": [
    "X[0],y[0]"
   ]
  },
  {
   "cell_type": "code",
   "execution_count": 64,
   "metadata": {},
   "outputs": [
    {
     "name": "stdout",
     "output_type": "stream",
     "text": [
      "WARNING:tensorflow:6 out of the last 6 calls to <function Model.make_predict_function.<locals>.predict_function at 0x0000027DA24A3E50> triggered tf.function retracing. Tracing is expensive and the excessive number of tracings could be due to (1) creating @tf.function repeatedly in a loop, (2) passing tensors with different shapes, (3) passing Python objects instead of tensors. For (1), please define your @tf.function outside of the loop. For (2), @tf.function has reduce_retracing=True option that can avoid unnecessary retracing. For (3), please refer to https://www.tensorflow.org/guide/function#controlling_retracing and https://www.tensorflow.org/api_docs/python/tf/function for  more details.\n",
      "5/9 [===============>..............] - ETA: 0s"
     ]
    },
    {
     "name": "stdout",
     "output_type": "stream",
     "text": [
      "9/9 [==============================] - 0s 12ms/step\n"
     ]
    },
    {
     "data": {
      "text/plain": [
       "array([[ 7125.789  ],\n",
       "       [11247.046  ],\n",
       "       [47801.57   ],\n",
       "       [12110.596  ],\n",
       "       [ 7033.067  ],\n",
       "       [ 3646.937  ],\n",
       "       [23180.766  ],\n",
       "       [35792.805  ],\n",
       "       [39206.523  ],\n",
       "       [ 2953.233  ],\n",
       "       [11040.2295 ],\n",
       "       [ 7611.4307 ],\n",
       "       [ 2477.6772 ],\n",
       "       [ 4245.3037 ],\n",
       "       [ 6596.629  ],\n",
       "       [ 6480.7017 ],\n",
       "       [ 4833.111  ],\n",
       "       [12088.616  ],\n",
       "       [20297.129  ],\n",
       "       [ 9719.204  ],\n",
       "       [ 6641.1226 ],\n",
       "       [ 3252.8296 ],\n",
       "       [12137.473  ],\n",
       "       [ 4826.962  ],\n",
       "       [13740.916  ],\n",
       "       [ 2035.9423 ],\n",
       "       [14223.744  ],\n",
       "       [ 4620.1567 ],\n",
       "       [17420.574  ],\n",
       "       [ 4365.1733 ],\n",
       "       [11523.889  ],\n",
       "       [11604.919  ],\n",
       "       [42812.773  ],\n",
       "       [22831.107  ],\n",
       "       [ 1466.1873 ],\n",
       "       [36056.234  ],\n",
       "       [38564.668  ],\n",
       "       [19614.242  ],\n",
       "       [29011.377  ],\n",
       "       [12119.405  ],\n",
       "       [48206.137  ],\n",
       "       [ 5705.3286 ],\n",
       "       [31782.861  ],\n",
       "       [ 5522.3228 ],\n",
       "       [21517.537  ],\n",
       "       [ 6425.8525 ],\n",
       "       [ 4506.0894 ],\n",
       "       [11669.668  ],\n",
       "       [11427.297  ],\n",
       "       [ 2057.3745 ],\n",
       "       [33228.547  ],\n",
       "       [ 1980.0952 ],\n",
       "       [ 1942.4974 ],\n",
       "       [ 4994.0303 ],\n",
       "       [ 1583.8759 ],\n",
       "       [ 9107.352  ],\n",
       "       [ 3649.794  ],\n",
       "       [ 3170.9502 ],\n",
       "       [11199.603  ],\n",
       "       [10389.405  ],\n",
       "       [15694.36   ],\n",
       "       [31932.834  ],\n",
       "       [32777.52   ],\n",
       "       [ 7034.2476 ],\n",
       "       [10802.538  ],\n",
       "       [23447.352  ],\n",
       "       [10948.988  ],\n",
       "       [ 1940.5262 ],\n",
       "       [ 9652.374  ],\n",
       "       [ 6780.5283 ],\n",
       "       [ 4767.4214 ],\n",
       "       [ 4948.3574 ],\n",
       "       [ 7861.4175 ],\n",
       "       [ 8200.785  ],\n",
       "       [ 2285.4004 ],\n",
       "       [ 9422.528  ],\n",
       "       [ 9187.97   ],\n",
       "       [ 8025.478  ],\n",
       "       [ 2145.5596 ],\n",
       "       [11301.237  ],\n",
       "       [25138.56   ],\n",
       "       [11280.029  ],\n",
       "       [37584.137  ],\n",
       "       [ 4955.6274 ],\n",
       "       [ 4657.654  ],\n",
       "       [ 9637.843  ],\n",
       "       [ 1464.964  ],\n",
       "       [ 9388.818  ],\n",
       "       [11752.402  ],\n",
       "       [ 5463.782  ],\n",
       "       [ 4626.269  ],\n",
       "       [ 8594.336  ],\n",
       "       [ 2464.9707 ],\n",
       "       [28719.635  ],\n",
       "       [12477.513  ],\n",
       "       [ 5503.759  ],\n",
       "       [ 5900.063  ],\n",
       "       [48232.074  ],\n",
       "       [ 9446.628  ],\n",
       "       [ 1586.3156 ],\n",
       "       [10230.937  ],\n",
       "       [30290.412  ],\n",
       "       [10078.635  ],\n",
       "       [12937.174  ],\n",
       "       [ 4880.0137 ],\n",
       "       [  932.44183],\n",
       "       [50918.723  ],\n",
       "       [ 4596.562  ],\n",
       "       [ 1776.6602 ],\n",
       "       [32975.5    ],\n",
       "       [23679.256  ],\n",
       "       [12376.279  ],\n",
       "       [13907.626  ],\n",
       "       [ 1054.2349 ],\n",
       "       [ 1397.8203 ],\n",
       "       [35904.074  ],\n",
       "       [ 4429.3237 ],\n",
       "       [46252.812  ],\n",
       "       [33741.617  ],\n",
       "       [19074.256  ],\n",
       "       [47103.473  ],\n",
       "       [12517.504  ],\n",
       "       [11266.812  ],\n",
       "       [13744.993  ],\n",
       "       [10893.362  ],\n",
       "       [ 9977.71   ],\n",
       "       [15115.857  ],\n",
       "       [ 5341.2236 ],\n",
       "       [ 6076.2666 ],\n",
       "       [ 4119.4062 ],\n",
       "       [ 3619.2207 ],\n",
       "       [11018.208  ],\n",
       "       [44521.438  ],\n",
       "       [11974.691  ],\n",
       "       [36501.273  ],\n",
       "       [ 6745.589  ],\n",
       "       [ 4440.6265 ],\n",
       "       [ 2080.5757 ],\n",
       "       [10384.312  ],\n",
       "       [ 4458.6816 ],\n",
       "       [44062.79   ],\n",
       "       [10071.472  ],\n",
       "       [52213.676  ],\n",
       "       [11145.717  ],\n",
       "       [57071.53   ],\n",
       "       [ 9376.837  ],\n",
       "       [ 1437.484  ],\n",
       "       [ 7365.6973 ],\n",
       "       [ 9429.293  ],\n",
       "       [ 2019.7325 ],\n",
       "       [ 3599.7017 ],\n",
       "       [18402.74   ],\n",
       "       [ 3309.1357 ],\n",
       "       [11339.503  ],\n",
       "       [26209.344  ],\n",
       "       [ 1098.3411 ],\n",
       "       [21871.107  ],\n",
       "       [ 1742.8165 ],\n",
       "       [ 5202.948  ],\n",
       "       [ 4046.9912 ],\n",
       "       [ 4752.961  ],\n",
       "       [13986.594  ],\n",
       "       [30659.916  ],\n",
       "       [ 1912.1948 ],\n",
       "       [58327.86   ],\n",
       "       [ 6765.0356 ],\n",
       "       [ 2745.6162 ],\n",
       "       [ 3099.8716 ],\n",
       "       [10525.937  ],\n",
       "       [ 9205.516  ],\n",
       "       [ 9548.648  ],\n",
       "       [ 7616.0566 ],\n",
       "       [13023.294  ],\n",
       "       [12782.792  ],\n",
       "       [34904.74   ],\n",
       "       [ 9262.667  ],\n",
       "       [31693.035  ],\n",
       "       [12732.074  ],\n",
       "       [ 8575.64   ],\n",
       "       [14788.528  ],\n",
       "       [ 8479.531  ],\n",
       "       [12159.343  ],\n",
       "       [ 4369.6865 ],\n",
       "       [10999.992  ],\n",
       "       [ 6188.2695 ],\n",
       "       [ 5889.547  ],\n",
       "       [36058.98   ],\n",
       "       [ 3236.2427 ],\n",
       "       [ 8071.076  ],\n",
       "       [ 2564.1655 ],\n",
       "       [ 5374.324  ],\n",
       "       [10387.414  ],\n",
       "       [ 7010.0176 ],\n",
       "       [27662.744  ],\n",
       "       [ 1884.8412 ],\n",
       "       [10038.303  ],\n",
       "       [65271.3    ],\n",
       "       [12894.26   ],\n",
       "       [  938.4621 ],\n",
       "       [11987.6045 ],\n",
       "       [ 1833.2756 ],\n",
       "       [ 6997.548  ],\n",
       "       [40937.695  ],\n",
       "       [13474.864  ],\n",
       "       [39207.32   ],\n",
       "       [ 2180.061  ],\n",
       "       [ 4414.6953 ],\n",
       "       [46027.254  ],\n",
       "       [ 2688.1587 ],\n",
       "       [21677.773  ],\n",
       "       [42296.664  ],\n",
       "       [ 5034.482  ],\n",
       "       [27323.424  ],\n",
       "       [11292.654  ],\n",
       "       [ 8672.466  ],\n",
       "       [ 7331.711  ],\n",
       "       [42042.137  ],\n",
       "       [ 1359.7273 ],\n",
       "       [10698.715  ],\n",
       "       [ 2144.371  ],\n",
       "       [ 3258.4917 ],\n",
       "       [ 5794.238  ],\n",
       "       [ 7704.7017 ],\n",
       "       [ 9857.794  ],\n",
       "       [22340.33   ],\n",
       "       [34545.87   ],\n",
       "       [ 2493.3843 ],\n",
       "       [47650.383  ],\n",
       "       [ 6295.049  ],\n",
       "       [31642.084  ],\n",
       "       [38592.176  ],\n",
       "       [ 8617.813  ],\n",
       "       [16805.545  ],\n",
       "       [ 1440.1901 ],\n",
       "       [11792.3125 ],\n",
       "       [13870.164  ],\n",
       "       [ 6762.8716 ],\n",
       "       [ 9642.755  ],\n",
       "       [17507.383  ],\n",
       "       [14686.59   ],\n",
       "       [37322.363  ],\n",
       "       [12111.373  ],\n",
       "       [34010.87   ],\n",
       "       [45251.555  ],\n",
       "       [51357.387  ],\n",
       "       [ 9050.434  ],\n",
       "       [ 6268.6914 ],\n",
       "       [12698.331  ],\n",
       "       [ 5413.1396 ],\n",
       "       [ 7363.623  ],\n",
       "       [23736.91   ],\n",
       "       [11563.757  ],\n",
       "       [31857.361  ],\n",
       "       [27676.066  ],\n",
       "       [ 9284.719  ],\n",
       "       [47054.633  ],\n",
       "       [10224.5205 ],\n",
       "       [64867.54   ],\n",
       "       [37489.45   ],\n",
       "       [ 7014.21   ],\n",
       "       [14935.508  ],\n",
       "       [11928.145  ],\n",
       "       [46525.91   ],\n",
       "       [14038.061  ],\n",
       "       [ 4495.462  ],\n",
       "       [30088.729  ],\n",
       "       [35327.234  ],\n",
       "       [ 4302.973  ]], dtype=float32)"
      ]
     },
     "execution_count": 64,
     "metadata": {},
     "output_type": "execute_result"
    }
   ],
   "source": [
    "model_ins.predict(X_test)"
   ]
  },
  {
   "cell_type": "code",
   "execution_count": 65,
   "metadata": {},
   "outputs": [],
   "source": [
    "#model_ins.evaluate(X_test,y_test)"
   ]
  },
  {
   "cell_type": "markdown",
   "metadata": {},
   "source": [
    "### Normalization and Standarization\n",
    "\n",
    "Those a two normal practices while working with big amounts of data and with a wide range of values \n",
    "NN and ML algorithms could develop better in normalized and standarized data \n",
    "\n",
    "since the operations dont differ too much between them,\n",
    "thats why is a good practice to make it...\n",
    "\n",
    "I have been using **Get Dummies** for label encoding, but since i get how this could turn wrong, OneHotEncoding is the best practice,\n",
    "\n",
    "as the same time as getting the OneHot it possible to make the Standarization/Normalization of the whole DataFrame"
   ]
  },
  {
   "cell_type": "code",
   "execution_count": 66,
   "metadata": {},
   "outputs": [],
   "source": [
    "from sklearn.preprocessing import OneHotEncoder,MinMaxScaler\n",
    "from sklearn.compose import make_column_transformer\n",
    "\n",
    "insurance = pd.read_csv(\"https://raw.githubusercontent.com/stedy/Machine-Learning-with-R-datasets/master/insurance.csv\")\n",
    "\n",
    "ct = make_column_transformer(\n",
    "    (MinMaxScaler(),[\"age\",\"bmi\",\"children\"]),\n",
    "    (OneHotEncoder(handle_unknown=\"ignore\"),[\"sex\",\"smoker\",\"region\"])\n",
    ")\n",
    "\n",
    "X = insurance.drop(\"charges\",axis=1)\n",
    "y = insurance[\"charges\"]\n",
    "\n",
    "X_train, X_test, y_train, y_test = train_test_split(X, y, test_size=0.2, random_state=42)\n",
    "\n",
    "# Fit column transformer on the training data only (doing so on test data would result in data leakage)\n",
    "ct.fit(X_train)\n",
    "\n",
    "# Transform training and test data with normalization (MinMaxScalar) and one hot encoding (OneHotEncoder)\n",
    "X_train_normal = ct.transform(X_train)\n",
    "X_test_normal = ct.transform(X_test)\n"
   ]
  },
  {
   "cell_type": "code",
   "execution_count": 67,
   "metadata": {},
   "outputs": [
    {
     "data": {
      "text/plain": [
       "age                19\n",
       "sex            female\n",
       "bmi              27.9\n",
       "children            0\n",
       "smoker            yes\n",
       "region      southwest\n",
       "Name: 0, dtype: object"
      ]
     },
     "execution_count": 67,
     "metadata": {},
     "output_type": "execute_result"
    }
   ],
   "source": [
    "X.loc[0]"
   ]
  },
  {
   "cell_type": "code",
   "execution_count": 76,
   "metadata": {},
   "outputs": [
    {
     "data": {
      "text/plain": [
       "array([0.60869565, 0.10734463, 0.4       , 1.        , 0.        ,\n",
       "       1.        , 0.        , 0.        , 1.        , 0.        ,\n",
       "       0.        ])"
      ]
     },
     "execution_count": 76,
     "metadata": {},
     "output_type": "execute_result"
    }
   ],
   "source": [
    "# The output from a Transformation using make column transformer return a np array instead of a DataFrame object\n",
    "# results better for fitting NN\n",
    "X_train_normal[0]"
   ]
  },
  {
   "cell_type": "code",
   "execution_count": 68,
   "metadata": {},
   "outputs": [
    {
     "data": {
      "text/plain": [
       "(11,)"
      ]
     },
     "execution_count": 68,
     "metadata": {},
     "output_type": "execute_result"
    }
   ],
   "source": [
    "X_train_normal[0].shape"
   ]
  },
  {
   "cell_type": "code",
   "execution_count": 69,
   "metadata": {},
   "outputs": [
    {
     "name": "stdout",
     "output_type": "stream",
     "text": [
      "Epoch 1/100\n",
      "34/34 [==============================] - 4s 35ms/step - loss: 6589.7910 - mae: 6589.7910\n",
      "Epoch 2/100\n",
      "34/34 [==============================] - 1s 34ms/step - loss: 3709.2783 - mae: 3709.2783\n",
      "Epoch 3/100\n",
      "34/34 [==============================] - 1s 44ms/step - loss: 3503.6748 - mae: 3503.6748\n",
      "Epoch 4/100\n",
      "34/34 [==============================] - 2s 50ms/step - loss: 2932.4658 - mae: 2932.4658\n",
      "Epoch 5/100\n",
      "34/34 [==============================] - 1s 38ms/step - loss: 3257.5662 - mae: 3257.5662\n",
      "Epoch 6/100\n",
      "34/34 [==============================] - 1s 43ms/step - loss: 3158.8823 - mae: 3158.8823\n",
      "Epoch 7/100\n",
      "34/34 [==============================] - 2s 57ms/step - loss: 3843.8777 - mae: 3843.8777\n",
      "Epoch 8/100\n",
      "34/34 [==============================] - 1s 39ms/step - loss: 4014.5164 - mae: 4014.5164\n",
      "Epoch 9/100\n",
      "34/34 [==============================] - 2s 45ms/step - loss: 2634.3137 - mae: 2634.3137\n",
      "Epoch 10/100\n",
      "34/34 [==============================] - 1s 35ms/step - loss: 2335.2810 - mae: 2335.2810\n",
      "Epoch 11/100\n",
      "34/34 [==============================] - 1s 36ms/step - loss: 2381.3784 - mae: 2381.3784\n",
      "Epoch 12/100\n",
      "34/34 [==============================] - 2s 50ms/step - loss: 2472.5781 - mae: 2472.5781\n",
      "Epoch 13/100\n",
      "34/34 [==============================] - 1s 38ms/step - loss: 2497.0894 - mae: 2497.0894\n",
      "Epoch 14/100\n",
      "34/34 [==============================] - 1s 34ms/step - loss: 2796.2566 - mae: 2796.2566\n",
      "Epoch 15/100\n",
      "34/34 [==============================] - 1s 43ms/step - loss: 2403.9236 - mae: 2403.9236\n",
      "Epoch 16/100\n",
      "34/34 [==============================] - 1s 34ms/step - loss: 2521.6392 - mae: 2521.6392\n",
      "Epoch 17/100\n",
      "34/34 [==============================] - 2s 46ms/step - loss: 3170.5813 - mae: 3170.5813\n",
      "Epoch 18/100\n",
      "34/34 [==============================] - 1s 42ms/step - loss: 3294.4136 - mae: 3294.4136\n",
      "Epoch 19/100\n",
      "34/34 [==============================] - 2s 54ms/step - loss: 2620.7732 - mae: 2620.7732\n",
      "Epoch 20/100\n",
      "34/34 [==============================] - 1s 40ms/step - loss: 2719.8123 - mae: 2719.8123\n",
      "Epoch 21/100\n",
      "34/34 [==============================] - 2s 45ms/step - loss: 2354.6980 - mae: 2354.6980\n",
      "Epoch 22/100\n",
      "34/34 [==============================] - 1s 39ms/step - loss: 2502.3628 - mae: 2502.3628\n",
      "Epoch 23/100\n",
      "34/34 [==============================] - 1s 39ms/step - loss: 2578.4861 - mae: 2578.4861\n",
      "Epoch 24/100\n",
      "34/34 [==============================] - 2s 50ms/step - loss: 2395.0601 - mae: 2395.0601\n",
      "Epoch 25/100\n",
      "34/34 [==============================] - 1s 41ms/step - loss: 2505.6558 - mae: 2505.6558\n",
      "Epoch 26/100\n",
      "34/34 [==============================] - 1s 39ms/step - loss: 2263.0781 - mae: 2263.0781\n",
      "Epoch 27/100\n",
      "34/34 [==============================] - 2s 48ms/step - loss: 2382.3804 - mae: 2382.3804\n",
      "Epoch 28/100\n",
      "34/34 [==============================] - 1s 40ms/step - loss: 2510.4495 - mae: 2510.4495\n",
      "Epoch 29/100\n",
      "34/34 [==============================] - 1s 40ms/step - loss: 2414.4763 - mae: 2414.4763\n",
      "Epoch 30/100\n",
      "34/34 [==============================] - 2s 51ms/step - loss: 2255.9385 - mae: 2255.9385\n",
      "Epoch 31/100\n",
      "34/34 [==============================] - 1s 39ms/step - loss: 2267.6545 - mae: 2267.6545\n",
      "Epoch 32/100\n",
      "34/34 [==============================] - 1s 44ms/step - loss: 2255.3345 - mae: 2255.3345\n",
      "Epoch 33/100\n",
      "34/34 [==============================] - 2s 46ms/step - loss: 2135.2739 - mae: 2135.2739\n",
      "Epoch 34/100\n",
      "34/34 [==============================] - 2s 52ms/step - loss: 2230.2224 - mae: 2230.2224\n",
      "Epoch 35/100\n",
      "34/34 [==============================] - 1s 36ms/step - loss: 2148.0042 - mae: 2148.0042\n",
      "Epoch 36/100\n",
      "34/34 [==============================] - 1s 39ms/step - loss: 1976.6073 - mae: 1976.6073\n",
      "Epoch 37/100\n",
      "34/34 [==============================] - 1s 40ms/step - loss: 1942.8418 - mae: 1942.8418\n",
      "Epoch 38/100\n",
      "34/34 [==============================] - 1s 39ms/step - loss: 2185.3652 - mae: 2185.3652\n",
      "Epoch 39/100\n",
      "34/34 [==============================] - 2s 48ms/step - loss: 2099.2729 - mae: 2099.2729\n",
      "Epoch 40/100\n",
      "34/34 [==============================] - 1s 36ms/step - loss: 2363.8694 - mae: 2363.8694\n",
      "Epoch 41/100\n",
      "34/34 [==============================] - 1s 39ms/step - loss: 2191.2932 - mae: 2191.2932\n",
      "Epoch 42/100\n",
      "34/34 [==============================] - 1s 41ms/step - loss: 2206.5999 - mae: 2206.5999\n",
      "Epoch 43/100\n",
      "34/34 [==============================] - 1s 40ms/step - loss: 2169.9268 - mae: 2169.9268\n",
      "Epoch 44/100\n",
      "34/34 [==============================] - 1s 43ms/step - loss: 2044.3627 - mae: 2044.3627\n",
      "Epoch 45/100\n",
      "34/34 [==============================] - 2s 44ms/step - loss: 2191.5251 - mae: 2191.5251\n",
      "Epoch 46/100\n",
      "34/34 [==============================] - 1s 36ms/step - loss: 2191.3455 - mae: 2191.3455\n",
      "Epoch 47/100\n",
      "34/34 [==============================] - 2s 61ms/step - loss: 2238.5935 - mae: 2238.5935\n",
      "Epoch 48/100\n",
      "34/34 [==============================] - 1s 42ms/step - loss: 2252.5591 - mae: 2252.5591\n",
      "Epoch 49/100\n",
      "34/34 [==============================] - 1s 38ms/step - loss: 2430.8452 - mae: 2430.8452\n",
      "Epoch 50/100\n",
      "34/34 [==============================] - 2s 46ms/step - loss: 2268.9299 - mae: 2268.9299\n",
      "Epoch 51/100\n",
      "34/34 [==============================] - 1s 38ms/step - loss: 1998.4330 - mae: 1998.4330\n",
      "Epoch 52/100\n",
      "34/34 [==============================] - 1s 41ms/step - loss: 2043.0179 - mae: 2043.0179\n",
      "Epoch 53/100\n",
      "34/34 [==============================] - 2s 47ms/step - loss: 1944.7948 - mae: 1944.7948\n",
      "Epoch 54/100\n",
      "34/34 [==============================] - 1s 44ms/step - loss: 2203.1121 - mae: 2203.1121\n",
      "Epoch 55/100\n",
      "34/34 [==============================] - 2s 47ms/step - loss: 1914.0474 - mae: 1914.0474\n",
      "Epoch 56/100\n",
      "34/34 [==============================] - 1s 32ms/step - loss: 2031.9093 - mae: 2031.9093\n",
      "Epoch 57/100\n",
      "34/34 [==============================] - 1s 39ms/step - loss: 1999.9514 - mae: 1999.9514\n",
      "Epoch 58/100\n",
      "34/34 [==============================] - 2s 54ms/step - loss: 1998.4404 - mae: 1998.4404\n",
      "Epoch 59/100\n",
      "34/34 [==============================] - 1s 41ms/step - loss: 1945.1300 - mae: 1945.1300\n",
      "Epoch 60/100\n",
      "34/34 [==============================] - 1s 43ms/step - loss: 2006.3168 - mae: 2006.3168\n",
      "Epoch 61/100\n",
      "34/34 [==============================] - 1s 44ms/step - loss: 1826.4496 - mae: 1826.4496\n",
      "Epoch 62/100\n",
      "34/34 [==============================] - 1s 36ms/step - loss: 2011.5261 - mae: 2011.5261\n",
      "Epoch 63/100\n",
      "34/34 [==============================] - 1s 37ms/step - loss: 1808.4243 - mae: 1808.4243\n",
      "Epoch 64/100\n",
      "34/34 [==============================] - 2s 47ms/step - loss: 1948.0497 - mae: 1948.0497\n",
      "Epoch 65/100\n",
      "34/34 [==============================] - 1s 41ms/step - loss: 2020.0829 - mae: 2020.0829\n",
      "Epoch 66/100\n",
      "34/34 [==============================] - 1s 38ms/step - loss: 2249.4551 - mae: 2249.4551\n",
      "Epoch 67/100\n",
      "34/34 [==============================] - 2s 58ms/step - loss: 1881.9807 - mae: 1881.9807\n",
      "Epoch 68/100\n",
      "34/34 [==============================] - 1s 40ms/step - loss: 1940.8848 - mae: 1940.8848\n",
      "Epoch 69/100\n",
      "34/34 [==============================] - 1s 39ms/step - loss: 2184.7129 - mae: 2184.7129\n",
      "Epoch 70/100\n",
      "34/34 [==============================] - 2s 47ms/step - loss: 1997.3708 - mae: 1997.3708\n",
      "Epoch 71/100\n",
      "34/34 [==============================] - 1s 42ms/step - loss: 1966.9852 - mae: 1966.9852\n",
      "Epoch 72/100\n",
      "34/34 [==============================] - 2s 45ms/step - loss: 2204.9458 - mae: 2204.9458\n",
      "Epoch 73/100\n",
      "34/34 [==============================] - 2s 64ms/step - loss: 2658.5105 - mae: 2658.5105\n",
      "Epoch 74/100\n",
      "34/34 [==============================] - 1s 35ms/step - loss: 2035.2178 - mae: 2035.2178\n",
      "Epoch 75/100\n",
      "34/34 [==============================] - 2s 53ms/step - loss: 2113.9321 - mae: 2113.9321\n",
      "Epoch 76/100\n",
      "34/34 [==============================] - 1s 41ms/step - loss: 1982.8701 - mae: 1982.8701\n",
      "Epoch 77/100\n",
      "34/34 [==============================] - 1s 40ms/step - loss: 2043.8129 - mae: 2043.8129\n",
      "Epoch 78/100\n",
      "34/34 [==============================] - 2s 47ms/step - loss: 1859.7114 - mae: 1859.7114\n",
      "Epoch 79/100\n",
      "34/34 [==============================] - 2s 46ms/step - loss: 1983.0991 - mae: 1983.0991\n",
      "Epoch 80/100\n",
      "34/34 [==============================] - 1s 36ms/step - loss: 1930.6205 - mae: 1930.6205\n",
      "Epoch 81/100\n",
      "34/34 [==============================] - 2s 46ms/step - loss: 2442.6887 - mae: 2442.6887\n",
      "Epoch 82/100\n",
      "34/34 [==============================] - 1s 39ms/step - loss: 2497.1860 - mae: 2497.1860\n",
      "Epoch 83/100\n",
      "34/34 [==============================] - 1s 40ms/step - loss: 2076.7278 - mae: 2076.7278\n",
      "Epoch 84/100\n",
      "34/34 [==============================] - 2s 53ms/step - loss: 1920.6879 - mae: 1920.6879\n",
      "Epoch 85/100\n",
      "34/34 [==============================] - 1s 35ms/step - loss: 2063.0085 - mae: 2063.0085\n",
      "Epoch 86/100\n",
      "34/34 [==============================] - 1s 41ms/step - loss: 1870.0453 - mae: 1870.0453\n",
      "Epoch 87/100\n",
      "34/34 [==============================] - 2s 66ms/step - loss: 1857.8964 - mae: 1857.8964\n",
      "Epoch 88/100\n",
      "34/34 [==============================] - 2s 56ms/step - loss: 1812.3911 - mae: 1812.3911\n",
      "Epoch 89/100\n",
      "34/34 [==============================] - 3s 88ms/step - loss: 1790.2615 - mae: 1790.2615\n",
      "Epoch 90/100\n",
      "34/34 [==============================] - 2s 50ms/step - loss: 1747.4602 - mae: 1747.4602\n",
      "Epoch 91/100\n",
      "34/34 [==============================] - 2s 46ms/step - loss: 2097.3076 - mae: 2097.3076\n",
      "Epoch 92/100\n",
      "34/34 [==============================] - 1s 39ms/step - loss: 1935.6780 - mae: 1935.6780\n",
      "Epoch 93/100\n",
      "34/34 [==============================] - 1s 39ms/step - loss: 1841.5078 - mae: 1841.5078\n",
      "Epoch 94/100\n",
      "34/34 [==============================] - 2s 45ms/step - loss: 1887.7257 - mae: 1887.7257\n",
      "Epoch 95/100\n",
      "34/34 [==============================] - 2s 45ms/step - loss: 1852.8600 - mae: 1852.8600\n",
      "Epoch 96/100\n",
      "34/34 [==============================] - 2s 46ms/step - loss: 1878.5056 - mae: 1878.5056\n",
      "Epoch 97/100\n",
      "34/34 [==============================] - 1s 44ms/step - loss: 1960.0371 - mae: 1960.0371\n",
      "Epoch 98/100\n",
      "34/34 [==============================] - 1s 39ms/step - loss: 1875.0339 - mae: 1875.0339\n",
      "Epoch 99/100\n",
      "34/34 [==============================] - 2s 50ms/step - loss: 1927.3850 - mae: 1927.3850\n",
      "Epoch 100/100\n",
      "34/34 [==============================] - 1s 38ms/step - loss: 1884.0741 - mae: 1884.0741\n"
     ]
    },
    {
     "data": {
      "text/plain": [
       "<keras.callbacks.History at 0x27d87685c10>"
      ]
     },
     "execution_count": 69,
     "metadata": {},
     "output_type": "execute_result"
    }
   ],
   "source": [
    "tf.random.set_seed(42)\n",
    "model_norm = tf.keras.Sequential()\n",
    "\n",
    "model_norm.add(Dense(100,input_shape=(11,),activation=\"relu\"))\n",
    "model_norm.add(Dense(150,activation=\"relu\"))\n",
    "model_norm.add(Dense(200,activation=\"relu\"))\n",
    "model_norm.add(Dense(1))\n",
    "\n",
    "model_norm.compile(loss=\"mae\",optimizer=tf.keras.optimizers.Adam(learning_rate=0.1),metrics=\"mae\")\n",
    "\n",
    "model_norm.fit(X_train_normal,y_train,epochs=100)"
   ]
  },
  {
   "cell_type": "code",
   "execution_count": 70,
   "metadata": {},
   "outputs": [
    {
     "name": "stdout",
     "output_type": "stream",
     "text": [
      "9/9 [==============================] - 1s 16ms/step - loss: 1749.3496 - mae: 1749.3496\n"
     ]
    },
    {
     "data": {
      "text/plain": [
       "[1749.349609375, 1749.349609375]"
      ]
     },
     "execution_count": 70,
     "metadata": {},
     "output_type": "execute_result"
    }
   ],
   "source": [
    "model_norm.evaluate(X_test_normal,y_test)"
   ]
  }
 ],
 "metadata": {
  "kernelspec": {
   "display_name": "Python 3",
   "language": "python",
   "name": "python3"
  },
  "language_info": {
   "codemirror_mode": {
    "name": "ipython",
    "version": 3
   },
   "file_extension": ".py",
   "mimetype": "text/x-python",
   "name": "python",
   "nbconvert_exporter": "python",
   "pygments_lexer": "ipython3",
   "version": "3.9.1"
  },
  "orig_nbformat": 4
 },
 "nbformat": 4,
 "nbformat_minor": 2
}
