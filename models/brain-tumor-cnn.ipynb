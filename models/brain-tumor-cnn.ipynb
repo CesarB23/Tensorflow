{
 "cells": [
  {
   "attachments": {},
   "cell_type": "markdown",
   "id": "5db6bdf2",
   "metadata": {
    "papermill": {
     "duration": 0.008182,
     "end_time": "2023-06-15T05:39:43.541463",
     "exception": false,
     "start_time": "2023-06-15T05:39:43.533281",
     "status": "completed"
    },
    "tags": []
   },
   "source": [
    "# **Importamos librerias**"
   ]
  },
  {
   "cell_type": "code",
   "execution_count": 1,
   "id": "27a70704",
   "metadata": {
    "execution": {
     "iopub.execute_input": "2023-06-15T05:39:43.558319Z",
     "iopub.status.busy": "2023-06-15T05:39:43.557165Z",
     "iopub.status.idle": "2023-06-15T05:39:50.065553Z",
     "shell.execute_reply": "2023-06-15T05:39:50.064432Z"
    },
    "papermill": {
     "duration": 6.519873,
     "end_time": "2023-06-15T05:39:50.068607",
     "exception": false,
     "start_time": "2023-06-15T05:39:43.548734",
     "status": "completed"
    },
    "tags": []
   },
   "outputs": [],
   "source": [
    "import os\n",
    "import seaborn as sns\n",
    "from tqdm import tqdm\n",
    "import numpy as np\n",
    "import pandas as pd\n",
    "import matplotlib.pyplot as plt\n",
    "from PIL import Image\n",
    "import cv2\n",
    "import tensorflow as tf\n",
    "from tensorflow import keras\n",
    "from scipy import misc\n",
    "from sklearn.model_selection import train_test_split\n",
    "from sklearn.preprocessing import LabelEncoder\n",
    "from keras.preprocessing.image import ImageDataGenerator\n",
    "from keras.utils import np_utils\n",
    "from keras.models import Sequential\n",
    "from keras.layers import Conv2D, MaxPooling2D, Flatten, Dense, Dropout, Activation\n",
    "from tensorflow.keras.optimizers import Adam\n",
    "from sklearn.metrics import classification_report,confusion_matrix, ConfusionMatrixDisplay\n",
    "from tensorflow.keras.callbacks import TensorBoard, ModelCheckpoint"
   ]
  },
  {
   "attachments": {},
   "cell_type": "markdown",
   "id": "15b1025e",
   "metadata": {
    "papermill": {
     "duration": 0.007004,
     "end_time": "2023-06-15T05:39:50.083023",
     "exception": false,
     "start_time": "2023-06-15T05:39:50.076019",
     "status": "completed"
    },
    "tags": []
   },
   "source": [
    "# Cargamos el conjunto de datos de prueba y entrenamiento al programa.\n",
    "Mediante la ruta donde se encuentran guardadas las imágenes tanto de entrenamiento y prueba, podemos acceder a cada una de ellas, leerlas, guardarlas correctamente a la clase a la que pertenecen, en este caso en alguna de las siguientes 4:\n",
    "* 1. Glioma\n",
    "* 2. Meningioma\n",
    "* 3. Pituitario\n",
    "* 4. No tumor\n",
    "\n",
    "Una vez que las imágenes se clasifican correctamente, se reescalan a un valor de (128,128) pixeles para trabajarlas en una escala normalizada."
   ]
  },
  {
   "cell_type": "code",
   "execution_count": 2,
   "id": "ecbf1e92",
   "metadata": {
    "execution": {
     "iopub.execute_input": "2023-06-15T05:39:50.100461Z",
     "iopub.status.busy": "2023-06-15T05:39:50.099743Z",
     "iopub.status.idle": "2023-06-15T05:40:13.314934Z",
     "shell.execute_reply": "2023-06-15T05:40:13.312345Z"
    },
    "papermill": {
     "duration": 23.227033,
     "end_time": "2023-06-15T05:40:13.317596",
     "exception": false,
     "start_time": "2023-06-15T05:39:50.090563",
     "status": "completed"
    },
    "tags": []
   },
   "outputs": [
    {
     "name": "stderr",
     "output_type": "stream",
     "text": [
      "100%|██████████| 395/395 [00:02<00:00, 161.00it/s]\n",
      "100%|██████████| 827/827 [00:05<00:00, 141.66it/s]\n",
      "100%|██████████| 822/822 [00:05<00:00, 144.96it/s]\n",
      "100%|██████████| 826/826 [00:05<00:00, 139.14it/s]\n",
      "100%|██████████| 105/105 [00:00<00:00, 244.26it/s]\n",
      "100%|██████████| 74/74 [00:00<00:00, 94.04it/s]\n",
      "100%|██████████| 115/115 [00:00<00:00, 174.67it/s]\n",
      "100%|██████████| 100/100 [00:00<00:00, 148.13it/s]\n"
     ]
    }
   ],
   "source": [
    "path_train = ('/kaggle/input/brain-tumor-classification-mri/Training/')\n",
    "path_test = ('/kaggle/input/brain-tumor-classification-mri/Testing/')\n",
    "\n",
    "# initialize lists to store the image data, paths, and labels\n",
    "X = []\n",
    "y = []\n",
    "img_size = 128\n",
    "\n",
    "# recorrer todas las imágenes de entrenamiento\n",
    "for i in os.listdir(path_train):\n",
    "    for j in tqdm(os.listdir(path_train+i)):\n",
    "        X.append(cv2.resize(cv2.imread(path_train+i+'/'+j), (img_size,img_size))) \n",
    "        y.append(i)\n",
    "\n",
    "# recorrer todas las imágenes de prueba\n",
    "for i in os.listdir(path_test):\n",
    "    for j in tqdm(os.listdir(path_test+i)):\n",
    "        X.append(cv2.resize(cv2.imread(path_test+i+'/'+j), (img_size,img_size))) \n",
    "        y.append(i)\n",
    "        \n",
    "X = np.array(X)#!! train_img = (np.array(train_img))\n",
    "# test_img = np.array(test_img)#!! test_img = (np.array(test_img))\n"
   ]
  },
  {
   "attachments": {},
   "cell_type": "markdown",
   "id": "caa92d23",
   "metadata": {},
   "source": [
    "### Conversión de las imágenes a matrices\n",
    "La computadora no sabe lo que es una imagen, pero lo puede interpretar mediante números, podemos asignar un valor de 0 a 255 a cada uno de los pixeles que conforman las imágenes y pasarlo como una matriz de números.\n",
    "### Creación de los conjuntos de datos\n",
    "Una vez que las imágenes se convierten a matrices, este será el conjunto de datos con todas las características que el modelo aprenderá para intentar clasificarlos correctamente de acuerdo con su clase \"y\".\n",
    "\n",
    "También se convierten los datos \"y\", las etiquetas a una tabla que contenga las categorías, donde los 1 representan la clase a la que pertenece"
   ]
  },
  {
   "cell_type": "code",
   "execution_count": 3,
   "id": "d893d72a",
   "metadata": {
    "execution": {
     "iopub.execute_input": "2023-06-15T05:40:13.368437Z",
     "iopub.status.busy": "2023-06-15T05:40:13.367223Z",
     "iopub.status.idle": "2023-06-15T05:40:13.448579Z",
     "shell.execute_reply": "2023-06-15T05:40:13.447340Z"
    },
    "papermill": {
     "duration": 0.108924,
     "end_time": "2023-06-15T05:40:13.451005",
     "exception": false,
     "start_time": "2023-06-15T05:40:13.342081",
     "status": "completed"
    },
    "tags": []
   },
   "outputs": [
    {
     "name": "stdout",
     "output_type": "stream",
     "text": [
      "(3264, 128, 128, 3)\n",
      "(3264, 4)\n"
     ]
    }
   ],
   "source": [
    "# convert y and data to a numpy array and also y to one-hot encode the labels\n",
    "X = np.array(X)\n",
    "y = pd.get_dummies(y)\n",
    "print(X.shape)\n",
    "print(y.shape)"
   ]
  },
  {
   "cell_type": "code",
   "execution_count": 4,
   "id": "32c307d1",
   "metadata": {
    "execution": {
     "iopub.execute_input": "2023-06-15T05:40:13.503226Z",
     "iopub.status.busy": "2023-06-15T05:40:13.502815Z",
     "iopub.status.idle": "2023-06-15T05:40:13.523982Z",
     "shell.execute_reply": "2023-06-15T05:40:13.522779Z"
    },
    "papermill": {
     "duration": 0.052007,
     "end_time": "2023-06-15T05:40:13.527287",
     "exception": false,
     "start_time": "2023-06-15T05:40:13.475280",
     "status": "completed"
    },
    "tags": []
   },
   "outputs": [
    {
     "data": {
      "text/html": [
       "<div>\n",
       "<style scoped>\n",
       "    .dataframe tbody tr th:only-of-type {\n",
       "        vertical-align: middle;\n",
       "    }\n",
       "\n",
       "    .dataframe tbody tr th {\n",
       "        vertical-align: top;\n",
       "    }\n",
       "\n",
       "    .dataframe thead th {\n",
       "        text-align: right;\n",
       "    }\n",
       "</style>\n",
       "<table border=\"1\" class=\"dataframe\">\n",
       "  <thead>\n",
       "    <tr style=\"text-align: right;\">\n",
       "      <th></th>\n",
       "      <th>glioma_tumor</th>\n",
       "      <th>meningioma_tumor</th>\n",
       "      <th>no_tumor</th>\n",
       "      <th>pituitary_tumor</th>\n",
       "    </tr>\n",
       "  </thead>\n",
       "  <tbody>\n",
       "    <tr>\n",
       "      <th>0</th>\n",
       "      <td>0</td>\n",
       "      <td>0</td>\n",
       "      <td>1</td>\n",
       "      <td>0</td>\n",
       "    </tr>\n",
       "    <tr>\n",
       "      <th>1</th>\n",
       "      <td>0</td>\n",
       "      <td>0</td>\n",
       "      <td>1</td>\n",
       "      <td>0</td>\n",
       "    </tr>\n",
       "    <tr>\n",
       "      <th>2</th>\n",
       "      <td>0</td>\n",
       "      <td>0</td>\n",
       "      <td>1</td>\n",
       "      <td>0</td>\n",
       "    </tr>\n",
       "    <tr>\n",
       "      <th>3</th>\n",
       "      <td>0</td>\n",
       "      <td>0</td>\n",
       "      <td>1</td>\n",
       "      <td>0</td>\n",
       "    </tr>\n",
       "    <tr>\n",
       "      <th>4</th>\n",
       "      <td>0</td>\n",
       "      <td>0</td>\n",
       "      <td>1</td>\n",
       "      <td>0</td>\n",
       "    </tr>\n",
       "    <tr>\n",
       "      <th>...</th>\n",
       "      <td>...</td>\n",
       "      <td>...</td>\n",
       "      <td>...</td>\n",
       "      <td>...</td>\n",
       "    </tr>\n",
       "    <tr>\n",
       "      <th>3259</th>\n",
       "      <td>1</td>\n",
       "      <td>0</td>\n",
       "      <td>0</td>\n",
       "      <td>0</td>\n",
       "    </tr>\n",
       "    <tr>\n",
       "      <th>3260</th>\n",
       "      <td>1</td>\n",
       "      <td>0</td>\n",
       "      <td>0</td>\n",
       "      <td>0</td>\n",
       "    </tr>\n",
       "    <tr>\n",
       "      <th>3261</th>\n",
       "      <td>1</td>\n",
       "      <td>0</td>\n",
       "      <td>0</td>\n",
       "      <td>0</td>\n",
       "    </tr>\n",
       "    <tr>\n",
       "      <th>3262</th>\n",
       "      <td>1</td>\n",
       "      <td>0</td>\n",
       "      <td>0</td>\n",
       "      <td>0</td>\n",
       "    </tr>\n",
       "    <tr>\n",
       "      <th>3263</th>\n",
       "      <td>1</td>\n",
       "      <td>0</td>\n",
       "      <td>0</td>\n",
       "      <td>0</td>\n",
       "    </tr>\n",
       "  </tbody>\n",
       "</table>\n",
       "<p>3264 rows × 4 columns</p>\n",
       "</div>"
      ],
      "text/plain": [
       "      glioma_tumor  meningioma_tumor  no_tumor  pituitary_tumor\n",
       "0                0                 0         1                0\n",
       "1                0                 0         1                0\n",
       "2                0                 0         1                0\n",
       "3                0                 0         1                0\n",
       "4                0                 0         1                0\n",
       "...            ...               ...       ...              ...\n",
       "3259             1                 0         0                0\n",
       "3260             1                 0         0                0\n",
       "3261             1                 0         0                0\n",
       "3262             1                 0         0                0\n",
       "3263             1                 0         0                0\n",
       "\n",
       "[3264 rows x 4 columns]"
      ]
     },
     "execution_count": 4,
     "metadata": {},
     "output_type": "execute_result"
    }
   ],
   "source": [
    "y"
   ]
  },
  {
   "attachments": {},
   "cell_type": "markdown",
   "id": "f4cf5170",
   "metadata": {},
   "source": [
    "### Escalamiento de los datos\n",
    "Para ahorrar espacio en memoria y tiempo de procesamiento, los datos se escalan en un factor de 1/255 que es valor máximo para intensidad de color en un pixel"
   ]
  },
  {
   "cell_type": "code",
   "execution_count": 5,
   "id": "459349f5",
   "metadata": {
    "execution": {
     "iopub.execute_input": "2023-06-15T05:40:13.578894Z",
     "iopub.status.busy": "2023-06-15T05:40:13.578528Z",
     "iopub.status.idle": "2023-06-15T05:40:13.798825Z",
     "shell.execute_reply": "2023-06-15T05:40:13.797667Z"
    },
    "papermill": {
     "duration": 0.249271,
     "end_time": "2023-06-15T05:40:13.801974",
     "exception": false,
     "start_time": "2023-06-15T05:40:13.552703",
     "status": "completed"
    },
    "tags": []
   },
   "outputs": [],
   "source": [
    "X= X.astype('float32')\n",
    "X[0][:1]\n",
    "X/=255"
   ]
  },
  {
   "cell_type": "code",
   "execution_count": 6,
   "id": "719c3c2e",
   "metadata": {
    "execution": {
     "iopub.execute_input": "2023-06-15T05:40:13.854488Z",
     "iopub.status.busy": "2023-06-15T05:40:13.854055Z",
     "iopub.status.idle": "2023-06-15T05:40:13.859421Z",
     "shell.execute_reply": "2023-06-15T05:40:13.858334Z"
    },
    "papermill": {
     "duration": 0.034565,
     "end_time": "2023-06-15T05:40:13.862060",
     "exception": false,
     "start_time": "2023-06-15T05:40:13.827495",
     "status": "completed"
    },
    "tags": []
   },
   "outputs": [],
   "source": [
    "#X[0]"
   ]
  },
  {
   "attachments": {},
   "cell_type": "markdown",
   "id": "6b051e23",
   "metadata": {},
   "source": [
    "### Visualizacion de un dato del conjunto X"
   ]
  },
  {
   "cell_type": "code",
   "execution_count": 7,
   "id": "ebb03700",
   "metadata": {
    "execution": {
     "iopub.execute_input": "2023-06-15T05:40:13.915081Z",
     "iopub.status.busy": "2023-06-15T05:40:13.914704Z",
     "iopub.status.idle": "2023-06-15T05:40:14.155470Z",
     "shell.execute_reply": "2023-06-15T05:40:14.154518Z"
    },
    "papermill": {
     "duration": 0.269071,
     "end_time": "2023-06-15T05:40:14.157962",
     "exception": false,
     "start_time": "2023-06-15T05:40:13.888891",
     "status": "completed"
    },
    "tags": []
   },
   "outputs": [
    {
     "name": "stdout",
     "output_type": "stream",
     "text": [
      "AxesImage(54,36;334.8x217.44)\n"
     ]
    },
    {
     "data": {
      "image/png": "[encoded data removed]",
      "text/plain": [
       "<Figure size 432x288 with 1 Axes>"
      ]
     },
     "metadata": {
      "needs_background": "light"
     },
     "output_type": "display_data"
    }
   ],
   "source": [
    "#To check the data\n",
    "\n",
    "print(plt.imshow(X[233]))"
   ]
  },
  {
   "attachments": {},
   "cell_type": "markdown",
   "id": "891d2f9a",
   "metadata": {
    "papermill": {
     "duration": 0.024277,
     "end_time": "2023-06-15T05:40:14.206632",
     "exception": false,
     "start_time": "2023-06-15T05:40:14.182355",
     "status": "completed"
    },
    "tags": []
   },
   "source": [
    "# División de los datos\n",
    "Normalmente los proyectos de Machine Learning utilizan 4 conjuntos de datos para su desarrollo:\n",
    "* 1. Datos del conjunto X para entrenamiento\n",
    "* 2. Datos del conjunto X para prueba\n",
    "* 3. Datos del conjunto y para entrenamiento\n",
    "* 4. Datos del conjunto y para prueba\n",
    "\n",
    "La proporción que usualmente se ocupa es 70-80% de los datos son para el entrenamiento, y el restante 20-30% para pruebas.\n",
    "En este caso se usó la proporción 80-20."
   ]
  },
  {
   "cell_type": "code",
   "execution_count": 8,
   "id": "f293eaed",
   "metadata": {
    "execution": {
     "iopub.execute_input": "2023-06-15T05:40:14.259712Z",
     "iopub.status.busy": "2023-06-15T05:40:14.259333Z",
     "iopub.status.idle": "2023-06-15T05:40:14.451988Z",
     "shell.execute_reply": "2023-06-15T05:40:14.450954Z"
    },
    "papermill": {
     "duration": 0.223087,
     "end_time": "2023-06-15T05:40:14.454708",
     "exception": false,
     "start_time": "2023-06-15T05:40:14.231621",
     "status": "completed"
    },
    "tags": []
   },
   "outputs": [],
   "source": [
    "# Split the data into train and test sets\n",
    "X_train, X_test,y_train, y_test= train_test_split(X, y, test_size= 0.2 , shuffle = True, random_state = 42)"
   ]
  },
  {
   "attachments": {},
   "cell_type": "markdown",
   "id": "8341e6bf",
   "metadata": {},
   "source": [
    "##### En este caso para tener más imagenes en el conjunto de pruebas, en vez de utilizar la cantidad de datos sugerido por Kaggle, se unieron los dos conjuntos de datos en uno solo y al divirlos en la proporción de 80-20, al final se obtuvo un conjunto de 2611 imagenes de entrenamiento y 653 para pruebas."
   ]
  },
  {
   "cell_type": "code",
   "execution_count": 9,
   "id": "d8616d3d",
   "metadata": {
    "execution": {
     "iopub.execute_input": "2023-06-15T05:40:14.506438Z",
     "iopub.status.busy": "2023-06-15T05:40:14.505335Z",
     "iopub.status.idle": "2023-06-15T05:40:14.513598Z",
     "shell.execute_reply": "2023-06-15T05:40:14.512608Z"
    },
    "papermill": {
     "duration": 0.036552,
     "end_time": "2023-06-15T05:40:14.516048",
     "exception": false,
     "start_time": "2023-06-15T05:40:14.479496",
     "status": "completed"
    },
    "tags": []
   },
   "outputs": [
    {
     "data": {
      "text/plain": [
       "((2611, 128, 128, 3), (653, 128, 128, 3), (2611, 4), (653, 4))"
      ]
     },
     "execution_count": 9,
     "metadata": {},
     "output_type": "execute_result"
    }
   ],
   "source": [
    "X_train.shape, X_test.shape,y_train.shape, y_test.shape"
   ]
  },
  {
   "attachments": {},
   "cell_type": "markdown",
   "id": "369ef507",
   "metadata": {
    "papermill": {
     "duration": 0.025103,
     "end_time": "2023-06-15T05:40:14.565726",
     "exception": false,
     "start_time": "2023-06-15T05:40:14.540623",
     "status": "completed"
    },
    "tags": []
   },
   "source": [
    "# Definición de la estructura de la Red Neuronal Convolutiva.\n",
    "Declaramos el modelo de tipo \"Sequential\", que nos permite ir agregando los datos de forma secuencial.\n",
    "\n",
    "* Comenzando por las capas `Conv2D`, son las capas de que llevan a cabo la operación de convolución, la que extrae las características de la imagen para aprender los patrones que caracterizan a cada una de las clases, lo hace mediante \"kernels\" que son filtros con valores que la misma red propone y va cambiando para lograr extraer las características más importantes en este caso para la primera y segunda capa se aplicaron `32` filtros de (2x2), en la tercera capa `128` filtros de (2*2),y en la cuarta capa `64` filtros de (3*3).\n",
    "\n",
    "* después de cada capa de convolución se agrega una función de `activación` en este caso `Relu`, la cual básicamente lo que hace es desechar los pixeles con valores negativos resultantes de las operaciones de convolución aplicada por los \"kernels\" y a los valores positivos los deja tal como están. Esta función lo que permite es ir reduciendo el tamaño de la imagen para obtener las características cada vez más complejas.\n",
    "\n",
    "* Las capas de `MaxPooling` son las que literalmente hacen la reducción de dimensión de la imagen para trabajar cada vez con menos parámetros.\n",
    "\n",
    "* Las capas de `Dropout` apagan cierto porcentaje de neuronas para lograr que el entrenamiento sea más rígido, que no se sobreentrene y que el modelo pueda trabajar casos generales de imágenes, no solo los particulares con los que entreno.\n",
    "\n",
    "* La capa `Flatten` genera un solo vector de neuronas tras obtener todas las características de las imágenes.\n",
    "\n",
    "* La capa `Dense` es la que genera las conexiones de las características aprendidas para finalmente llegar a la capa de clasificación, en este caso se declararon dos de `128 y 64` neuronas. Estas también llevan la función de activación.\n",
    "\n",
    "* La capa final también pertenece a la categoría `Dense`, con la diferencia de que contiene la función de activación `Softmax` la cual se encarga de asignar una probabilidad a cada categoria y escoger el valor más alto para determinar su categoría y solo `4` neuronas de salida que pertenecen a una de las 4 categorías de clasificación."
   ]
  },
  {
   "cell_type": "code",
   "execution_count": 10,
   "id": "1833c48d",
   "metadata": {
    "execution": {
     "iopub.execute_input": "2023-06-15T05:40:14.616796Z",
     "iopub.status.busy": "2023-06-15T05:40:14.616106Z",
     "iopub.status.idle": "2023-06-15T05:40:17.346579Z",
     "shell.execute_reply": "2023-06-15T05:40:17.345564Z"
    },
    "papermill": {
     "duration": 2.759131,
     "end_time": "2023-06-15T05:40:17.349408",
     "exception": false,
     "start_time": "2023-06-15T05:40:14.590277",
     "status": "completed"
    },
    "tags": []
   },
   "outputs": [],
   "source": [
    "\n",
    "model = Sequential()\n",
    "\n",
    "\n",
    "# Adding first Conv2D layer with 32 filters and 2x2 kernel size and 'same' padding\n",
    "model.add(Conv2D(32, (2, 2), padding='same',activation='relu', input_shape=(128,128,3)))\n",
    "\n",
    "# Adding second Conv2D layer with 32 filters and 3x3 kernel size\n",
    "model.add(Conv2D(32, (2, 2),activation='relu'))\n",
    "\n",
    "# Adding Max Pooling layer with 2x2 pool size\n",
    "model.add(MaxPooling2D(pool_size=(2, 2)))\n",
    "\n",
    "# Adding Dropout layer with 25% dropout rate\n",
    "model.add(Dropout(0.2))\n",
    "\n",
    "# Adding third Conv2D layer with 64 filters and 3x3 kernel size and 'same' padding\n",
    "model.add(Conv2D(128, (2, 2), padding='same',activation='relu'))\n",
    "model.add(MaxPooling2D(pool_size=(2, 2)))\n",
    "\n",
    "# Adding fourth Conv2D layer with 64 filters and 3x3 kernel size\n",
    "model.add(Conv2D(64, (3, 3),activation='relu'))\n",
    "\n",
    "\n",
    "# Adding Max Pooling layer with 2x2 pool size\n",
    "model.add(MaxPooling2D(pool_size=(2, 2)))\n",
    "\n",
    "# Adding Dropout layer with 25% dropout rate\n",
    "model.add(Dropout(0.25))\n",
    "\n",
    "# Flattening the output from the previous layer\n",
    "model.add(Flatten())\n",
    "\n",
    "# Adding a dense layer with 128 neurons\n",
    "model.add(Dense(254,activation='relu'))\n",
    "\n",
    "\n",
    "# Adding another dropout layer with 50% dropout rate\n",
    "model.add(Dropout(0.5))\n",
    "\n",
    "# Adding a dense layer with 64 neurons\n",
    "model.add(Dense(128,activation='relu'))\n",
    "model.add(Dense(64,activation='relu'))\n",
    "\n",
    "\n",
    "# Adding the output layer with 4 neurons and softmax activation\n",
    "model.add(Dense(4, activation='softmax'))\n"
   ]
  },
  {
   "attachments": {},
   "cell_type": "markdown",
   "id": "77797b51",
   "metadata": {},
   "source": [
    "### Resumen del modelo\n",
    "La libreria nos permite mostrar un resumen de los parametros que utilizara para entrenar, el cual sera explicado en el apartado de resultados para darle sentido a todos los datos."
   ]
  },
  {
   "cell_type": "code",
   "execution_count": 11,
   "id": "a94a3201",
   "metadata": {
    "execution": {
     "iopub.execute_input": "2023-06-15T05:40:17.399287Z",
     "iopub.status.busy": "2023-06-15T05:40:17.398885Z",
     "iopub.status.idle": "2023-06-15T05:40:17.408646Z",
     "shell.execute_reply": "2023-06-15T05:40:17.407482Z"
    },
    "papermill": {
     "duration": 0.037235,
     "end_time": "2023-06-15T05:40:17.410873",
     "exception": false,
     "start_time": "2023-06-15T05:40:17.373638",
     "status": "completed"
    },
    "tags": []
   },
   "outputs": [
    {
     "name": "stdout",
     "output_type": "stream",
     "text": [
      "Model: \"sequential\"\n",
      "_________________________________________________________________\n",
      "Layer (type)                 Output Shape              Param #   \n",
      "=================================================================\n",
      "conv2d (Conv2D)              (None, 128, 128, 32)      416       \n",
      "_________________________________________________________________\n",
      "conv2d_1 (Conv2D)            (None, 127, 127, 32)      4128      \n",
      "_________________________________________________________________\n",
      "max_pooling2d (MaxPooling2D) (None, 63, 63, 32)        0         \n",
      "_________________________________________________________________\n",
      "dropout (Dropout)            (None, 63, 63, 32)        0         \n",
      "_________________________________________________________________\n",
      "conv2d_2 (Conv2D)            (None, 63, 63, 128)       16512     \n",
      "_________________________________________________________________\n",
      "max_pooling2d_1 (MaxPooling2 (None, 31, 31, 128)       0         \n",
      "_________________________________________________________________\n",
      "conv2d_3 (Conv2D)            (None, 29, 29, 64)        73792     \n",
      "_________________________________________________________________\n",
      "max_pooling2d_2 (MaxPooling2 (None, 14, 14, 64)        0         \n",
      "_________________________________________________________________\n",
      "dropout_1 (Dropout)          (None, 14, 14, 64)        0         \n",
      "_________________________________________________________________\n",
      "flatten (Flatten)            (None, 12544)             0         \n",
      "_________________________________________________________________\n",
      "dense (Dense)                (None, 254)               3186430   \n",
      "_________________________________________________________________\n",
      "dropout_2 (Dropout)          (None, 254)               0         \n",
      "_________________________________________________________________\n",
      "dense_1 (Dense)              (None, 128)               32640     \n",
      "_________________________________________________________________\n",
      "dense_2 (Dense)              (None, 64)                8256      \n",
      "_________________________________________________________________\n",
      "dense_3 (Dense)              (None, 4)                 260       \n",
      "=================================================================\n",
      "Total params: 3,322,434\n",
      "Trainable params: 3,322,434\n",
      "Non-trainable params: 0\n",
      "_________________________________________________________________\n",
      "None\n"
     ]
    }
   ],
   "source": [
    "print(model.summary())"
   ]
  },
  {
   "attachments": {},
   "cell_type": "markdown",
   "id": "1485aecb",
   "metadata": {},
   "source": [
    " # Compilar el modelo\n",
    " En este caso se define una función de `optimización`, la cual nos permite establecer que el modelo aprendió a un ritmo considerablemente lento para que logre hacerlo mucho mejor.\n",
    " \n",
    " Definimos la función que permite medir las perdidas en el proceso de entrenamiento y la métrica a medir que es la exactitud, finalmente le damos los parámetros que son los datos de entrenamiento y prueba.\n",
    " \n",
    " El entrenamiento se llevará a cabo en 25 épocas, el número de épocas es un parámetro que define el número de veces que el algoritmo trabajará a través de todo el conjunto de datos de entrenamiento. Una época significa que cada muestra del conjunto de datos de entrenamiento ha tenido la oportunidad de actualizar los parámetros internos del modelo."
   ]
  },
  {
   "cell_type": "code",
   "execution_count": 12,
   "id": "5f462a16",
   "metadata": {
    "execution": {
     "iopub.execute_input": "2023-06-15T05:40:17.461779Z",
     "iopub.status.busy": "2023-06-15T05:40:17.461394Z",
     "iopub.status.idle": "2023-06-15T05:42:41.502682Z",
     "shell.execute_reply": "2023-06-15T05:42:41.501400Z"
    },
    "papermill": {
     "duration": 144.069941,
     "end_time": "2023-06-15T05:42:41.505686",
     "exception": false,
     "start_time": "2023-06-15T05:40:17.435745",
     "status": "completed"
    },
    "tags": []
   },
   "outputs": [
    {
     "name": "stdout",
     "output_type": "stream",
     "text": [
      "Epoch 1/50\n",
      "82/82 [==============================] - 10s 36ms/step - loss: 1.2909 - accuracy: 0.3949 - val_loss: 1.2354 - val_accuracy: 0.4640\n",
      "\n",
      "Epoch 00001: val_accuracy improved from -inf to 0.46401, saving model to cnn.h5\n",
      "Epoch 2/50\n",
      "82/82 [==============================] - 2s 23ms/step - loss: 1.1495 - accuracy: 0.4956 - val_loss: 1.1149 - val_accuracy: 0.5023\n",
      "\n",
      "Epoch 00002: val_accuracy improved from 0.46401 to 0.50230, saving model to cnn.h5\n",
      "Epoch 3/50\n",
      "82/82 [==============================] - 2s 25ms/step - loss: 1.0259 - accuracy: 0.5676 - val_loss: 0.9712 - val_accuracy: 0.5804\n",
      "\n",
      "Epoch 00003: val_accuracy improved from 0.50230 to 0.58040, saving model to cnn.h5\n",
      "Epoch 4/50\n",
      "82/82 [==============================] - 2s 22ms/step - loss: 0.9095 - accuracy: 0.6216 - val_loss: 0.8650 - val_accuracy: 0.6600\n",
      "\n",
      "Epoch 00004: val_accuracy improved from 0.58040 to 0.66003, saving model to cnn.h5\n",
      "Epoch 5/50\n",
      "82/82 [==============================] - 2s 26ms/step - loss: 0.8459 - accuracy: 0.6308 - val_loss: 0.8037 - val_accuracy: 0.6907\n",
      "\n",
      "Epoch 00005: val_accuracy improved from 0.66003 to 0.69066, saving model to cnn.h5\n",
      "Epoch 6/50\n",
      "82/82 [==============================] - 2s 22ms/step - loss: 0.7557 - accuracy: 0.6829 - val_loss: 0.7090 - val_accuracy: 0.7381\n",
      "\n",
      "Epoch 00006: val_accuracy improved from 0.69066 to 0.73813, saving model to cnn.h5\n",
      "Epoch 7/50\n",
      "82/82 [==============================] - 2s 24ms/step - loss: 0.7082 - accuracy: 0.7089 - val_loss: 0.6766 - val_accuracy: 0.7489\n",
      "\n",
      "Epoch 00007: val_accuracy improved from 0.73813 to 0.74885, saving model to cnn.h5\n",
      "Epoch 8/50\n",
      "82/82 [==============================] - 2s 23ms/step - loss: 0.6525 - accuracy: 0.7453 - val_loss: 0.6374 - val_accuracy: 0.7596\n",
      "\n",
      "Epoch 00008: val_accuracy improved from 0.74885 to 0.75957, saving model to cnn.h5\n",
      "Epoch 9/50\n",
      "82/82 [==============================] - 2s 22ms/step - loss: 0.5900 - accuracy: 0.7679 - val_loss: 0.6319 - val_accuracy: 0.7366\n",
      "\n",
      "Epoch 00009: val_accuracy did not improve from 0.75957\n",
      "Epoch 10/50\n",
      "82/82 [==============================] - 2s 24ms/step - loss: 0.5610 - accuracy: 0.7813 - val_loss: 0.5916 - val_accuracy: 0.7779\n",
      "\n",
      "Epoch 00010: val_accuracy improved from 0.75957 to 0.77795, saving model to cnn.h5\n",
      "Epoch 11/50\n",
      "82/82 [==============================] - 2s 24ms/step - loss: 0.5280 - accuracy: 0.7901 - val_loss: 0.5473 - val_accuracy: 0.7871\n",
      "\n",
      "Epoch 00011: val_accuracy improved from 0.77795 to 0.78714, saving model to cnn.h5\n",
      "Epoch 12/50\n",
      "82/82 [==============================] - 2s 24ms/step - loss: 0.4821 - accuracy: 0.8150 - val_loss: 0.4953 - val_accuracy: 0.8147\n",
      "\n",
      "Epoch 00012: val_accuracy improved from 0.78714 to 0.81470, saving model to cnn.h5\n",
      "Epoch 13/50\n",
      "82/82 [==============================] - 2s 23ms/step - loss: 0.4479 - accuracy: 0.8326 - val_loss: 0.4849 - val_accuracy: 0.8285\n",
      "\n",
      "Epoch 00013: val_accuracy improved from 0.81470 to 0.82848, saving model to cnn.h5\n",
      "Epoch 14/50\n",
      "82/82 [==============================] - 2s 24ms/step - loss: 0.4159 - accuracy: 0.8457 - val_loss: 0.4708 - val_accuracy: 0.8361\n",
      "\n",
      "Epoch 00014: val_accuracy improved from 0.82848 to 0.83614, saving model to cnn.h5\n",
      "Epoch 15/50\n",
      "82/82 [==============================] - 2s 24ms/step - loss: 0.3978 - accuracy: 0.8502 - val_loss: 0.4716 - val_accuracy: 0.8193\n",
      "\n",
      "Epoch 00015: val_accuracy did not improve from 0.83614\n",
      "Epoch 16/50\n",
      "82/82 [==============================] - 2s 22ms/step - loss: 0.3587 - accuracy: 0.8686 - val_loss: 0.4474 - val_accuracy: 0.8377\n",
      "\n",
      "Epoch 00016: val_accuracy improved from 0.83614 to 0.83767, saving model to cnn.h5\n",
      "Epoch 17/50\n",
      "82/82 [==============================] - 2s 22ms/step - loss: 0.3361 - accuracy: 0.8740 - val_loss: 0.3934 - val_accuracy: 0.8668\n",
      "\n",
      "Epoch 00017: val_accuracy improved from 0.83767 to 0.86677, saving model to cnn.h5\n",
      "Epoch 18/50\n",
      "82/82 [==============================] - 2s 23ms/step - loss: 0.3215 - accuracy: 0.8782 - val_loss: 0.3928 - val_accuracy: 0.8652\n",
      "\n",
      "Epoch 00018: val_accuracy did not improve from 0.86677\n",
      "Epoch 19/50\n",
      "82/82 [==============================] - 2s 22ms/step - loss: 0.2955 - accuracy: 0.8928 - val_loss: 0.3811 - val_accuracy: 0.8637\n",
      "\n",
      "Epoch 00019: val_accuracy did not improve from 0.86677\n",
      "Epoch 20/50\n",
      "82/82 [==============================] - 2s 22ms/step - loss: 0.2782 - accuracy: 0.8951 - val_loss: 0.3584 - val_accuracy: 0.8698\n",
      "\n",
      "Epoch 00020: val_accuracy improved from 0.86677 to 0.86983, saving model to cnn.h5\n",
      "Epoch 21/50\n",
      "82/82 [==============================] - 2s 26ms/step - loss: 0.2632 - accuracy: 0.9039 - val_loss: 0.3372 - val_accuracy: 0.8714\n",
      "\n",
      "Epoch 00021: val_accuracy improved from 0.86983 to 0.87136, saving model to cnn.h5\n",
      "Epoch 22/50\n",
      "82/82 [==============================] - 2s 24ms/step - loss: 0.2307 - accuracy: 0.9142 - val_loss: 0.3181 - val_accuracy: 0.8806\n",
      "\n",
      "Epoch 00022: val_accuracy improved from 0.87136 to 0.88055, saving model to cnn.h5\n",
      "Epoch 23/50\n",
      "82/82 [==============================] - 2s 23ms/step - loss: 0.2233 - accuracy: 0.9188 - val_loss: 0.3386 - val_accuracy: 0.8714\n",
      "\n",
      "Epoch 00023: val_accuracy did not improve from 0.88055\n",
      "Epoch 24/50\n",
      "82/82 [==============================] - 2s 22ms/step - loss: 0.2163 - accuracy: 0.9184 - val_loss: 0.3242 - val_accuracy: 0.8867\n",
      "\n",
      "Epoch 00024: val_accuracy improved from 0.88055 to 0.88668, saving model to cnn.h5\n",
      "Epoch 25/50\n",
      "82/82 [==============================] - 2s 24ms/step - loss: 0.1945 - accuracy: 0.9268 - val_loss: 0.3024 - val_accuracy: 0.8989\n",
      "\n",
      "Epoch 00025: val_accuracy improved from 0.88668 to 0.89893, saving model to cnn.h5\n",
      "Epoch 26/50\n",
      "82/82 [==============================] - 2s 24ms/step - loss: 0.1859 - accuracy: 0.9364 - val_loss: 0.3094 - val_accuracy: 0.8913\n",
      "\n",
      "Epoch 00026: val_accuracy did not improve from 0.89893\n",
      "Epoch 27/50\n",
      "82/82 [==============================] - 2s 22ms/step - loss: 0.1718 - accuracy: 0.9337 - val_loss: 0.3333 - val_accuracy: 0.8775\n",
      "\n",
      "Epoch 00027: val_accuracy did not improve from 0.89893\n",
      "Epoch 28/50\n",
      "82/82 [==============================] - 2s 24ms/step - loss: 0.1705 - accuracy: 0.9368 - val_loss: 0.3150 - val_accuracy: 0.8913\n",
      "\n",
      "Epoch 00028: val_accuracy did not improve from 0.89893\n",
      "Epoch 29/50\n",
      "82/82 [==============================] - 2s 22ms/step - loss: 0.1554 - accuracy: 0.9406 - val_loss: 0.2957 - val_accuracy: 0.8959\n",
      "\n",
      "Epoch 00029: val_accuracy did not improve from 0.89893\n",
      "Epoch 30/50\n",
      "82/82 [==============================] - 2s 24ms/step - loss: 0.1441 - accuracy: 0.9537 - val_loss: 0.2851 - val_accuracy: 0.8928\n",
      "\n",
      "Epoch 00030: val_accuracy did not improve from 0.89893\n",
      "Epoch 31/50\n",
      "82/82 [==============================] - 2s 22ms/step - loss: 0.1323 - accuracy: 0.9517 - val_loss: 0.3079 - val_accuracy: 0.9005\n",
      "\n",
      "Epoch 00031: val_accuracy improved from 0.89893 to 0.90046, saving model to cnn.h5\n",
      "Epoch 32/50\n",
      "82/82 [==============================] - 2s 24ms/step - loss: 0.1130 - accuracy: 0.9609 - val_loss: 0.3001 - val_accuracy: 0.8943\n",
      "\n",
      "Epoch 00032: val_accuracy did not improve from 0.90046\n",
      "Epoch 33/50\n",
      "82/82 [==============================] - 2s 25ms/step - loss: 0.1247 - accuracy: 0.9586 - val_loss: 0.2800 - val_accuracy: 0.9035\n",
      "\n",
      "Epoch 00033: val_accuracy improved from 0.90046 to 0.90352, saving model to cnn.h5\n",
      "Epoch 34/50\n",
      "82/82 [==============================] - 2s 24ms/step - loss: 0.1005 - accuracy: 0.9632 - val_loss: 0.3114 - val_accuracy: 0.9035\n",
      "\n",
      "Epoch 00034: val_accuracy did not improve from 0.90352\n",
      "Epoch 35/50\n",
      "82/82 [==============================] - 2s 22ms/step - loss: 0.1044 - accuracy: 0.9583 - val_loss: 0.2973 - val_accuracy: 0.9035\n",
      "\n",
      "Epoch 00035: val_accuracy did not improve from 0.90352\n",
      "Epoch 36/50\n",
      "82/82 [==============================] - 2s 24ms/step - loss: 0.1073 - accuracy: 0.9606 - val_loss: 0.3134 - val_accuracy: 0.8974\n",
      "\n",
      "Epoch 00036: val_accuracy did not improve from 0.90352\n",
      "Epoch 37/50\n",
      "82/82 [==============================] - 2s 26ms/step - loss: 0.1125 - accuracy: 0.9617 - val_loss: 0.3525 - val_accuracy: 0.8928\n",
      "\n",
      "Epoch 00037: val_accuracy did not improve from 0.90352\n",
      "Epoch 38/50\n",
      "82/82 [==============================] - 2s 23ms/step - loss: 0.1150 - accuracy: 0.9552 - val_loss: 0.3373 - val_accuracy: 0.8974\n",
      "\n",
      "Epoch 00038: val_accuracy did not improve from 0.90352\n",
      "Epoch 39/50\n",
      "82/82 [==============================] - 2s 24ms/step - loss: 0.0988 - accuracy: 0.9628 - val_loss: 0.3083 - val_accuracy: 0.9035\n",
      "\n",
      "Epoch 00039: val_accuracy did not improve from 0.90352\n",
      "Epoch 40/50\n",
      "82/82 [==============================] - 2s 22ms/step - loss: 0.0958 - accuracy: 0.9674 - val_loss: 0.3246 - val_accuracy: 0.9051\n",
      "\n",
      "Epoch 00040: val_accuracy improved from 0.90352 to 0.90505, saving model to cnn.h5\n",
      "Epoch 41/50\n",
      "82/82 [==============================] - 2s 24ms/step - loss: 0.0924 - accuracy: 0.9705 - val_loss: 0.3937 - val_accuracy: 0.9005\n",
      "\n",
      "Epoch 00041: val_accuracy did not improve from 0.90505\n",
      "Epoch 42/50\n",
      "82/82 [==============================] - 2s 24ms/step - loss: 0.0877 - accuracy: 0.9713 - val_loss: 0.3146 - val_accuracy: 0.9066\n",
      "\n",
      "Epoch 00042: val_accuracy improved from 0.90505 to 0.90658, saving model to cnn.h5\n",
      "Epoch 43/50\n",
      "82/82 [==============================] - 2s 25ms/step - loss: 0.0795 - accuracy: 0.9705 - val_loss: 0.3540 - val_accuracy: 0.9020\n",
      "\n",
      "Epoch 00043: val_accuracy did not improve from 0.90658\n",
      "Epoch 44/50\n",
      "82/82 [==============================] - 2s 22ms/step - loss: 0.0820 - accuracy: 0.9728 - val_loss: 0.3096 - val_accuracy: 0.9051\n",
      "\n",
      "Epoch 00044: val_accuracy did not improve from 0.90658\n",
      "Epoch 45/50\n",
      "82/82 [==============================] - 2s 22ms/step - loss: 0.0724 - accuracy: 0.9759 - val_loss: 0.3248 - val_accuracy: 0.9066\n",
      "\n",
      "Epoch 00045: val_accuracy did not improve from 0.90658\n",
      "Epoch 46/50\n",
      "82/82 [==============================] - 2s 25ms/step - loss: 0.0763 - accuracy: 0.9743 - val_loss: 0.3459 - val_accuracy: 0.9051\n",
      "\n",
      "Epoch 00046: val_accuracy did not improve from 0.90658\n",
      "Epoch 47/50\n",
      "82/82 [==============================] - 2s 22ms/step - loss: 0.0758 - accuracy: 0.9709 - val_loss: 0.3497 - val_accuracy: 0.9112\n",
      "\n",
      "Epoch 00047: val_accuracy improved from 0.90658 to 0.91118, saving model to cnn.h5\n",
      "Epoch 48/50\n",
      "82/82 [==============================] - 2s 25ms/step - loss: 0.0667 - accuracy: 0.9728 - val_loss: 0.3421 - val_accuracy: 0.9035\n",
      "\n",
      "Epoch 00048: val_accuracy did not improve from 0.91118\n",
      "Epoch 49/50\n",
      "82/82 [==============================] - 2s 24ms/step - loss: 0.0684 - accuracy: 0.9759 - val_loss: 0.3242 - val_accuracy: 0.9112\n",
      "\n",
      "Epoch 00049: val_accuracy did not improve from 0.91118\n",
      "Epoch 50/50\n",
      "82/82 [==============================] - 2s 24ms/step - loss: 0.0582 - accuracy: 0.9820 - val_loss: 0.2953 - val_accuracy: 0.9173\n",
      "\n",
      "Epoch 00050: val_accuracy improved from 0.91118 to 0.91730, saving model to cnn.h5\n"
     ]
    }
   ],
   "source": [
    "tensorboard = TensorBoard(log_dir = 'logs')\n",
    "checkpoint = ModelCheckpoint(\"cnn.h5\",monitor=\"val_accuracy\",save_best_only=True,mode=\"max\",verbose=1)\n",
    "opt = Adam(learning_rate=0.0001) \n",
    "model.compile(loss='categorical_crossentropy', optimizer=opt, metrics=['accuracy'])\n",
    "\n",
    "\n",
    "history = model.fit(X_train, y_train, batch_size=32, epochs=50,validation_data=(X_test,y_test),verbose=1,callbacks=[tensorboard,checkpoint])\n"
   ]
  },
  {
   "attachments": {},
   "cell_type": "markdown",
   "id": "d3d20bfc",
   "metadata": {},
   "source": [
    "# Evaluación en el conjunto de datos de prueba"
   ]
  },
  {
   "cell_type": "code",
   "execution_count": 13,
   "id": "5ceb5054",
   "metadata": {
    "execution": {
     "iopub.execute_input": "2023-06-15T05:42:41.874624Z",
     "iopub.status.busy": "2023-06-15T05:42:41.874065Z",
     "iopub.status.idle": "2023-06-15T05:42:42.385068Z",
     "shell.execute_reply": "2023-06-15T05:42:42.381884Z"
    },
    "papermill": {
     "duration": 0.74131,
     "end_time": "2023-06-15T05:42:42.389539",
     "exception": false,
     "start_time": "2023-06-15T05:42:41.648229",
     "status": "completed"
    },
    "tags": []
   },
   "outputs": [
    {
     "name": "stdout",
     "output_type": "stream",
     "text": [
      "21/21 [==============================] - 0s 11ms/step - loss: 0.2953 - accuracy: 0.9173\n",
      "Perdidas en conjunto de pruebas: 0.29531946778297424\n",
      "Exactitud en conjunto de pruebas: 0.9173047542572021\n"
     ]
    }
   ],
   "source": [
    "loss, accuracy = model.evaluate(X_test, y_test)\n",
    "print('Perdidas en conjunto de pruebas:', loss)\n",
    "print('Exactitud en conjunto de pruebas:', accuracy)\n"
   ]
  },
  {
   "attachments": {},
   "cell_type": "markdown",
   "id": "4e837e5e",
   "metadata": {},
   "source": [
    "# Graficas de exactitud y perdida"
   ]
  },
  {
   "cell_type": "code",
   "execution_count": 14,
   "id": "b89178f7",
   "metadata": {
    "execution": {
     "iopub.execute_input": "2023-06-15T05:42:42.808325Z",
     "iopub.status.busy": "2023-06-15T05:42:42.807832Z",
     "iopub.status.idle": "2023-06-15T05:42:43.419928Z",
     "shell.execute_reply": "2023-06-15T05:42:43.418807Z"
    },
    "papermill": {
     "duration": 0.81845,
     "end_time": "2023-06-15T05:42:43.422864",
     "exception": false,
     "start_time": "2023-06-15T05:42:42.604414",
     "status": "completed"
    },
    "tags": []
   },
   "outputs": [
    {
     "data": {
      "image/png": "[encoded data removed]",
      "text/plain": [
       "<Figure size 1008x504 with 2 Axes>"
      ]
     },
     "metadata": {
      "needs_background": "light"
     },
     "output_type": "display_data"
    }
   ],
   "source": [
    "model.save('/modelos/Brain_Tumor_CNN.h5')\n",
    "colors_dark = [\"#1F1F1F\", \"#313131\", '#636363', '#AEAEAE', '#DADADA']\n",
    "colors_red = [\"#331313\", \"#582626\", '#9E1717', '#D35151', '#E9B4B4']\n",
    "colors_green = ['#01411C','#4B6F44','#4F7942','#74C365','#D0F0C0']\n",
    "\n",
    "epochs = [i for i in range(50)]\n",
    "fig, ax = plt.subplots(1,2,figsize=(14,7))\n",
    "train_acc = history.history['accuracy']\n",
    "train_loss = history.history['loss']\n",
    "val_acc = history.history['val_accuracy']\n",
    "val_loss = history.history['val_loss']\n",
    "\n",
    "fig.text(s='Epocas vs perdida y exactitud en entrenamiento y validación.',size=18,fontweight='bold',\n",
    "             fontname='monospace',color=colors_dark[1],y=1,x=0.28,alpha=0.8)\n",
    "\n",
    "sns.despine()\n",
    "ax[0].plot(epochs, train_acc, marker='o',markerfacecolor=colors_green[2],color=colors_green[3],\n",
    "           label = 'Exactitud de entrenamiento')\n",
    "ax[0].plot(epochs, val_acc, marker='o',markerfacecolor=colors_red[2],color=colors_red[3],\n",
    "           label = 'Exactitud de validación')\n",
    "ax[0].legend(frameon=False)\n",
    "ax[0].set_xlabel('Epocas')\n",
    "ax[0].set_ylabel('Exactitud')\n",
    "\n",
    "sns.despine()\n",
    "ax[1].plot(epochs, train_loss, marker='o',markerfacecolor=colors_green[2],color=colors_green[3],\n",
    "           label ='Perdidas de entrenamiento')\n",
    "ax[1].plot(epochs, val_loss, marker='o',markerfacecolor=colors_red[2],color=colors_red[3],\n",
    "           label = 'Perdidas de validación')\n",
    "ax[1].legend(frameon=False)\n",
    "ax[1].set_xlabel('Epocas')\n",
    "ax[1].set_ylabel('Perdidas')\n",
    "\n",
    "fig.show()\n"
   ]
  },
  {
   "cell_type": "code",
   "execution_count": 15,
   "id": "da9e2acc",
   "metadata": {
    "execution": {
     "iopub.execute_input": "2023-06-15T05:42:43.707830Z",
     "iopub.status.busy": "2023-06-15T05:42:43.707429Z",
     "iopub.status.idle": "2023-06-15T05:42:44.133238Z",
     "shell.execute_reply": "2023-06-15T05:42:44.132251Z"
    },
    "papermill": {
     "duration": 0.571956,
     "end_time": "2023-06-15T05:42:44.136037",
     "exception": false,
     "start_time": "2023-06-15T05:42:43.564081",
     "status": "completed"
    },
    "tags": []
   },
   "outputs": [
    {
     "data": {
      "text/plain": [
       "array([1, 2, 3, 2, 3, 1, 3, 1, 3, 2, 1, 1, 3, 0, 3, 0, 0, 1, 0, 2, 1, 2,\n",
       "       2, 3, 3, 0, 1, 3, 2, 2, 1, 2, 3, 1, 2, 0, 3, 1, 2, 1, 1, 0, 0, 2,\n",
       "       3, 3, 1, 2, 3, 2, 3, 3, 1, 1, 1, 3, 3, 2, 1, 3, 1, 2, 3, 0, 3, 3,\n",
       "       1, 3, 0, 3, 0, 3, 2, 1, 0, 3, 1, 3, 2, 0, 2, 1, 0, 0, 3, 2, 0, 0,\n",
       "       3, 1, 0, 2, 2, 1, 2, 1, 0, 3, 2, 0, 3, 2, 3, 1, 2, 0, 3, 0, 1, 0,\n",
       "       1, 2, 3, 0, 0, 0, 0, 3, 1, 1, 3, 0, 1, 2, 0, 1, 3, 3, 0, 1, 3, 0,\n",
       "       3, 0, 3, 3, 1, 0, 0, 0, 0, 1, 3, 2, 1, 1, 3, 2, 3, 1, 1, 2, 2, 0,\n",
       "       3, 3, 2, 2, 3, 2, 1, 1, 2, 1, 1, 1, 3, 0, 0, 0, 1, 3, 3, 1, 1, 0,\n",
       "       0, 2, 0, 2, 1, 2, 2, 1, 0, 3, 2, 1, 2, 0, 1, 3, 1, 3, 0, 1, 0, 2,\n",
       "       1, 1, 3, 1, 1, 0, 2, 2, 3, 1, 0, 2, 3, 0, 1, 3, 0, 3, 3, 0, 1, 1,\n",
       "       3, 0, 1, 3, 2, 1, 3, 2, 3, 1, 2, 2, 3, 0, 1, 2, 0, 0, 2, 2, 3, 3,\n",
       "       0, 1, 0, 2, 0, 1, 3, 3, 2, 3, 3, 2, 0, 2, 2, 1, 3, 1, 3, 0, 1, 3,\n",
       "       1, 2, 3, 0, 1, 0, 0, 1, 2, 1, 3, 0, 2, 0, 2, 0, 1, 1, 1, 3, 1, 2,\n",
       "       3, 0, 1, 1, 0, 1, 1, 0, 0, 0, 3, 1, 2, 0, 0, 1, 2, 1, 2, 3, 1, 2,\n",
       "       1, 2, 0, 3, 3, 2, 2, 0, 0, 1, 0, 0, 2, 2, 3, 3, 1, 3, 2, 1, 3, 3,\n",
       "       0, 3, 0, 3, 0, 3, 0, 0, 2, 0, 1, 3, 3, 0, 0, 0, 2, 0, 1, 2, 0, 3,\n",
       "       1, 1, 3, 0, 1, 1, 1, 3, 1, 0, 3, 0, 3, 3, 1, 0, 3, 3, 1, 0, 2, 0,\n",
       "       0, 0, 0, 1, 1, 1, 1, 1, 0, 0, 1, 0, 1, 2, 1, 1, 3, 1, 1, 1, 3, 1,\n",
       "       3, 0, 2, 3, 1, 0, 2, 1, 2, 3, 3, 1, 2, 2, 3, 1, 1, 3, 3, 3, 0, 3,\n",
       "       2, 3, 3, 2, 2, 1, 3, 0, 0, 3, 3, 0, 3, 0, 1, 3, 3, 0, 1, 0, 0, 0,\n",
       "       2, 3, 1, 3, 0, 3, 2, 1, 0, 3, 0, 0, 1, 1, 2, 3, 3, 3, 2, 3, 1, 2,\n",
       "       2, 0, 1, 0, 0, 3, 3, 3, 1, 1, 3, 0, 0, 1, 3, 3, 3, 0, 2, 3, 2, 3,\n",
       "       3, 1, 3, 3, 1, 0, 3, 1, 0, 2, 3, 1, 3, 0, 0, 0, 1, 2, 1, 1, 3, 1,\n",
       "       0, 1, 2, 3, 2, 3, 1, 2, 1, 0, 3, 1, 3, 2, 2, 3, 1, 3, 3, 3, 1, 1,\n",
       "       3, 2, 3, 1, 3, 0, 1, 3, 1, 0, 2, 3, 1, 0, 3, 0, 3, 3, 0, 1, 1, 3,\n",
       "       3, 3, 2, 2, 1, 1, 2, 1, 3, 2, 3, 3, 0, 0, 0, 0, 1, 0, 2, 0, 1, 1,\n",
       "       1, 1, 2, 0, 1, 2, 3, 0, 3, 1, 1, 3, 3, 0, 3, 1, 2, 0, 0, 2, 3, 0,\n",
       "       2, 3, 3, 0, 0, 0, 1, 0, 0, 0, 2, 3, 1, 1, 3, 1, 1, 3, 2, 1, 1, 0,\n",
       "       1, 3, 1, 3, 3, 1, 1, 0, 3, 0, 3, 1, 2, 2, 0, 1, 3, 0, 3, 1, 2, 3,\n",
       "       3, 2, 3, 2, 0, 0, 1, 3, 2, 1, 0, 0, 2, 3, 3])"
      ]
     },
     "execution_count": 15,
     "metadata": {},
     "output_type": "execute_result"
    }
   ],
   "source": [
    "pred_prob = model.predict(X_test)\n",
    "pred = np.argmax(pred_prob,axis=1)\n",
    "y_test_new = np.argmax(y_test.to_numpy(),axis=1)\n",
    "y_test_new"
   ]
  },
  {
   "attachments": {},
   "cell_type": "markdown",
   "id": "db047f27",
   "metadata": {},
   "source": [
    "# Reporte de clasificación.\n",
    "En este caso los valores que arroja el reporte de clasificacion son los siguientes:\n",
    "* Precisión: es la medida de qué tan bien la red neuronal convolucional identifica positivos verdaderos (TP) en comparación con falsos positivos (FP). \n",
    "* Recall: es la medida de qué tan bien la red neuronal convolucional identifica TP en comparación con falsos negativos (FN). \n",
    "* F1-score: es la media armónica entre la precisión y el recall. Es una medida de la precisión general del modelo.\n",
    "\n",
    "TP, FP, TN y FN se refieren a los diferentes tipos de predicciones que se pueden hacer al evaluar\n",
    "* TP (verdaderos positivos) se refiere a la cantidad de casos positivos que se clasifican correctamente como positivos.\n",
    "* FP (falsos positivos) se refiere a la cantidad de casos negativos que se clasifican incorrectamente.\n",
    "* TN (verdaderos negativos) se refiere a la cantidad de casos negativos que se clasifican correctamente como negativos.\n",
    "* FN (falsos negativos) se refiere a la cantidad de casos positivos que se clasifican incorrectamente como negativo.\n"
   ]
  },
  {
   "cell_type": "code",
   "execution_count": 16,
   "id": "2b763898",
   "metadata": {
    "execution": {
     "iopub.execute_input": "2023-06-15T05:42:44.421582Z",
     "iopub.status.busy": "2023-06-15T05:42:44.421162Z",
     "iopub.status.idle": "2023-06-15T05:42:44.434188Z",
     "shell.execute_reply": "2023-06-15T05:42:44.432479Z"
    },
    "papermill": {
     "duration": 0.158343,
     "end_time": "2023-06-15T05:42:44.436726",
     "exception": false,
     "start_time": "2023-06-15T05:42:44.278383",
     "status": "completed"
    },
    "tags": []
   },
   "outputs": [
    {
     "name": "stdout",
     "output_type": "stream",
     "text": [
      "              precision    recall  f1-score   support\n",
      "\n",
      "           0       0.88      0.91      0.89       162\n",
      "           1       0.88      0.90      0.89       180\n",
      "           2       0.95      0.86      0.91       122\n",
      "           3       0.97      0.98      0.97       189\n",
      "\n",
      "    accuracy                           0.92       653\n",
      "   macro avg       0.92      0.91      0.92       653\n",
      "weighted avg       0.92      0.92      0.92       653\n",
      "\n"
     ]
    }
   ],
   "source": [
    "print(classification_report(y_test_new,pred))"
   ]
  },
  {
   "cell_type": "code",
   "execution_count": 17,
   "id": "b50b6029",
   "metadata": {
    "execution": {
     "iopub.execute_input": "2023-06-15T05:42:44.722863Z",
     "iopub.status.busy": "2023-06-15T05:42:44.722465Z",
     "iopub.status.idle": "2023-06-15T05:42:45.037382Z",
     "shell.execute_reply": "2023-06-15T05:42:45.036393Z"
    },
    "papermill": {
     "duration": 0.458642,
     "end_time": "2023-06-15T05:42:45.040178",
     "exception": false,
     "start_time": "2023-06-15T05:42:44.581536",
     "status": "completed"
    },
    "tags": []
   },
   "outputs": [
    {
     "data": {
      "image/png": "[encoded data removed]",
      "text/plain": [
       "<Figure size 432x288 with 2 Axes>"
      ]
     },
     "metadata": {
      "needs_background": "light"
     },
     "output_type": "display_data"
    }
   ],
   "source": [
    "ConfusionMatrixDisplay.from_predictions(y_test_new, pred,display_labels=y_train.columns,\n",
    "                                        cmap='Blues', xticks_rotation=\"vertical\");"
   ]
  },
  {
   "cell_type": "code",
   "execution_count": 18,
   "id": "4af09bb5",
   "metadata": {
    "execution": {
     "iopub.execute_input": "2023-06-15T05:42:45.327541Z",
     "iopub.status.busy": "2023-06-15T05:42:45.326079Z",
     "iopub.status.idle": "2023-06-15T05:42:45.618939Z",
     "shell.execute_reply": "2023-06-15T05:42:45.617858Z"
    },
    "papermill": {
     "duration": 0.440704,
     "end_time": "2023-06-15T05:42:45.621705",
     "exception": false,
     "start_time": "2023-06-15T05:42:45.181001",
     "status": "completed"
    },
    "tags": []
   },
   "outputs": [],
   "source": [
    "model.save(\"modelo_completo.h5\")\n",
    "\n",
    "loaded_model = keras.models.load_model(\"modelo_completo.h5\")"
   ]
  },
  {
   "cell_type": "code",
   "execution_count": 19,
   "id": "0a58763e",
   "metadata": {
    "execution": {
     "iopub.execute_input": "2023-06-15T05:42:45.969118Z",
     "iopub.status.busy": "2023-06-15T05:42:45.968738Z",
     "iopub.status.idle": "2023-06-15T05:42:46.124989Z",
     "shell.execute_reply": "2023-06-15T05:42:46.123451Z"
    },
    "papermill": {
     "duration": 0.366036,
     "end_time": "2023-06-15T05:42:46.127402",
     "exception": false,
     "start_time": "2023-06-15T05:42:45.761366",
     "status": "completed"
    },
    "tags": []
   },
   "outputs": [
    {
     "name": "stdout",
     "output_type": "stream",
     "text": [
      "Clase predicha: 0\n"
     ]
    }
   ],
   "source": [
    "new_image = cv2.resize(cv2.imread(\"/kaggle/input/brain-tumor-classification-mri/Training/glioma_tumor/gg (1).jpg\"), (img_size, img_size))\n",
    "new_image = np.expand_dims(new_image, axis=0)\n",
    "new_image = new_image.astype('float32') / 255.0\n",
    "prediction = loaded_model.predict(new_image)\n",
    "predicted_class = np.argmax(prediction)\n",
    "\n",
    "# Imprime la clase predicha\n",
    "print(\"Clase predicha:\", predicted_class)"
   ]
  }
 ],
 "metadata": {
  "kernelspec": {
   "display_name": "Python 3",
   "language": "python",
   "name": "python3"
  },
  "language_info": {
   "codemirror_mode": {
    "name": "ipython",
    "version": 3
   },
   "file_extension": ".py",
   "mimetype": "text/x-python",
   "name": "python",
   "nbconvert_exporter": "python",
   "pygments_lexer": "ipython3",
   "version": "3.9.1"
  },
  "papermill": {
   "default_parameters": {},
   "duration": 195.690462,
   "end_time": "2023-06-15T05:42:49.731165",
   "environment_variables": {},
   "exception": null,
   "input_path": "__notebook__.ipynb",
   "output_path": "__notebook__.ipynb",
   "parameters": {},
   "start_time": "2023-06-15T05:39:34.040703",
   "version": "2.3.4"
  }
 },
 "nbformat": 4,
 "nbformat_minor": 5
}
