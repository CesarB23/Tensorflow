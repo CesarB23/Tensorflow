{
 "cells": [
  {
   "attachments": {},
   "cell_type": "markdown",
   "id": "02d4f976",
   "metadata": {
    "papermill": {
     "duration": 0.008266,
     "end_time": "2023-04-11T05:08:20.994370",
     "exception": false,
     "start_time": "2023-04-11T05:08:20.986104",
     "status": "completed"
    },
    "tags": []
   },
   "source": [
    "# **Importamos librerias**"
   ]
  },
  {
   "cell_type": "code",
   "execution_count": 1,
   "id": "accce3e0",
   "metadata": {
    "execution": {
     "iopub.execute_input": "2023-04-11T05:08:21.007970Z",
     "iopub.status.busy": "2023-04-11T05:08:21.007104Z",
     "iopub.status.idle": "2023-04-11T05:08:27.098243Z",
     "shell.execute_reply": "2023-04-11T05:08:27.097219Z"
    },
    "papermill": {
     "duration": 6.100144,
     "end_time": "2023-04-11T05:08:27.100884",
     "exception": false,
     "start_time": "2023-04-11T05:08:21.000740",
     "status": "completed"
    },
    "tags": []
   },
   "outputs": [],
   "source": [
    "import os\n",
    "import seaborn as sns\n",
    "from tqdm import tqdm\n",
    "import numpy as np\n",
    "import pandas as pd\n",
    "import matplotlib.pyplot as plt\n",
    "import cv2\n",
    "import tensorflow as tf\n",
    "from tensorflow import keras\n",
    "from sklearn.model_selection import train_test_split\n",
    "from keras.preprocessing.image import ImageDataGenerator\n",
    "from keras.models import Sequential\n",
    "from keras.layers import Conv2D, MaxPooling2D, Flatten, Dense, Dropout, Activation\n",
    "from tensorflow.keras.optimizers import Adam\n",
    "from sklearn.metrics import classification_report,confusion_matrix, ConfusionMatrixDisplay\n",
    "from tensorflow.keras.callbacks import TensorBoard, ModelCheckpoint"
   ]
  },
  {
   "attachments": {},
   "cell_type": "markdown",
   "id": "ebe926c9",
   "metadata": {
    "papermill": {
     "duration": 0.005224,
     "end_time": "2023-04-11T05:08:27.111218",
     "exception": false,
     "start_time": "2023-04-11T05:08:27.105994",
     "status": "completed"
    },
    "tags": []
   },
   "source": [
    "# Cargamos el conjunto de datos de prueba y entrenamiento al programa.\n",
    "Mediante la ruta donde se encuentran guardadas las imágenes tanto de entrenamiento y prueba, podemos acceder a cada una de ellas, leerlas, guardarlas correctamente a la clase a la que pertenecen, en este caso en alguna de las siguientes 4:\n",
    "* 1. Glioma\n",
    "* 2. Meningioma\n",
    "* 3. Pituitario\n",
    "* 4. No tumor\n",
    "\n",
    "Una vez que las imágenes se clasifican correctamente, se reescalan a un valor de (128,128) pixeles para trabajarlas en una escala normalizada."
   ]
  },
  {
   "cell_type": "code",
   "execution_count": 2,
   "id": "a95eb463",
   "metadata": {
    "execution": {
     "iopub.execute_input": "2023-04-11T05:08:27.122821Z",
     "iopub.status.busy": "2023-04-11T05:08:27.121630Z",
     "iopub.status.idle": "2023-04-11T05:08:51.142172Z",
     "shell.execute_reply": "2023-04-11T05:08:51.141058Z"
    },
    "papermill": {
     "duration": 24.028884,
     "end_time": "2023-04-11T05:08:51.144762",
     "exception": false,
     "start_time": "2023-04-11T05:08:27.115878",
     "status": "completed"
    },
    "tags": []
   },
   "outputs": [
    {
     "name": "stderr",
     "output_type": "stream",
     "text": [
      "100%|██████████| 395/395 [00:02<00:00, 155.74it/s]\n",
      "100%|██████████| 827/827 [00:06<00:00, 127.17it/s]\n",
      "100%|██████████| 822/822 [00:05<00:00, 151.87it/s]\n",
      "100%|██████████| 826/826 [00:06<00:00, 136.56it/s]\n",
      "100%|██████████| 105/105 [00:00<00:00, 215.80it/s]\n",
      "100%|██████████| 74/74 [00:00<00:00, 94.72it/s]\n",
      "100%|██████████| 115/115 [00:00<00:00, 164.93it/s]\n",
      "100%|██████████| 100/100 [00:00<00:00, 137.15it/s]\n"
     ]
    }
   ],
   "source": [
    "#Rutas\n",
    "path_train = ('Brain MRI/Training/')\n",
    "path_test = ('Brain MRI/Testing/')\n",
    "\n",
    "#Datos (X)\n",
    "X = []\n",
    "#Clases (y)\n",
    "y = []\n",
    "#Tamaño de imagenes\n",
    "img_size = 128\n",
    "\n",
    "# Lectura de datos de entrenamiento\n",
    "for i in os.listdir(path_train):\n",
    "    for j in tqdm(os.listdir(path_train+i)):\n",
    "        X.append(cv2.resize(cv2.imread(path_train+i+'/'+j), (img_size,img_size))) \n",
    "        y.append(i)\n",
    "\n",
    "#Lectura de datos de entrenamiento\n",
    "for i in os.listdir(path_test):\n",
    "    for j in tqdm(os.listdir(path_test+i)):\n",
    "        X.append(cv2.resize(cv2.imread(path_test+i+'/'+j), (img_size,img_size))) \n",
    "        y.append(i)"
   ]
  },
  {
   "attachments": {},
   "cell_type": "markdown",
   "id": "6302bef3",
   "metadata": {},
   "source": [
    "### Conversión de las imágenes a matrices\n",
    "La computadora no sabe lo que es una imagen, pero lo puede interpretar mediante números, podemos asignar un valor de 0 a 255 a cada uno de los pixeles que conforman las imágenes y pasarlo como una matriz de números.\n",
    "### Creación de los conjuntos de datos\n",
    "Una vez que las imágenes se convierten a matrices, este será el conjunto de datos con todas las características que el modelo aprenderá para intentar clasificarlos correctamente de acuerdo con su clase \"y\".\n",
    "\n",
    "También se convierten los datos \"y\", las etiquetas a una tabla que contenga las categorías, donde los 1 representan la clase a la que pertenece"
   ]
  },
  {
   "cell_type": "code",
   "execution_count": 3,
   "id": "283fbbb8",
   "metadata": {
    "execution": {
     "iopub.execute_input": "2023-04-11T05:08:51.179221Z",
     "iopub.status.busy": "2023-04-11T05:08:51.178878Z",
     "iopub.status.idle": "2023-04-11T05:08:51.253677Z",
     "shell.execute_reply": "2023-04-11T05:08:51.252655Z"
    },
    "papermill": {
     "duration": 0.093947,
     "end_time": "2023-04-11T05:08:51.255699",
     "exception": false,
     "start_time": "2023-04-11T05:08:51.161752",
     "status": "completed"
    },
    "tags": []
   },
   "outputs": [
    {
     "name": "stdout",
     "output_type": "stream",
     "text": [
      "(3264, 128, 128, 3)\n",
      "(3264, 4)\n"
     ]
    }
   ],
   "source": [
    "#Conversion de las imagenes a un tensor (conjunto de matrices)\n",
    "X = np.array(X)\n",
    "#Conversion de las Clases a categorias\n",
    "y = pd.get_dummies(y)\n",
    "#Cantidad de datos, tamaño de las imanges y cantidad de canales RGB\n",
    "print(X.shape)\n",
    "#Nombres transformados en categorias\n",
    "print(y.shape)"
   ]
  },
  {
   "cell_type": "code",
   "execution_count": 4,
   "id": "0210b1e4",
   "metadata": {
    "execution": {
     "iopub.execute_input": "2023-04-11T05:08:51.291137Z",
     "iopub.status.busy": "2023-04-11T05:08:51.290273Z",
     "iopub.status.idle": "2023-04-11T05:08:51.307386Z",
     "shell.execute_reply": "2023-04-11T05:08:51.306501Z"
    },
    "papermill": {
     "duration": 0.037107,
     "end_time": "2023-04-11T05:08:51.309404",
     "exception": false,
     "start_time": "2023-04-11T05:08:51.272297",
     "status": "completed"
    },
    "tags": []
   },
   "outputs": [
    {
     "data": {
      "text/html": [
       "<div>\n",
       "<style scoped>\n",
       "    .dataframe tbody tr th:only-of-type {\n",
       "        vertical-align: middle;\n",
       "    }\n",
       "\n",
       "    .dataframe tbody tr th {\n",
       "        vertical-align: top;\n",
       "    }\n",
       "\n",
       "    .dataframe thead th {\n",
       "        text-align: right;\n",
       "    }\n",
       "</style>\n",
       "<table border=\"1\" class=\"dataframe\">\n",
       "  <thead>\n",
       "    <tr style=\"text-align: right;\">\n",
       "      <th></th>\n",
       "      <th>glioma_tumor</th>\n",
       "      <th>meningioma_tumor</th>\n",
       "      <th>no_tumor</th>\n",
       "      <th>pituitary_tumor</th>\n",
       "    </tr>\n",
       "  </thead>\n",
       "  <tbody>\n",
       "    <tr>\n",
       "      <th>0</th>\n",
       "      <td>0</td>\n",
       "      <td>0</td>\n",
       "      <td>1</td>\n",
       "      <td>0</td>\n",
       "    </tr>\n",
       "    <tr>\n",
       "      <th>1</th>\n",
       "      <td>0</td>\n",
       "      <td>0</td>\n",
       "      <td>1</td>\n",
       "      <td>0</td>\n",
       "    </tr>\n",
       "    <tr>\n",
       "      <th>2</th>\n",
       "      <td>0</td>\n",
       "      <td>0</td>\n",
       "      <td>1</td>\n",
       "      <td>0</td>\n",
       "    </tr>\n",
       "    <tr>\n",
       "      <th>3</th>\n",
       "      <td>0</td>\n",
       "      <td>0</td>\n",
       "      <td>1</td>\n",
       "      <td>0</td>\n",
       "    </tr>\n",
       "    <tr>\n",
       "      <th>4</th>\n",
       "      <td>0</td>\n",
       "      <td>0</td>\n",
       "      <td>1</td>\n",
       "      <td>0</td>\n",
       "    </tr>\n",
       "    <tr>\n",
       "      <th>...</th>\n",
       "      <td>...</td>\n",
       "      <td>...</td>\n",
       "      <td>...</td>\n",
       "      <td>...</td>\n",
       "    </tr>\n",
       "    <tr>\n",
       "      <th>3259</th>\n",
       "      <td>1</td>\n",
       "      <td>0</td>\n",
       "      <td>0</td>\n",
       "      <td>0</td>\n",
       "    </tr>\n",
       "    <tr>\n",
       "      <th>3260</th>\n",
       "      <td>1</td>\n",
       "      <td>0</td>\n",
       "      <td>0</td>\n",
       "      <td>0</td>\n",
       "    </tr>\n",
       "    <tr>\n",
       "      <th>3261</th>\n",
       "      <td>1</td>\n",
       "      <td>0</td>\n",
       "      <td>0</td>\n",
       "      <td>0</td>\n",
       "    </tr>\n",
       "    <tr>\n",
       "      <th>3262</th>\n",
       "      <td>1</td>\n",
       "      <td>0</td>\n",
       "      <td>0</td>\n",
       "      <td>0</td>\n",
       "    </tr>\n",
       "    <tr>\n",
       "      <th>3263</th>\n",
       "      <td>1</td>\n",
       "      <td>0</td>\n",
       "      <td>0</td>\n",
       "      <td>0</td>\n",
       "    </tr>\n",
       "  </tbody>\n",
       "</table>\n",
       "<p>3264 rows × 4 columns</p>\n",
       "</div>"
      ],
      "text/plain": [
       "      glioma_tumor  meningioma_tumor  no_tumor  pituitary_tumor\n",
       "0                0                 0         1                0\n",
       "1                0                 0         1                0\n",
       "2                0                 0         1                0\n",
       "3                0                 0         1                0\n",
       "4                0                 0         1                0\n",
       "...            ...               ...       ...              ...\n",
       "3259             1                 0         0                0\n",
       "3260             1                 0         0                0\n",
       "3261             1                 0         0                0\n",
       "3262             1                 0         0                0\n",
       "3263             1                 0         0                0\n",
       "\n",
       "[3264 rows x 4 columns]"
      ]
     },
     "execution_count": 4,
     "metadata": {},
     "output_type": "execute_result"
    }
   ],
   "source": [
    "y"
   ]
  },
  {
   "attachments": {},
   "cell_type": "markdown",
   "id": "874310cd",
   "metadata": {},
   "source": [
    "### Escalamiento de los datos\n",
    "Para ahorrar espacio en memoria y tiempo de procesamiento, los datos se escalan en un factor de 1/255 que es valor máximo para intensidad de color en un pixel"
   ]
  },
  {
   "cell_type": "code",
   "execution_count": 5,
   "id": "b018ed0a",
   "metadata": {
    "execution": {
     "iopub.execute_input": "2023-04-11T05:08:51.343317Z",
     "iopub.status.busy": "2023-04-11T05:08:51.343044Z",
     "iopub.status.idle": "2023-04-11T05:08:51.555668Z",
     "shell.execute_reply": "2023-04-11T05:08:51.554583Z"
    },
    "papermill": {
     "duration": 0.23211,
     "end_time": "2023-04-11T05:08:51.558163",
     "exception": false,
     "start_time": "2023-04-11T05:08:51.326053",
     "status": "completed"
    },
    "tags": []
   },
   "outputs": [],
   "source": [
    "X= X.astype('float32')\n",
    "X[0][:1]\n",
    "X/=255"
   ]
  },
  {
   "attachments": {},
   "cell_type": "markdown",
   "id": "150ceabe",
   "metadata": {},
   "source": [
    "### Visualizacion de un dato del conjunto X"
   ]
  },
  {
   "cell_type": "code",
   "execution_count": 7,
   "id": "3091d515",
   "metadata": {
    "execution": {
     "iopub.execute_input": "2023-04-11T05:08:51.632204Z",
     "iopub.status.busy": "2023-04-11T05:08:51.631934Z",
     "iopub.status.idle": "2023-04-11T05:08:51.848305Z",
     "shell.execute_reply": "2023-04-11T05:08:51.847314Z"
    },
    "papermill": {
     "duration": 0.235643,
     "end_time": "2023-04-11T05:08:51.850628",
     "exception": false,
     "start_time": "2023-04-11T05:08:51.614985",
     "status": "completed"
    },
    "tags": []
   },
   "outputs": [
    {
     "name": "stdout",
     "output_type": "stream",
     "text": [
      "AxesImage(54,36;334.8x217.44)\n"
     ]
    },
    {
     "data": {
      "image/png": "[encoded data removed]",
      "text/plain": [
       "<Figure size 432x288 with 1 Axes>"
      ]
     },
     "metadata": {
      "needs_background": "light"
     },
     "output_type": "display_data"
    }
   ],
   "source": [
    "print(plt.imshow(X[233]))"
   ]
  },
  {
   "attachments": {},
   "cell_type": "markdown",
   "id": "947d2b8f",
   "metadata": {
    "papermill": {
     "duration": 0.016541,
     "end_time": "2023-04-11T05:08:51.884438",
     "exception": false,
     "start_time": "2023-04-11T05:08:51.867897",
     "status": "completed"
    },
    "tags": []
   },
   "source": [
    "# División de los datos\n",
    "Normalmente los proyectos de Machine Learning utilizan 4 conjuntos de datos para su desarrollo:\n",
    "* 1. Datos del conjunto X para entrenamiento\n",
    "* 2. Datos del conjunto X para prueba\n",
    "* 3. Datos del conjunto y para entrenamiento\n",
    "* 4. Datos del conjunto y para prueba\n",
    "\n",
    "La proporción que usualmente se ocupa es 70-80% de los datos son para el entrenamiento, y el restante 20-30% para pruebas.\n",
    "En este caso se usó la proporción 80-20."
   ]
  },
  {
   "cell_type": "code",
   "execution_count": 8,
   "id": "8db292b4",
   "metadata": {
    "execution": {
     "iopub.execute_input": "2023-04-11T05:08:51.919648Z",
     "iopub.status.busy": "2023-04-11T05:08:51.919319Z",
     "iopub.status.idle": "2023-04-11T05:08:52.109512Z",
     "shell.execute_reply": "2023-04-11T05:08:52.108543Z"
    },
    "papermill": {
     "duration": 0.21036,
     "end_time": "2023-04-11T05:08:52.111991",
     "exception": false,
     "start_time": "2023-04-11T05:08:51.901631",
     "status": "completed"
    },
    "tags": []
   },
   "outputs": [],
   "source": [
    "X_train, X_test,y_train, y_test= train_test_split(X, y, test_size= 0.2 , shuffle = True, random_state = 42)"
   ]
  },
  {
   "attachments": {},
   "cell_type": "markdown",
   "id": "bb80d564",
   "metadata": {},
   "source": [
    "### En este caso para tener más imagenes en el conjunto de pruebas, en vez de utilizar la cantidad de datos sugerido por Kaggle, se unieron los dos conjuntos de datos en uno solo y al divirlos en la proporción de 80-20, al final se obtuvo un conjunto de 2611 imagenes de entrenamiento y 653 para pruebas."
   ]
  },
  {
   "cell_type": "code",
   "execution_count": 9,
   "id": "2d1098ea",
   "metadata": {
    "execution": {
     "iopub.execute_input": "2023-04-11T05:08:52.147237Z",
     "iopub.status.busy": "2023-04-11T05:08:52.146932Z",
     "iopub.status.idle": "2023-04-11T05:08:52.153794Z",
     "shell.execute_reply": "2023-04-11T05:08:52.152892Z"
    },
    "papermill": {
     "duration": 0.026794,
     "end_time": "2023-04-11T05:08:52.155940",
     "exception": false,
     "start_time": "2023-04-11T05:08:52.129146",
     "status": "completed"
    },
    "tags": []
   },
   "outputs": [
    {
     "data": {
      "text/plain": [
       "((2611, 128, 128, 3), (653, 128, 128, 3), (2611, 4), (653, 4))"
      ]
     },
     "execution_count": 9,
     "metadata": {},
     "output_type": "execute_result"
    }
   ],
   "source": [
    "X_train.shape, X_test.shape,y_train.shape, y_test.shape"
   ]
  },
  {
   "attachments": {},
   "cell_type": "markdown",
   "id": "19cf43b4",
   "metadata": {
    "papermill": {
     "duration": 0.016584,
     "end_time": "2023-04-11T05:08:52.189262",
     "exception": false,
     "start_time": "2023-04-11T05:08:52.172678",
     "status": "completed"
    },
    "tags": []
   },
   "source": [
    "# Definición de la estructura de la Red Neuronal Convolutiva.\n",
    "Declaramos el modelo de tipo \"Sequential\", que nos permite ir agregando los datos de forma secuencial.\n",
    "\n",
    "* Comenzando por las capas `Conv2D`, son las capas de que llevan a cabo la operación de convolución, la que extrae las características de la imagen para aprender los patrones que caracterizan a cada una de las clases, lo hace mediante \"kernels\" que son filtros con valores que la misma red propone y va cambiando para lograr extraer las características más importantes en este caso para la primera y segunda capa se aplicaron `32` filtros de (2x2), en la tercera capa `128` filtros de (2*2),y en la cuarta capa `64` filtros de (3*3).\n",
    "\n",
    "* después de cada capa de convolución se agrega una función de `activación` en este caso `Relu`, la cual básicamente lo que hace es desechar los pixeles con valores negativos resultantes de las operaciones de convolución aplicada por los \"kernels\" y a los valores positivos los deja tal como están. Esta función lo que permite es ir reduciendo el tamaño de la imagen para obtener las características cada vez más complejas.\n",
    "\n",
    "* Las capas de `MaxPooling` son las que literalmente hacen la reducción de dimensión de la imagen para trabajar cada vez con menos parámetros.\n",
    "\n",
    "* Las capas de `Dropout` apagan cierto porcentaje de neuronas para lograr que el entrenamiento sea más rígido, que no se sobreentrene y que el modelo pueda trabajar casos generales de imágenes, no solo los particulares con los que entreno.\n",
    "\n",
    "* La capa `Flatten` genera un solo vector de neuronas tras obtener todas las características de las imágenes.\n",
    "\n",
    "* La capa `Dense` es la que genera las conexiones de las características aprendidas para finalmente llegar a la capa de clasificación, en este caso se declararon dos de `128 y 64` neuronas. Estas también llevan la función de activación.\n",
    "\n",
    "* La capa final también pertenece a la categoría `Dense`, con la diferencia de que contiene la función de activación `Softmax` la cual se encarga de asignar una probabilidad a cada categoria y escoger el valor más alto para determinar su categoría y solo `4` neuronas de salida que pertenecen a una de las 4 categorías de clasificación.\n"
   ]
  },
  {
   "cell_type": "code",
   "execution_count": 10,
   "id": "f2ecee3b",
   "metadata": {
    "execution": {
     "iopub.execute_input": "2023-04-11T05:08:52.223740Z",
     "iopub.status.busy": "2023-04-11T05:08:52.223452Z",
     "iopub.status.idle": "2023-04-11T05:08:55.048201Z",
     "shell.execute_reply": "2023-04-11T05:08:55.047240Z"
    },
    "papermill": {
     "duration": 2.844689,
     "end_time": "2023-04-11T05:08:55.050638",
     "exception": false,
     "start_time": "2023-04-11T05:08:52.205949",
     "status": "completed"
    },
    "tags": []
   },
   "outputs": [],
   "source": [
    "\n",
    "model = Sequential()\n",
    "\n",
    "\n",
    "model.add(Conv2D(32, (2, 2), padding='same', input_shape=(128,128,3)))\n",
    "model.add(Activation('relu'))\n",
    "\n",
    "model.add(Conv2D(32, (2, 2)))\n",
    "model.add(Activation('relu'))\n",
    "\n",
    "model.add(MaxPooling2D(pool_size=(2, 2)))\n",
    "\n",
    "model.add(Dropout(0.2))\n",
    "\n",
    "model.add(Conv2D(128, (2, 2), padding='same'))\n",
    "model.add(Activation('relu'))\n",
    "\n",
    "model.add(Conv2D(64, (3, 3)))\n",
    "model.add(Activation('relu'))\n",
    "\n",
    "model.add(MaxPooling2D(pool_size=(2, 2)))\n",
    "\n",
    "model.add(Dropout(0.25))\n",
    "\n",
    "model.add(Flatten())\n",
    "\n",
    "model.add(Dense(128))\n",
    "model.add(Activation('relu'))\n",
    "\n",
    "model.add(Dropout(0.5))\n",
    "\n",
    "model.add(Dense(64))\n",
    "model.add(Activation('relu'))\n",
    "\n",
    "model.add(Dense(4, Activation('softmax')))\n"
   ]
  },
  {
   "attachments": {},
   "cell_type": "markdown",
   "id": "3ffdaeb1",
   "metadata": {},
   "source": [
    "### Resumen del modelo\n",
    "La libreria nos permite mostrar un resumen de los parametros que utilizara para entrenar, el cual sera explicado en el apartado de resultados para darle sentido a todos los datos."
   ]
  },
  {
   "cell_type": "code",
   "execution_count": 11,
   "id": "85e9cf02",
   "metadata": {
    "execution": {
     "iopub.execute_input": "2023-04-11T05:08:55.086381Z",
     "iopub.status.busy": "2023-04-11T05:08:55.086028Z",
     "iopub.status.idle": "2023-04-11T05:08:55.093842Z",
     "shell.execute_reply": "2023-04-11T05:08:55.092857Z"
    },
    "papermill": {
     "duration": 0.02783,
     "end_time": "2023-04-11T05:08:55.095820",
     "exception": false,
     "start_time": "2023-04-11T05:08:55.067990",
     "status": "completed"
    },
    "tags": []
   },
   "outputs": [
    {
     "name": "stdout",
     "output_type": "stream",
     "text": [
      "Model: \"sequential\"\n",
      "_________________________________________________________________\n",
      "Layer (type)                 Output Shape              Param #   \n",
      "=================================================================\n",
      "conv2d (Conv2D)              (None, 128, 128, 32)      416       \n",
      "_________________________________________________________________\n",
      "activation (Activation)      (None, 128, 128, 32)      0         \n",
      "_________________________________________________________________\n",
      "conv2d_1 (Conv2D)            (None, 127, 127, 32)      4128      \n",
      "_________________________________________________________________\n",
      "activation_1 (Activation)    (None, 127, 127, 32)      0         \n",
      "_________________________________________________________________\n",
      "max_pooling2d (MaxPooling2D) (None, 63, 63, 32)        0         \n",
      "_________________________________________________________________\n",
      "dropout (Dropout)            (None, 63, 63, 32)        0         \n",
      "_________________________________________________________________\n",
      "conv2d_2 (Conv2D)            (None, 63, 63, 128)       16512     \n",
      "_________________________________________________________________\n",
      "activation_2 (Activation)    (None, 63, 63, 128)       0         \n",
      "_________________________________________________________________\n",
      "conv2d_3 (Conv2D)            (None, 61, 61, 64)        73792     \n",
      "_________________________________________________________________\n",
      "activation_3 (Activation)    (None, 61, 61, 64)        0         \n",
      "_________________________________________________________________\n",
      "max_pooling2d_1 (MaxPooling2 (None, 30, 30, 64)        0         \n",
      "_________________________________________________________________\n",
      "dropout_1 (Dropout)          (None, 30, 30, 64)        0         \n",
      "_________________________________________________________________\n",
      "flatten (Flatten)            (None, 57600)             0         \n",
      "_________________________________________________________________\n",
      "dense (Dense)                (None, 128)               7372928   \n",
      "_________________________________________________________________\n",
      "activation_4 (Activation)    (None, 128)               0         \n",
      "_________________________________________________________________\n",
      "dropout_2 (Dropout)          (None, 128)               0         \n",
      "_________________________________________________________________\n",
      "dense_1 (Dense)              (None, 64)                8256      \n",
      "_________________________________________________________________\n",
      "activation_5 (Activation)    (None, 64)                0         \n",
      "_________________________________________________________________\n",
      "dense_2 (Dense)              (None, 4)                 260       \n",
      "=================================================================\n",
      "Total params: 7,476,292\n",
      "Trainable params: 7,476,292\n",
      "Non-trainable params: 0\n",
      "_________________________________________________________________\n",
      "None\n"
     ]
    }
   ],
   "source": [
    "print(model.summary())"
   ]
  },
  {
   "attachments": {},
   "cell_type": "markdown",
   "id": "d3cedbe4",
   "metadata": {
    "papermill": {
     "duration": 0.016518,
     "end_time": "2023-04-11T05:08:55.129468",
     "exception": false,
     "start_time": "2023-04-11T05:08:55.112950",
     "status": "completed"
    },
    "tags": []
   },
   "source": [
    " # Compilar el modelo\n",
    " En este caso se define una función de `optimización`, la cual nos permite establecer que el modelo aprendió a un ritmo considerablemente lento para que logre hacerlo mucho mejor.\n",
    " \n",
    " Definimos la función que permite medir las perdidas en el proceso de entrenamiento y la métrica a medir que es la exactitud, finalmente le damos los parámetros que son los datos de entrenamiento y prueba.\n",
    " \n",
    " El entrenamiento se llevará a cabo en 25 épocas, el número de épocas es un parámetro que define el número de veces que el algoritmo trabajará a través de todo el conjunto de datos de entrenamiento. Una época significa que cada muestra del conjunto de datos de entrenamiento ha tenido la oportunidad de actualizar los parámetros internos del modelo.\n"
   ]
  },
  {
   "cell_type": "code",
   "execution_count": 12,
   "id": "09bb548b",
   "metadata": {
    "execution": {
     "iopub.execute_input": "2023-04-11T05:08:55.165115Z",
     "iopub.status.busy": "2023-04-11T05:08:55.164528Z",
     "iopub.status.idle": "2023-04-11T05:10:03.348924Z",
     "shell.execute_reply": "2023-04-11T05:10:03.348166Z"
    },
    "papermill": {
     "duration": 68.204484,
     "end_time": "2023-04-11T05:10:03.350975",
     "exception": false,
     "start_time": "2023-04-11T05:08:55.146491",
     "status": "completed"
    },
    "tags": []
   },
   "outputs": [
    {
     "name": "stdout",
     "output_type": "stream",
     "text": [
      "Epoch 1/25\n",
      "82/82 [==============================] - 11s 39ms/step - loss: 1.2711 - accuracy: 0.4133 - val_loss: 1.1818 - val_accuracy: 0.5130\n",
      "\n",
      "Epoch 00001: val_accuracy improved from -inf to 0.51302, saving model to cnn.h5\n",
      "Epoch 2/25\n",
      "82/82 [==============================] - 2s 25ms/step - loss: 1.1534 - accuracy: 0.4925 - val_loss: 1.0780 - val_accuracy: 0.5666\n",
      "\n",
      "Epoch 00002: val_accuracy improved from 0.51302 to 0.56662, saving model to cnn.h5\n",
      "Epoch 3/25\n",
      "82/82 [==============================] - 2s 27ms/step - loss: 1.0279 - accuracy: 0.5584 - val_loss: 0.9064 - val_accuracy: 0.6371\n",
      "\n",
      "Epoch 00003: val_accuracy improved from 0.56662 to 0.63706, saving model to cnn.h5\n",
      "Epoch 4/25\n",
      "82/82 [==============================] - 2s 27ms/step - loss: 0.9246 - accuracy: 0.5998 - val_loss: 0.8428 - val_accuracy: 0.6600\n",
      "\n",
      "Epoch 00004: val_accuracy improved from 0.63706 to 0.66003, saving model to cnn.h5\n",
      "Epoch 5/25\n",
      "82/82 [==============================] - 2s 27ms/step - loss: 0.8322 - accuracy: 0.6339 - val_loss: 0.7309 - val_accuracy: 0.7121\n",
      "\n",
      "Epoch 00005: val_accuracy improved from 0.66003 to 0.71210, saving model to cnn.h5\n",
      "Epoch 6/25\n",
      "82/82 [==============================] - 2s 28ms/step - loss: 0.7659 - accuracy: 0.6813 - val_loss: 0.7031 - val_accuracy: 0.7443\n",
      "\n",
      "Epoch 00006: val_accuracy improved from 0.71210 to 0.74426, saving model to cnn.h5\n",
      "Epoch 7/25\n",
      "82/82 [==============================] - 2s 25ms/step - loss: 0.7048 - accuracy: 0.7059 - val_loss: 0.6310 - val_accuracy: 0.7427\n",
      "\n",
      "Epoch 00007: val_accuracy did not improve from 0.74426\n",
      "Epoch 8/25\n",
      "82/82 [==============================] - 2s 27ms/step - loss: 0.6551 - accuracy: 0.7219 - val_loss: 0.6071 - val_accuracy: 0.7611\n",
      "\n",
      "Epoch 00008: val_accuracy improved from 0.74426 to 0.76110, saving model to cnn.h5\n",
      "Epoch 9/25\n",
      "82/82 [==============================] - 2s 27ms/step - loss: 0.5912 - accuracy: 0.7583 - val_loss: 0.5588 - val_accuracy: 0.7856\n",
      "\n",
      "Epoch 00009: val_accuracy improved from 0.76110 to 0.78560, saving model to cnn.h5\n",
      "Epoch 10/25\n",
      "82/82 [==============================] - 2s 27ms/step - loss: 0.5414 - accuracy: 0.7717 - val_loss: 0.5112 - val_accuracy: 0.8009\n",
      "\n",
      "Epoch 00010: val_accuracy improved from 0.78560 to 0.80092, saving model to cnn.h5\n",
      "Epoch 11/25\n",
      "82/82 [==============================] - 2s 28ms/step - loss: 0.5114 - accuracy: 0.7920 - val_loss: 0.5410 - val_accuracy: 0.7963\n",
      "\n",
      "Epoch 00011: val_accuracy did not improve from 0.80092\n",
      "Epoch 12/25\n",
      "82/82 [==============================] - 2s 27ms/step - loss: 0.4664 - accuracy: 0.8108 - val_loss: 0.4943 - val_accuracy: 0.8101\n",
      "\n",
      "Epoch 00012: val_accuracy improved from 0.80092 to 0.81011, saving model to cnn.h5\n",
      "Epoch 13/25\n",
      "82/82 [==============================] - 2s 27ms/step - loss: 0.4370 - accuracy: 0.8284 - val_loss: 0.4805 - val_accuracy: 0.8116\n",
      "\n",
      "Epoch 00013: val_accuracy improved from 0.81011 to 0.81164, saving model to cnn.h5\n",
      "Epoch 14/25\n",
      "82/82 [==============================] - 2s 27ms/step - loss: 0.3862 - accuracy: 0.8441 - val_loss: 0.4392 - val_accuracy: 0.8270\n",
      "\n",
      "Epoch 00014: val_accuracy improved from 0.81164 to 0.82695, saving model to cnn.h5\n",
      "Epoch 15/25\n",
      "82/82 [==============================] - 2s 26ms/step - loss: 0.3733 - accuracy: 0.8552 - val_loss: 0.4396 - val_accuracy: 0.8315\n",
      "\n",
      "Epoch 00015: val_accuracy improved from 0.82695 to 0.83155, saving model to cnn.h5\n",
      "Epoch 16/25\n",
      "82/82 [==============================] - 2s 25ms/step - loss: 0.3435 - accuracy: 0.8652 - val_loss: 0.4407 - val_accuracy: 0.8331\n",
      "\n",
      "Epoch 00016: val_accuracy improved from 0.83155 to 0.83308, saving model to cnn.h5\n",
      "Epoch 17/25\n",
      "82/82 [==============================] - 2s 27ms/step - loss: 0.3400 - accuracy: 0.8682 - val_loss: 0.3974 - val_accuracy: 0.8560\n",
      "\n",
      "Epoch 00017: val_accuracy improved from 0.83308 to 0.85605, saving model to cnn.h5\n",
      "Epoch 18/25\n",
      "82/82 [==============================] - 2s 27ms/step - loss: 0.3092 - accuracy: 0.8805 - val_loss: 0.4172 - val_accuracy: 0.8668\n",
      "\n",
      "Epoch 00018: val_accuracy improved from 0.85605 to 0.86677, saving model to cnn.h5\n",
      "Epoch 19/25\n",
      "82/82 [==============================] - 2s 27ms/step - loss: 0.3050 - accuracy: 0.8755 - val_loss: 0.4536 - val_accuracy: 0.8515\n",
      "\n",
      "Epoch 00019: val_accuracy did not improve from 0.86677\n",
      "Epoch 20/25\n",
      "82/82 [==============================] - 2s 25ms/step - loss: 0.2611 - accuracy: 0.9000 - val_loss: 0.3638 - val_accuracy: 0.8698\n",
      "\n",
      "Epoch 00020: val_accuracy improved from 0.86677 to 0.86983, saving model to cnn.h5\n",
      "Epoch 21/25\n",
      "82/82 [==============================] - 2s 25ms/step - loss: 0.2510 - accuracy: 0.9092 - val_loss: 0.4362 - val_accuracy: 0.8545\n",
      "\n",
      "Epoch 00021: val_accuracy did not improve from 0.86983\n",
      "Epoch 22/25\n",
      "82/82 [==============================] - 2s 25ms/step - loss: 0.2394 - accuracy: 0.9069 - val_loss: 0.4463 - val_accuracy: 0.8622\n",
      "\n",
      "Epoch 00022: val_accuracy did not improve from 0.86983\n",
      "Epoch 23/25\n",
      "82/82 [==============================] - 2s 25ms/step - loss: 0.2171 - accuracy: 0.9169 - val_loss: 0.3816 - val_accuracy: 0.8775\n",
      "\n",
      "Epoch 00023: val_accuracy improved from 0.86983 to 0.87749, saving model to cnn.h5\n",
      "Epoch 24/25\n",
      "82/82 [==============================] - 2s 25ms/step - loss: 0.2239 - accuracy: 0.9146 - val_loss: 0.3790 - val_accuracy: 0.8867\n",
      "\n",
      "Epoch 00024: val_accuracy improved from 0.87749 to 0.88668, saving model to cnn.h5\n",
      "Epoch 25/25\n",
      "82/82 [==============================] - 2s 27ms/step - loss: 0.2013 - accuracy: 0.9219 - val_loss: 0.3514 - val_accuracy: 0.9035\n",
      "\n",
      "Epoch 00025: val_accuracy improved from 0.88668 to 0.90352, saving model to cnn.h5\n"
     ]
    }
   ],
   "source": [
    "tensorboard = TensorBoard(log_dir = 'logs')\n",
    "checkpoint = ModelCheckpoint(\"cnn.h5\",monitor=\"val_accuracy\",save_best_only=True,mode=\"auto\",verbose=1)\n",
    "opt = Adam(learning_rate=0.0001) \n",
    "model.compile(loss='categorical_crossentropy', optimizer=opt, metrics=['accuracy'])\n",
    "\n",
    "\n",
    "history = model.fit(X_train, y_train, batch_size=32, epochs=25,validation_data=(X_test,y_test),verbose=1,callbacks=[tensorboard,checkpoint])\n"
   ]
  },
  {
   "attachments": {},
   "cell_type": "markdown",
   "id": "c9126d06",
   "metadata": {
    "papermill": {
     "duration": 0.05438,
     "end_time": "2023-04-11T05:10:03.462648",
     "exception": false,
     "start_time": "2023-04-11T05:10:03.408268",
     "status": "completed"
    },
    "tags": []
   },
   "source": [
    "# Evaluación en el conjunto de datos de prueba"
   ]
  },
  {
   "cell_type": "code",
   "execution_count": 13,
   "id": "861c5c55",
   "metadata": {
    "execution": {
     "iopub.execute_input": "2023-04-11T05:10:03.574392Z",
     "iopub.status.busy": "2023-04-11T05:10:03.574060Z",
     "iopub.status.idle": "2023-04-11T05:10:03.954394Z",
     "shell.execute_reply": "2023-04-11T05:10:03.953490Z"
    },
    "papermill": {
     "duration": 0.439129,
     "end_time": "2023-04-11T05:10:03.956505",
     "exception": false,
     "start_time": "2023-04-11T05:10:03.517376",
     "status": "completed"
    },
    "tags": []
   },
   "outputs": [
    {
     "name": "stdout",
     "output_type": "stream",
     "text": [
      "21/21 [==============================] - 0s 8ms/step - loss: 0.3514 - accuracy: 0.9035\n",
      "Perdidas en conjunto de pruebas: 0.3514367938041687\n",
      "Exactitud en conjunto de pruebas: 0.9035221934318542\n"
     ]
    }
   ],
   "source": [
    "loss, accuracy = model.evaluate(X_test, y_test)\n",
    "print('Perdidas en conjunto de pruebas:', loss)\n",
    "print('Exactitud en conjunto de pruebas:', accuracy)\n"
   ]
  },
  {
   "attachments": {},
   "cell_type": "markdown",
   "id": "3f20c2ea",
   "metadata": {
    "papermill": {
     "duration": 0.057544,
     "end_time": "2023-04-11T05:10:04.069915",
     "exception": false,
     "start_time": "2023-04-11T05:10:04.012371",
     "status": "completed"
    },
    "tags": []
   },
   "source": [
    "# Graficas de exactitud y perdida"
   ]
  },
  {
   "cell_type": "code",
   "execution_count": 14,
   "id": "600888bf",
   "metadata": {
    "execution": {
     "iopub.execute_input": "2023-04-11T05:10:04.194446Z",
     "iopub.status.busy": "2023-04-11T05:10:04.194030Z",
     "iopub.status.idle": "2023-04-11T05:10:04.563647Z",
     "shell.execute_reply": "2023-04-11T05:10:04.562730Z"
    },
    "papermill": {
     "duration": 0.438536,
     "end_time": "2023-04-11T05:10:04.565912",
     "exception": false,
     "start_time": "2023-04-11T05:10:04.127376",
     "status": "completed"
    },
    "tags": []
   },
   "outputs": [
    {
     "data": {
      "image/png": "[encoded data removed]",
      "text/plain": [
       "<Figure size 1008x504 with 2 Axes>"
      ]
     },
     "metadata": {
      "needs_background": "light"
     },
     "output_type": "display_data"
    }
   ],
   "source": [
    "\n",
    "colors_dark = [\"#1F1F1F\", \"#313131\", '#636363', '#AEAEAE', '#DADADA']\n",
    "colors_red = [\"#331313\", \"#582626\", '#9E1717', '#D35151', '#E9B4B4']\n",
    "colors_green = ['#01411C','#4B6F44','#4F7942','#74C365','#D0F0C0']\n",
    "\n",
    "epochs = [i for i in range(25)]\n",
    "fig, ax = plt.subplots(1,2,figsize=(14,7))\n",
    "train_acc = history.history['accuracy']\n",
    "train_loss = history.history['loss']\n",
    "val_acc = history.history['val_accuracy']\n",
    "val_loss = history.history['val_loss']\n",
    "\n",
    "fig.text(s='Epocas vs perdida y exactitud en entrenamiento y validación.',size=18,fontweight='bold',\n",
    "             fontname='monospace',color=colors_dark[1],y=1,x=0.28,alpha=0.8)\n",
    "\n",
    "sns.despine()\n",
    "ax[0].plot(epochs, train_acc, marker='o',markerfacecolor=colors_green[2],color=colors_green[3],\n",
    "           label = 'Exactitud de entrenamiento')\n",
    "ax[0].plot(epochs, val_acc, marker='o',markerfacecolor=colors_red[2],color=colors_red[3],\n",
    "           label = 'Exactitud de validación')\n",
    "ax[0].legend(frameon=False)\n",
    "ax[0].set_xlabel('Epocas')\n",
    "ax[0].set_ylabel('Exactitud')\n",
    "\n",
    "sns.despine()\n",
    "ax[1].plot(epochs, train_loss, marker='o',markerfacecolor=colors_green[2],color=colors_green[3],\n",
    "           label ='Perdidas de entrenamiento')\n",
    "ax[1].plot(epochs, val_loss, marker='o',markerfacecolor=colors_red[2],color=colors_red[3],\n",
    "           label = 'Perdidas de validación')\n",
    "ax[1].legend(frameon=False)\n",
    "ax[1].set_xlabel('Epocas')\n",
    "ax[1].set_ylabel('Perdidas')\n",
    "\n",
    "fig.show()\n"
   ]
  },
  {
   "cell_type": "code",
   "execution_count": 15,
   "id": "068d989f",
   "metadata": {
    "execution": {
     "iopub.execute_input": "2023-04-11T05:10:04.682513Z",
     "iopub.status.busy": "2023-04-11T05:10:04.682196Z",
     "iopub.status.idle": "2023-04-11T05:10:05.009710Z",
     "shell.execute_reply": "2023-04-11T05:10:05.008728Z"
    },
    "papermill": {
     "duration": 0.388032,
     "end_time": "2023-04-11T05:10:05.011980",
     "exception": false,
     "start_time": "2023-04-11T05:10:04.623948",
     "status": "completed"
    },
    "tags": []
   },
   "outputs": [
    {
     "data": {
      "text/plain": [
       "array([1, 2, 3, 2, 3, 1, 3, 1, 3, 2, 1, 1, 3, 0, 3, 0, 0, 1, 0, 2, 1, 2,\n",
       "       2, 3, 3, 0, 1, 3, 2, 2, 1, 2, 3, 1, 2, 0, 3, 1, 2, 1, 1, 0, 0, 2,\n",
       "       3, 3, 1, 2, 3, 2, 3, 3, 1, 1, 1, 3, 3, 2, 1, 3, 1, 2, 3, 0, 3, 3,\n",
       "       1, 3, 0, 3, 0, 3, 2, 1, 0, 3, 1, 3, 2, 0, 2, 1, 0, 0, 3, 2, 0, 0,\n",
       "       3, 1, 0, 2, 2, 1, 2, 1, 0, 3, 2, 0, 3, 2, 3, 1, 2, 0, 3, 0, 1, 0,\n",
       "       1, 2, 3, 0, 0, 0, 0, 3, 1, 1, 3, 0, 1, 2, 0, 1, 3, 3, 0, 1, 3, 0,\n",
       "       3, 0, 3, 3, 1, 0, 0, 0, 0, 1, 3, 2, 1, 1, 3, 2, 3, 1, 1, 2, 2, 0,\n",
       "       3, 3, 2, 2, 3, 2, 1, 1, 2, 1, 1, 1, 3, 0, 0, 0, 1, 3, 3, 1, 1, 0,\n",
       "       0, 2, 0, 2, 1, 2, 2, 1, 0, 3, 2, 1, 2, 0, 1, 3, 1, 3, 0, 1, 0, 2,\n",
       "       1, 1, 3, 1, 1, 0, 2, 2, 3, 1, 0, 2, 3, 0, 1, 3, 0, 3, 3, 0, 1, 1,\n",
       "       3, 0, 1, 3, 2, 1, 3, 2, 3, 1, 2, 2, 3, 0, 1, 2, 0, 0, 2, 2, 3, 3,\n",
       "       0, 1, 0, 2, 0, 1, 3, 3, 2, 3, 3, 2, 0, 2, 2, 1, 3, 1, 3, 0, 1, 3,\n",
       "       1, 2, 3, 0, 1, 0, 0, 1, 2, 1, 3, 0, 2, 0, 2, 0, 1, 1, 1, 3, 1, 2,\n",
       "       3, 0, 1, 1, 0, 1, 1, 0, 0, 0, 3, 1, 2, 0, 0, 1, 2, 1, 2, 3, 1, 2,\n",
       "       1, 2, 0, 3, 3, 2, 2, 0, 0, 1, 0, 0, 2, 2, 3, 3, 1, 3, 2, 1, 3, 3,\n",
       "       0, 3, 0, 3, 0, 3, 0, 0, 2, 0, 1, 3, 3, 0, 0, 0, 2, 0, 1, 2, 0, 3,\n",
       "       1, 1, 3, 0, 1, 1, 1, 3, 1, 0, 3, 0, 3, 3, 1, 0, 3, 3, 1, 0, 2, 0,\n",
       "       0, 0, 0, 1, 1, 1, 1, 1, 0, 0, 1, 0, 1, 2, 1, 1, 3, 1, 1, 1, 3, 1,\n",
       "       3, 0, 2, 3, 1, 0, 2, 1, 2, 3, 3, 1, 2, 2, 3, 1, 1, 3, 3, 3, 0, 3,\n",
       "       2, 3, 3, 2, 2, 1, 3, 0, 0, 3, 3, 0, 3, 0, 1, 3, 3, 0, 1, 0, 0, 0,\n",
       "       2, 3, 1, 3, 0, 3, 2, 1, 0, 3, 0, 0, 1, 1, 2, 3, 3, 3, 2, 3, 1, 2,\n",
       "       2, 0, 1, 0, 0, 3, 3, 3, 1, 1, 3, 0, 0, 1, 3, 3, 3, 0, 2, 3, 2, 3,\n",
       "       3, 1, 3, 3, 1, 0, 3, 1, 0, 2, 3, 1, 3, 0, 0, 0, 1, 2, 1, 1, 3, 1,\n",
       "       0, 1, 2, 3, 2, 3, 1, 2, 1, 0, 3, 1, 3, 2, 2, 3, 1, 3, 3, 3, 1, 1,\n",
       "       3, 2, 3, 1, 3, 0, 1, 3, 1, 0, 2, 3, 1, 0, 3, 0, 3, 3, 0, 1, 1, 3,\n",
       "       3, 3, 2, 2, 1, 1, 2, 1, 3, 2, 3, 3, 0, 0, 0, 0, 1, 0, 2, 0, 1, 1,\n",
       "       1, 1, 2, 0, 1, 2, 3, 0, 3, 1, 1, 3, 3, 0, 3, 1, 2, 0, 0, 2, 3, 0,\n",
       "       2, 3, 3, 0, 0, 0, 1, 0, 0, 0, 2, 3, 1, 1, 3, 1, 1, 3, 2, 1, 1, 0,\n",
       "       1, 3, 1, 3, 3, 1, 1, 0, 3, 0, 3, 1, 2, 2, 0, 1, 3, 0, 3, 1, 2, 3,\n",
       "       3, 2, 3, 2, 0, 0, 1, 3, 2, 1, 0, 0, 2, 3, 3])"
      ]
     },
     "execution_count": 15,
     "metadata": {},
     "output_type": "execute_result"
    }
   ],
   "source": [
    "pred_prob = model.predict(X_test)\n",
    "pred = np.argmax(pred_prob,axis=1)\n",
    "y_test_new = np.argmax(y_test.to_numpy(),axis=1)\n",
    "y_test_new"
   ]
  },
  {
   "attachments": {},
   "cell_type": "markdown",
   "id": "d9d61dde",
   "metadata": {},
   "source": [
    "# Reporte de clasificación.\n",
    "En este caso los valores que arroja el reporte de clasificacion son los siguientes:\n",
    "* Precisión: es la medida de qué tan bien la red neuronal convolucional identifica positivos verdaderos (TP) en comparación con falsos positivos (FP). \n",
    "* Recall: es la medida de qué tan bien la red neuronal convolucional identifica TP en comparación con falsos negativos (FN). \n",
    "* F1-score: es la media armónica entre la precisión y el recall. Es una medida de la precisión general del modelo.\n",
    "\n",
    "TP, FP, TN y FN se refieren a los diferentes tipos de predicciones que se pueden hacer al evaluar\n",
    "* TP (verdaderos positivos) se refiere a la cantidad de casos positivos que se clasifican correctamente como positivos.\n",
    "* FP (falsos positivos) se refiere a la cantidad de casos negativos que se clasifican incorrectamente.\n",
    "* TN (verdaderos negativos) se refiere a la cantidad de casos negativos que se clasifican correctamente como negativos.\n",
    "* FN (falsos negativos) se refiere a la cantidad de casos positivos que se clasifican incorrectamente como negativo.\n"
   ]
  },
  {
   "cell_type": "code",
   "execution_count": 16,
   "id": "e3df157f",
   "metadata": {
    "execution": {
     "iopub.execute_input": "2023-04-11T05:10:05.127123Z",
     "iopub.status.busy": "2023-04-11T05:10:05.126248Z",
     "iopub.status.idle": "2023-04-11T05:10:05.136568Z",
     "shell.execute_reply": "2023-04-11T05:10:05.135460Z"
    },
    "papermill": {
     "duration": 0.070416,
     "end_time": "2023-04-11T05:10:05.139190",
     "exception": false,
     "start_time": "2023-04-11T05:10:05.068774",
     "status": "completed"
    },
    "tags": []
   },
   "outputs": [
    {
     "name": "stdout",
     "output_type": "stream",
     "text": [
      "              precision    recall  f1-score   support\n",
      "\n",
      "           0       0.95      0.85      0.90       162\n",
      "           1       0.86      0.89      0.87       180\n",
      "           2       0.87      0.89      0.88       122\n",
      "           3       0.94      0.97      0.95       189\n",
      "\n",
      "    accuracy                           0.90       653\n",
      "   macro avg       0.90      0.90      0.90       653\n",
      "weighted avg       0.90      0.90      0.90       653\n",
      "\n"
     ]
    }
   ],
   "source": [
    "print(classification_report(y_test_new,pred))"
   ]
  },
  {
   "attachments": {},
   "cell_type": "markdown",
   "id": "e46f03ea",
   "metadata": {},
   "source": [
    "# Matriz de confusión\n",
    "Es una tabla que muestra el número de predicciones correctas e incorrectas para cada clase. \n",
    "En la diagonal se encuentran los verdaderos positivos, los datos abajo de la diagonal corresponden a los falsos negativos y los datos arriba de la diagonal corresponden a los falsos positivos"
   ]
  },
  {
   "cell_type": "code",
   "execution_count": 17,
   "id": "33a3ac24",
   "metadata": {
    "execution": {
     "iopub.execute_input": "2023-04-11T05:10:05.253360Z",
     "iopub.status.busy": "2023-04-11T05:10:05.253060Z",
     "iopub.status.idle": "2023-04-11T05:10:05.508019Z",
     "shell.execute_reply": "2023-04-11T05:10:05.507101Z"
    },
    "papermill": {
     "duration": 0.314325,
     "end_time": "2023-04-11T05:10:05.510377",
     "exception": false,
     "start_time": "2023-04-11T05:10:05.196052",
     "status": "completed"
    },
    "tags": []
   },
   "outputs": [
    {
     "data": {
      "image/png": "[encoded data removed]",
      "text/plain": [
       "<Figure size 432x288 with 2 Axes>"
      ]
     },
     "metadata": {
      "needs_background": "light"
     },
     "output_type": "display_data"
    }
   ],
   "source": [
    "ConfusionMatrixDisplay.from_predictions(y_test_new, pred,display_labels=y_train.columns,\n",
    "                                        cmap='Blues', xticks_rotation=\"vertical\");"
   ]
  },
  {
   "cell_type": "code",
   "execution_count": null,
   "id": "86a943dc",
   "metadata": {
    "papermill": {
     "duration": 0.056583,
     "end_time": "2023-04-11T05:10:05.624802",
     "exception": false,
     "start_time": "2023-04-11T05:10:05.568219",
     "status": "completed"
    },
    "tags": []
   },
   "outputs": [],
   "source": []
  }
 ],
 "metadata": {
  "kernelspec": {
   "display_name": "Python 3",
   "language": "python",
   "name": "python3"
  },
  "language_info": {
   "codemirror_mode": {
    "name": "ipython",
    "version": 3
   },
   "file_extension": ".py",
   "mimetype": "text/x-python",
   "name": "python",
   "nbconvert_exporter": "python",
   "pygments_lexer": "ipython3",
   "version": "3.9.1"
  },
  "papermill": {
   "default_parameters": {},
   "duration": 115.482774,
   "end_time": "2023-04-11T05:10:08.697051",
   "environment_variables": {},
   "exception": null,
   "input_path": "__notebook__.ipynb",
   "output_path": "__notebook__.ipynb",
   "parameters": {},
   "start_time": "2023-04-11T05:08:13.214277",
   "version": "2.3.4"
  }
 },
 "nbformat": 4,
 "nbformat_minor": 5
}
