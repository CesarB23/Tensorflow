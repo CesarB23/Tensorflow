{
 "cells": [
  {
   "cell_type": "code",
   "execution_count": null,
   "id": "72923c5e",
   "metadata": {
    "tags": []
   },
   "outputs": [],
   "source": [
    "import tensorflow as tf\n",
    "tf.debugging.set_log_device_placement(False)"
   ]
  },
  {
   "cell_type": "code",
   "execution_count": null,
   "id": "da1adb9a",
   "metadata": {
    "tags": []
   },
   "outputs": [],
   "source": [
    "print(\"Num GPUs Available: \", len(tf.config.list_physical_devices('GPU')))\n",
    "tf.debugging.set_log_device_placement(True)"
   ]
  },
  {
   "cell_type": "code",
   "execution_count": null,
   "id": "e232656c-972d-4006-95de-eba27177ecb9",
   "metadata": {},
   "outputs": [],
   "source": [
    "scalar = tf.constant(7)   \n",
    "print(scalar)\n",
    "\n",
    "vector = tf.constant([19,19])\n",
    "print(vector)"
   ]
  },
  {
   "cell_type": "code",
   "execution_count": null,
   "id": "06a9e728",
   "metadata": {},
   "outputs": [],
   "source": [
    "matrix = tf.constant([[10,10],\n",
    "                      [9,10]])\n",
    "print(matrix)"
   ]
  },
  {
   "cell_type": "code",
   "execution_count": null,
   "id": "856b828e",
   "metadata": {},
   "outputs": [],
   "source": [
    "tensor = tf.constant([[[1,2,3],\n",
    "                       [4,5,6],\n",
    "                       [7,8,9]]])\n",
    "print(tensor.ndim)\n"
   ]
  },
  {
   "cell_type": "code",
   "execution_count": null,
   "id": "6cbfb965",
   "metadata": {},
   "outputs": [],
   "source": [
    "tf.debugging.set_log_device_placement(False)"
   ]
  },
  {
   "cell_type": "code",
   "execution_count": null,
   "id": "1e6a96cd",
   "metadata": {},
   "outputs": [],
   "source": [
    "print(tf.constant(9))"
   ]
  },
  {
   "cell_type": "code",
   "execution_count": null,
   "id": "2b29fa2e",
   "metadata": {},
   "outputs": [],
   "source": [
    "#Tf Constants are inmutable objects\n",
    "#Tf Variables are mutable objects\n",
    "tf.debugging.set_log_device_placement(False)\n",
    "changeable_tensor = tf.Variable([10,10])\n",
    "changeable_tensor"
   ]
  },
  {
   "cell_type": "code",
   "execution_count": null,
   "id": "bbfc5d6c",
   "metadata": {},
   "outputs": [],
   "source": [
    "random_tensor = tf.random.uniform([2,10])\n",
    "random_tensor"
   ]
  }
 ],
 "metadata": {
  "kernelspec": {
   "display_name": "Python 3",
   "language": "python",
   "name": "python3"
  },
  "language_info": {
   "codemirror_mode": {
    "name": "ipython",
    "version": 3
   },
   "file_extension": ".py",
   "mimetype": "text/x-python",
   "name": "python",
   "nbconvert_exporter": "python",
   "pygments_lexer": "ipython3",
   "version": "3.9.1"
  }
 },
 "nbformat": 4,
 "nbformat_minor": 5
}
