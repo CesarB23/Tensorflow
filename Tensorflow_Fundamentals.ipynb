{
 "cells": [
  {
   "attachments": {},
   "cell_type": "markdown",
   "id": "4f6ad1ed",
   "metadata": {},
   "source": [
    "# Tensor Flow Fundamentals"
   ]
  },
  {
   "cell_type": "code",
   "execution_count": 11,
   "id": "72923c5e",
   "metadata": {
    "tags": []
   },
   "outputs": [],
   "source": [
    "import tensorflow as tf\n",
    "import numpy as np\n",
    "tf.debugging.set_log_device_placement(False)"
   ]
  },
  {
   "cell_type": "code",
   "execution_count": 2,
   "id": "da1adb9a",
   "metadata": {
    "tags": []
   },
   "outputs": [
    {
     "name": "stdout",
     "output_type": "stream",
     "text": [
      "Num GPUs Available:  1\n"
     ]
    }
   ],
   "source": [
    "print(\"Num GPUs Available: \", len(tf.config.list_physical_devices('GPU')))\n",
    "tf.debugging.set_log_device_placement(True)"
   ]
  },
  {
   "attachments": {},
   "cell_type": "markdown",
   "id": "2351a550",
   "metadata": {},
   "source": [
    "## TF Constant (scalar,vector,matrix,tensor)"
   ]
  },
  {
   "cell_type": "code",
   "execution_count": 3,
   "id": "e232656c-972d-4006-95de-eba27177ecb9",
   "metadata": {},
   "outputs": [
    {
     "name": "stdout",
     "output_type": "stream",
     "text": [
      "Executing op _EagerConst in device /job:localhost/replica:0/task:0/device:GPU:0\n",
      "tf.Tensor(7, shape=(), dtype=int32)\n",
      "Executing op _EagerConst in device /job:localhost/replica:0/task:0/device:GPU:0\n",
      "tf.Tensor([19 19], shape=(2,), dtype=int32)\n"
     ]
    }
   ],
   "source": [
    "scalar = tf.constant(7)   \n",
    "print(scalar)\n",
    "\n",
    "vector = tf.constant([19,19])\n",
    "print(vector)"
   ]
  },
  {
   "cell_type": "code",
   "execution_count": 4,
   "id": "06a9e728",
   "metadata": {},
   "outputs": [
    {
     "name": "stdout",
     "output_type": "stream",
     "text": [
      "Executing op _EagerConst in device /job:localhost/replica:0/task:0/device:GPU:0\n",
      "tf.Tensor(\n",
      "[[10 10]\n",
      " [ 9 10]], shape=(2, 2), dtype=int32)\n"
     ]
    }
   ],
   "source": [
    "matrix = tf.constant([[10,10],\n",
    "                      [9,10]])\n",
    "print(matrix)"
   ]
  },
  {
   "cell_type": "code",
   "execution_count": 5,
   "id": "856b828e",
   "metadata": {},
   "outputs": [
    {
     "name": "stdout",
     "output_type": "stream",
     "text": [
      "Executing op _EagerConst in device /job:localhost/replica:0/task:0/device:GPU:0\n",
      "3\n"
     ]
    }
   ],
   "source": [
    "tensor = tf.constant([[[1,2,3],\n",
    "                       [4,5,6],\n",
    "                       [7,8,9]]])\n",
    "print(tensor.ndim)\n"
   ]
  },
  {
   "cell_type": "code",
   "execution_count": 6,
   "id": "1e6a96cd",
   "metadata": {},
   "outputs": [
    {
     "name": "stdout",
     "output_type": "stream",
     "text": [
      "Executing op _EagerConst in device /job:localhost/replica:0/task:0/device:GPU:0\n",
      "tf.Tensor(9, shape=(), dtype=int32)\n"
     ]
    }
   ],
   "source": [
    "print(tf.constant(9))"
   ]
  },
  {
   "attachments": {},
   "cell_type": "markdown",
   "id": "f7ca5dbf",
   "metadata": {},
   "source": [
    "## Tf Variable"
   ]
  },
  {
   "cell_type": "code",
   "execution_count": 7,
   "id": "2b29fa2e",
   "metadata": {},
   "outputs": [
    {
     "name": "stdout",
     "output_type": "stream",
     "text": [
      "Executing op _EagerConst in device /job:localhost/replica:0/task:0/device:GPU:0\n",
      "Executing op VarHandleOp in device /job:localhost/replica:0/task:0/device:CPU:0\n",
      "Executing op AssignVariableOp in device /job:localhost/replica:0/task:0/device:CPU:0\n",
      "Executing op ReadVariableOp in device /job:localhost/replica:0/task:0/device:CPU:0\n",
      "Executing op Identity in device /job:localhost/replica:0/task:0/device:CPU:0\n"
     ]
    },
    {
     "data": {
      "text/plain": [
       "<tf.Variable 'Variable:0' shape=(2,) dtype=int32, numpy=array([10, 10])>"
      ]
     },
     "execution_count": 7,
     "metadata": {},
     "output_type": "execute_result"
    }
   ],
   "source": [
    "#Tf Constants are inmutable objects\n",
    "\n",
    "#Tf Variables are mutable objects\n",
    "tf.debugging.set_log_device_placement(False)\n",
    "changeable_tensor = tf.Variable([10,10])\n",
    "changeable_tensor"
   ]
  },
  {
   "cell_type": "code",
   "execution_count": 8,
   "id": "bbfc5d6c",
   "metadata": {},
   "outputs": [
    {
     "name": "stdout",
     "output_type": "stream",
     "text": [
      "Executing op _EagerConst in device /job:localhost/replica:0/task:0/device:GPU:0\n",
      "Executing op RandomUniform in device /job:localhost/replica:0/task:0/device:GPU:0\n"
     ]
    },
    {
     "data": {
      "text/plain": [
       "<tf.Tensor: shape=(2, 10), dtype=float32, numpy=\n",
       "array([[0.7595624 , 0.3228842 , 0.26865697, 0.89515007, 0.1607306 ,\n",
       "        0.08748698, 0.25201237, 0.98799825, 0.7879336 , 0.19275641],\n",
       "       [0.41668236, 0.22575867, 0.55637205, 0.44001245, 0.7175741 ,\n",
       "        0.67268276, 0.29939222, 0.09737003, 0.8132031 , 0.32403088]],\n",
       "      dtype=float32)>"
      ]
     },
     "execution_count": 8,
     "metadata": {},
     "output_type": "execute_result"
    }
   ],
   "source": [
    "#Random Tensor from a uniform distribution \n",
    "random_tensor = tf.random.uniform([2,10])\n",
    "random_tensor                       "
   ]
  },
  {
   "cell_type": "code",
   "execution_count": 10,
   "id": "b01781ae",
   "metadata": {},
   "outputs": [
    {
     "name": "stdout",
     "output_type": "stream",
     "text": [
      "Executing op _EagerConst in device /job:localhost/replica:0/task:0/device:GPU:0\n",
      "Executing op RandomShuffle in device /job:localhost/replica:0/task:0/device:CPU:0\n"
     ]
    },
    {
     "data": {
      "text/plain": [
       "<tf.Tensor: shape=(2, 2), dtype=int32, numpy=\n",
       "array([[ 9, 10],\n",
       "       [10, 10]])>"
      ]
     },
     "execution_count": 10,
     "metadata": {},
     "output_type": "execute_result"
    }
   ],
   "source": [
    "#Shuffle tensors, in the process of training nn the tensor values initialices random and shuffled\n",
    "\n",
    "not_shuffled = tf.constant([[10,10],\n",
    "                            [9,10]])\n",
    "shuffled = tf.random.shuffle(not_shuffled)\n",
    "shuffled    "
   ]
  },
  {
   "attachments": {},
   "cell_type": "markdown",
   "id": "0a9ab403",
   "metadata": {},
   "source": [
    "### Np.Arrays to Tensors\n",
    "Tensor can be run on GPU, np.arrays don't"
   ]
  },
  {
   "cell_type": "code",
   "execution_count": 17,
   "id": "222bac71",
   "metadata": {},
   "outputs": [
    {
     "data": {
      "text/plain": [
       "array([0, 1, 2, 3, 4, 5, 6, 7, 8, 9])"
      ]
     },
     "execution_count": 17,
     "metadata": {},
     "output_type": "execute_result"
    }
   ],
   "source": [
    "numpy_A = np.arange(10,dtype=np.int32)\n",
    "numpy_A"
   ]
  },
  {
   "cell_type": "code",
   "execution_count": 18,
   "id": "a8a91e21",
   "metadata": {},
   "outputs": [
    {
     "name": "stdout",
     "output_type": "stream",
     "text": [
      "Executing op _EagerConst in device /job:localhost/replica:0/task:0/device:GPU:0\n"
     ]
    },
    {
     "data": {
      "text/plain": [
       "<tf.Tensor: shape=(10,), dtype=int32, numpy=array([0, 1, 2, 3, 4, 5, 6, 7, 8, 9])>"
      ]
     },
     "execution_count": 18,
     "metadata": {},
     "output_type": "execute_result"
    }
   ],
   "source": [
    "tensor_A = tf.constant(numpy_A)\n",
    "tensor_A"
   ]
  },
  {
   "cell_type": "code",
   "execution_count": 23,
   "id": "18618d4b",
   "metadata": {},
   "outputs": [
    {
     "name": "stdout",
     "output_type": "stream",
     "text": [
      "Executing op _EagerConst in device /job:localhost/replica:0/task:0/device:GPU:0\n",
      "Executing op _EagerConst in device /job:localhost/replica:0/task:0/device:GPU:0\n",
      "Executing op Reshape in device /job:localhost/replica:0/task:0/device:GPU:0\n"
     ]
    },
    {
     "data": {
      "text/plain": [
       "<tf.Tensor: shape=(2, 5), dtype=int32, numpy=\n",
       "array([[0, 1, 2, 3, 4],\n",
       "       [5, 6, 7, 8, 9]])>"
      ]
     },
     "execution_count": 23,
     "metadata": {},
     "output_type": "execute_result"
    }
   ],
   "source": [
    "tensor_B = tf.constant(numpy_A,shape=(2,5))\n",
    "tensor_B"
   ]
  },
  {
   "attachments": {},
   "cell_type": "markdown",
   "id": "ff1dbac5",
   "metadata": {},
   "source": [
    "## Getting information from tensors\n",
    "* Shape\n",
    "* Rank\n",
    "* Axis & dimention\n",
    "* Sizee"
   ]
  },
  {
   "cell_type": "code",
   "execution_count": 28,
   "id": "2400644f",
   "metadata": {},
   "outputs": [
    {
     "name": "stdout",
     "output_type": "stream",
     "text": [
      "Executing op _EagerConst in device /job:localhost/replica:0/task:0/device:GPU:0\n",
      "Executing op Fill in device /job:localhost/replica:0/task:0/device:GPU:0\n"
     ]
    },
    {
     "data": {
      "text/plain": [
       "<tf.Tensor: shape=(2, 3, 3, 2), dtype=float32, numpy=\n",
       "array([[[[0., 0.],\n",
       "         [0., 0.],\n",
       "         [0., 0.]],\n",
       "\n",
       "        [[0., 0.],\n",
       "         [0., 0.],\n",
       "         [0., 0.]],\n",
       "\n",
       "        [[0., 0.],\n",
       "         [0., 0.],\n",
       "         [0., 0.]]],\n",
       "\n",
       "\n",
       "       [[[0., 0.],\n",
       "         [0., 0.],\n",
       "         [0., 0.]],\n",
       "\n",
       "        [[0., 0.],\n",
       "         [0., 0.],\n",
       "         [0., 0.]],\n",
       "\n",
       "        [[0., 0.],\n",
       "         [0., 0.],\n",
       "         [0., 0.]]]], dtype=float32)>"
      ]
     },
     "execution_count": 28,
     "metadata": {},
     "output_type": "execute_result"
    }
   ],
   "source": [
    "rank4_tensor = tf.zeros(shape=(2,3,3,2))\n",
    "rank4_tensor"
   ]
  },
  {
   "cell_type": "code",
   "execution_count": 29,
   "id": "365c1dd2",
   "metadata": {},
   "outputs": [
    {
     "name": "stdout",
     "output_type": "stream",
     "text": [
      "Executing op _EagerConst in device /job:localhost/replica:0/task:0/device:GPU:0\n"
     ]
    },
    {
     "data": {
      "text/plain": [
       "(TensorShape([2, 3, 3, 2]), 4, <tf.Tensor: shape=(), dtype=int32, numpy=36>)"
      ]
     },
     "execution_count": 29,
     "metadata": {},
     "output_type": "execute_result"
    }
   ],
   "source": [
    "rank4_tensor.shape, rank4_tensor.ndim,tf.size(rank4_tensor)"
   ]
  },
  {
   "cell_type": "code",
   "execution_count": 33,
   "id": "d85946e5",
   "metadata": {},
   "outputs": [
    {
     "name": "stdout",
     "output_type": "stream",
     "text": [
      "Shape 4d tensor: (2, 3, 3, 2)\n",
      "Dim 4d tensor : 4\n",
      "Executing op _EagerConst in device /job:localhost/replica:0/task:0/device:GPU:0\n",
      "Size 4d tensor: 36\n"
     ]
    }
   ],
   "source": [
    "print(f\"Shape 4d tensor: {rank4_tensor.shape}\")\n",
    "print(f\"Dim 4d tensor : {rank4_tensor.ndim}\")\n",
    "print(f\"Size 4d tensor: {tf.size(rank4_tensor)}\")"
   ]
  },
  {
   "attachments": {},
   "cell_type": "markdown",
   "id": "7ce0abf3",
   "metadata": {},
   "source": [
    "## Indexing Tensors\n",
    "Same as lists, more dimensiones are added "
   ]
  },
  {
   "cell_type": "code",
   "execution_count": 37,
   "id": "78ec5147",
   "metadata": {},
   "outputs": [
    {
     "name": "stdout",
     "output_type": "stream",
     "text": [
      "Executing op _EagerConst in device /job:localhost/replica:0/task:0/device:GPU:0\n",
      "Executing op _EagerConst in device /job:localhost/replica:0/task:0/device:GPU:0\n",
      "Executing op _EagerConst in device /job:localhost/replica:0/task:0/device:GPU:0\n",
      "Executing op _EagerConst in device /job:localhost/replica:0/task:0/device:GPU:0\n",
      "Executing op StridedSlice in device /job:localhost/replica:0/task:0/device:GPU:0\n"
     ]
    },
    {
     "data": {
      "text/plain": [
       "<tf.Tensor: shape=(2, 2, 1), dtype=int32, numpy=\n",
       "array([[[23],\n",
       "        [26]],\n",
       "\n",
       "       [[10],\n",
       "        [30]]])>"
      ]
     },
     "execution_count": 37,
     "metadata": {},
     "output_type": "execute_result"
    }
   ],
   "source": [
    "rank2_tensor = tf.constant([[23,26],\n",
    "                            [10,30]])\n",
    "\n",
    "#Add extra dimension to tensor\n",
    "rank3_tensor = rank2_tensor[...,tf.newaxis]\n",
    "rank3_tensor"
   ]
  },
  {
   "cell_type": "code",
   "execution_count": 39,
   "id": "4b0cc8ac",
   "metadata": {},
   "outputs": [
    {
     "name": "stdout",
     "output_type": "stream",
     "text": [
      "Executing op _EagerConst in device /job:localhost/replica:0/task:0/device:GPU:0\n",
      "Executing op ExpandDims in device /job:localhost/replica:0/task:0/device:GPU:0\n"
     ]
    },
    {
     "data": {
      "text/plain": [
       "<tf.Tensor: shape=(1, 2, 2), dtype=int32, numpy=\n",
       "array([[[23, 26],\n",
       "        [10, 30]]])>"
      ]
     },
     "execution_count": 39,
     "metadata": {},
     "output_type": "execute_result"
    }
   ],
   "source": [
    "#Expand dimensions\n",
    "    #Expand the dim in the specified position\n",
    "\n",
    "tf.expand_dims(rank2_tensor,axis=0)"
   ]
  },
  {
   "attachments": {},
   "cell_type": "markdown",
   "id": "37ce8978",
   "metadata": {},
   "source": [
    "# Tensor Operations\n",
    "* Mul\n",
    "* Div\n",
    "* Sum\n",
    "* Substract\n",
    "\n",
    "Built in tf methods are much faster because of gpu.."
   ]
  },
  {
   "cell_type": "code",
   "execution_count": 43,
   "id": "9cc05f98",
   "metadata": {},
   "outputs": [
    {
     "name": "stdout",
     "output_type": "stream",
     "text": [
      "Executing op _EagerConst in device /job:localhost/replica:0/task:0/device:GPU:0\n",
      "Executing op _EagerConst in device /job:localhost/replica:0/task:0/device:GPU:0\n",
      "Executing op MatMul in device /job:localhost/replica:0/task:0/device:CPU:0\n"
     ]
    },
    {
     "data": {
      "text/plain": [
       "<tf.Tensor: shape=(3, 3), dtype=int32, numpy=\n",
       "array([[264,  82, 116],\n",
       "       [132,  48,  60],\n",
       "       [267,  92, 181]])>"
      ]
     },
     "execution_count": 43,
     "metadata": {},
     "output_type": "execute_result"
    }
   ],
   "source": [
    "matrix_A = tf.constant([[10,3,8],\n",
    "                        [4,4,4],\n",
    "                        [19,5,3]])\n",
    "\n",
    "matrix_B =  tf.constant([[10,3,8],\n",
    "                         [4,4,4],\n",
    "                         [19,5,3]])\n",
    "\n",
    "tf.matmul(matrix_A,matrix_B)"
   ]
  },
  {
   "cell_type": "code",
   "execution_count": 44,
   "id": "af09a02c",
   "metadata": {},
   "outputs": [
    {
     "name": "stdout",
     "output_type": "stream",
     "text": [
      "Executing op MatMul in device /job:localhost/replica:0/task:0/device:CPU:0\n"
     ]
    },
    {
     "data": {
      "text/plain": [
       "<tf.Tensor: shape=(3, 3), dtype=int32, numpy=\n",
       "array([[264,  82, 116],\n",
       "       [132,  48,  60],\n",
       "       [267,  92, 181]])>"
      ]
     },
     "execution_count": 44,
     "metadata": {},
     "output_type": "execute_result"
    }
   ],
   "source": [
    "matrix_A @ matrix_B"
   ]
  }
 ],
 "metadata": {
  "kernelspec": {
   "display_name": "Python 3",
   "language": "python",
   "name": "python3"
  },
  "language_info": {
   "codemirror_mode": {
    "name": "ipython",
    "version": 3
   },
   "file_extension": ".py",
   "mimetype": "text/x-python",
   "name": "python",
   "nbconvert_exporter": "python",
   "pygments_lexer": "ipython3",
   "version": "3.9.1"
  }
 },
 "nbformat": 4,
 "nbformat_minor": 5
}
