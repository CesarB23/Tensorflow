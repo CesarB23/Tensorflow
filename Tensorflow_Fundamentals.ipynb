{
 "cells": [
  {
   "attachments": {},
   "cell_type": "markdown",
   "id": "4f6ad1ed",
   "metadata": {},
   "source": [
    "# Tensor Flow Fundamentals"
   ]
  },
  {
   "cell_type": "code",
   "execution_count": 1,
   "id": "72923c5e",
   "metadata": {
    "tags": []
   },
   "outputs": [],
   "source": [
    "import tensorflow as tf\n",
    "import numpy as np\n",
    "tf.debugging.set_log_device_placement(False)"
   ]
  },
  {
   "cell_type": "code",
   "execution_count": 8,
   "id": "14f805c4",
   "metadata": {},
   "outputs": [
    {
     "name": "stdout",
     "output_type": "stream",
     "text": [
      "X_shape: ((2,), 1) Y_shape: ((1, 2), 2) Z_shape:((1, 1, 3), 3)\n"
     ]
    }
   ],
   "source": [
    "X = np.array([200,17])\n",
    "Y = np.array([[200,22]])\n",
    "Z = np.array([[[1,2,3]]])\n",
    "print(f\"X_shape: {X.shape,X.ndim} Y_shape: {Y.shape,Y.ndim} Z_shape:{Z.shape,Z.ndim}\")"
   ]
  },
  {
   "cell_type": "code",
   "execution_count": 2,
   "id": "da1adb9a",
   "metadata": {
    "tags": []
   },
   "outputs": [
    {
     "name": "stdout",
     "output_type": "stream",
     "text": [
      "Num GPUs Available:  1\n"
     ]
    }
   ],
   "source": [
    "print(\"Num GPUs Available: \", len(tf.config.list_physical_devices('GPU')))\n",
    "tf.debugging.set_log_device_placement(True)"
   ]
  },
  {
   "attachments": {},
   "cell_type": "markdown",
   "id": "2351a550",
   "metadata": {},
   "source": [
    "## TF Constant (scalar,vector,matrix,tensor)"
   ]
  },
  {
   "cell_type": "code",
   "execution_count": 3,
   "id": "e232656c-972d-4006-95de-eba27177ecb9",
   "metadata": {},
   "outputs": [
    {
     "name": "stdout",
     "output_type": "stream",
     "text": [
      "Executing op _EagerConst in device /job:localhost/replica:0/task:0/device:GPU:0\n",
      "tf.Tensor(7, shape=(), dtype=int32)\n",
      "Executing op _EagerConst in device /job:localhost/replica:0/task:0/device:GPU:0\n",
      "tf.Tensor([19 19], shape=(2,), dtype=int32)\n"
     ]
    }
   ],
   "source": [
    "scalar = tf.constant(7)   \n",
    "print(scalar)\n",
    "\n",
    "vector = tf.constant([19,19])\n",
    "print(vector)"
   ]
  },
  {
   "cell_type": "code",
   "execution_count": 4,
   "id": "06a9e728",
   "metadata": {},
   "outputs": [
    {
     "name": "stdout",
     "output_type": "stream",
     "text": [
      "Executing op _EagerConst in device /job:localhost/replica:0/task:0/device:GPU:0\n",
      "tf.Tensor(\n",
      "[[10 10]\n",
      " [ 9 10]], shape=(2, 2), dtype=int32)\n"
     ]
    }
   ],
   "source": [
    "matrix = tf.constant([[10,10],\n",
    "                      [9,10]])\n",
    "print(matrix)"
   ]
  },
  {
   "cell_type": "code",
   "execution_count": 5,
   "id": "856b828e",
   "metadata": {},
   "outputs": [
    {
     "name": "stdout",
     "output_type": "stream",
     "text": [
      "Executing op _EagerConst in device /job:localhost/replica:0/task:0/device:GPU:0\n",
      "3\n"
     ]
    }
   ],
   "source": [
    "tensor = tf.constant([[[1,2,3],\n",
    "                       [4,5,6],\n",
    "                       [7,8,9]]])\n",
    "print(tensor.ndim)\n"
   ]
  },
  {
   "cell_type": "code",
   "execution_count": 6,
   "id": "1e6a96cd",
   "metadata": {},
   "outputs": [
    {
     "name": "stdout",
     "output_type": "stream",
     "text": [
      "Executing op _EagerConst in device /job:localhost/replica:0/task:0/device:GPU:0\n",
      "tf.Tensor(9, shape=(), dtype=int32)\n"
     ]
    }
   ],
   "source": [
    "print(tf.constant(9))"
   ]
  },
  {
   "attachments": {},
   "cell_type": "markdown",
   "id": "f7ca5dbf",
   "metadata": {},
   "source": [
    "## Tf Variable"
   ]
  },
  {
   "cell_type": "code",
   "execution_count": 7,
   "id": "2b29fa2e",
   "metadata": {},
   "outputs": [
    {
     "name": "stdout",
     "output_type": "stream",
     "text": [
      "Executing op _EagerConst in device /job:localhost/replica:0/task:0/device:GPU:0\n",
      "Executing op VarHandleOp in device /job:localhost/replica:0/task:0/device:CPU:0\n",
      "Executing op AssignVariableOp in device /job:localhost/replica:0/task:0/device:CPU:0\n",
      "Executing op ReadVariableOp in device /job:localhost/replica:0/task:0/device:CPU:0\n",
      "Executing op Identity in device /job:localhost/replica:0/task:0/device:CPU:0\n"
     ]
    },
    {
     "data": {
      "text/plain": [
       "<tf.Variable 'Variable:0' shape=(2,) dtype=int32, numpy=array([10, 10])>"
      ]
     },
     "execution_count": 7,
     "metadata": {},
     "output_type": "execute_result"
    }
   ],
   "source": [
    "#Tf Constants are inmutable objects\n",
    "\n",
    "#Tf Variables are mutable objects\n",
    "tf.debugging.set_log_device_placement(False)\n",
    "changeable_tensor = tf.Variable([10,10])\n",
    "changeable_tensor"
   ]
  },
  {
   "cell_type": "code",
   "execution_count": 8,
   "id": "bbfc5d6c",
   "metadata": {},
   "outputs": [
    {
     "name": "stdout",
     "output_type": "stream",
     "text": [
      "Executing op _EagerConst in device /job:localhost/replica:0/task:0/device:GPU:0\n",
      "Executing op RandomUniform in device /job:localhost/replica:0/task:0/device:GPU:0\n"
     ]
    },
    {
     "data": {
      "text/plain": [
       "<tf.Tensor: shape=(2, 10), dtype=float32, numpy=\n",
       "array([[0.33305633, 0.5129324 , 0.31656456, 0.48927104, 0.11989379,\n",
       "        0.24042404, 0.38262653, 0.16670477, 0.36337495, 0.1851846 ],\n",
       "       [0.03850555, 0.37915826, 0.16598976, 0.01828623, 0.04720783,\n",
       "        0.20498025, 0.80907   , 0.10909748, 0.10924757, 0.86719906]],\n",
       "      dtype=float32)>"
      ]
     },
     "execution_count": 8,
     "metadata": {},
     "output_type": "execute_result"
    }
   ],
   "source": [
    "#Random Tensor from a uniform distribution \n",
    "random_tensor = tf.random.uniform([2,10])\n",
    "random_tensor                       "
   ]
  },
  {
   "cell_type": "code",
   "execution_count": 9,
   "id": "b01781ae",
   "metadata": {},
   "outputs": [
    {
     "name": "stdout",
     "output_type": "stream",
     "text": [
      "Executing op _EagerConst in device /job:localhost/replica:0/task:0/device:GPU:0\n",
      "Executing op RandomShuffle in device /job:localhost/replica:0/task:0/device:CPU:0\n"
     ]
    },
    {
     "data": {
      "text/plain": [
       "<tf.Tensor: shape=(2, 2), dtype=int32, numpy=\n",
       "array([[ 9, 10],\n",
       "       [10, 10]])>"
      ]
     },
     "execution_count": 9,
     "metadata": {},
     "output_type": "execute_result"
    }
   ],
   "source": [
    "#Shuffle tensors, in the process of training nn the tensor values initialices random and shuffled\n",
    "\n",
    "not_shuffled = tf.constant([[10,10],\n",
    "                            [9,10]])\n",
    "shuffled = tf.random.shuffle(not_shuffled)\n",
    "shuffled    "
   ]
  },
  {
   "attachments": {},
   "cell_type": "markdown",
   "id": "0a9ab403",
   "metadata": {},
   "source": [
    "### Np.Arrays to Tensors\n",
    "Tensor can be run on GPU, np.arrays don't"
   ]
  },
  {
   "cell_type": "code",
   "execution_count": 12,
   "id": "222bac71",
   "metadata": {},
   "outputs": [
    {
     "data": {
      "text/plain": [
       "((10,), dtype('int32'))"
      ]
     },
     "execution_count": 12,
     "metadata": {},
     "output_type": "execute_result"
    }
   ],
   "source": [
    "numpy_A = np.arange(10,dtype=np.int32)\n",
    "numpy_A.shape,numpy_A.dtype"
   ]
  },
  {
   "cell_type": "code",
   "execution_count": 10,
   "id": "a8a91e21",
   "metadata": {},
   "outputs": [
    {
     "data": {
      "text/plain": [
       "<tf.Tensor: shape=(10,), dtype=int32, numpy=array([0, 1, 2, 3, 4, 5, 6, 7, 8, 9])>"
      ]
     },
     "execution_count": 10,
     "metadata": {},
     "output_type": "execute_result"
    }
   ],
   "source": [
    "tensor_A = tf.constant(numpy_A)\n",
    "tensor_A"
   ]
  },
  {
   "cell_type": "code",
   "execution_count": 12,
   "id": "18618d4b",
   "metadata": {},
   "outputs": [
    {
     "name": "stdout",
     "output_type": "stream",
     "text": [
      "Executing op _EagerConst in device /job:localhost/replica:0/task:0/device:GPU:0\n",
      "Executing op _EagerConst in device /job:localhost/replica:0/task:0/device:GPU:0\n",
      "Executing op Reshape in device /job:localhost/replica:0/task:0/device:GPU:0\n"
     ]
    },
    {
     "data": {
      "text/plain": [
       "<tf.Tensor: shape=(2, 5), dtype=int32, numpy=\n",
       "array([[0, 1, 2, 3, 4],\n",
       "       [5, 6, 7, 8, 9]])>"
      ]
     },
     "execution_count": 12,
     "metadata": {},
     "output_type": "execute_result"
    }
   ],
   "source": [
    "tensor_B = tf.constant(numpy_A,shape=(2,5))\n",
    "tensor_B"
   ]
  },
  {
   "attachments": {},
   "cell_type": "markdown",
   "id": "ff1dbac5",
   "metadata": {},
   "source": [
    "### Getting information from tensors\n",
    "* Shape\n",
    "* Rank\n",
    "* Axis & dimention\n",
    "* Sizee"
   ]
  },
  {
   "cell_type": "code",
   "execution_count": 13,
   "id": "2400644f",
   "metadata": {},
   "outputs": [
    {
     "name": "stdout",
     "output_type": "stream",
     "text": [
      "Executing op _EagerConst in device /job:localhost/replica:0/task:0/device:GPU:0\n",
      "Executing op _EagerConst in device /job:localhost/replica:0/task:0/device:GPU:0\n",
      "Executing op Fill in device /job:localhost/replica:0/task:0/device:GPU:0\n"
     ]
    },
    {
     "data": {
      "text/plain": [
       "<tf.Tensor: shape=(2, 3, 3, 2), dtype=float32, numpy=\n",
       "array([[[[0., 0.],\n",
       "         [0., 0.],\n",
       "         [0., 0.]],\n",
       "\n",
       "        [[0., 0.],\n",
       "         [0., 0.],\n",
       "         [0., 0.]],\n",
       "\n",
       "        [[0., 0.],\n",
       "         [0., 0.],\n",
       "         [0., 0.]]],\n",
       "\n",
       "\n",
       "       [[[0., 0.],\n",
       "         [0., 0.],\n",
       "         [0., 0.]],\n",
       "\n",
       "        [[0., 0.],\n",
       "         [0., 0.],\n",
       "         [0., 0.]],\n",
       "\n",
       "        [[0., 0.],\n",
       "         [0., 0.],\n",
       "         [0., 0.]]]], dtype=float32)>"
      ]
     },
     "execution_count": 13,
     "metadata": {},
     "output_type": "execute_result"
    }
   ],
   "source": [
    "rank4_tensor = tf.zeros(shape=(2,3,3,2))\n",
    "rank4_tensor"
   ]
  },
  {
   "cell_type": "code",
   "execution_count": 14,
   "id": "365c1dd2",
   "metadata": {},
   "outputs": [
    {
     "name": "stdout",
     "output_type": "stream",
     "text": [
      "Executing op _EagerConst in device /job:localhost/replica:0/task:0/device:GPU:0\n"
     ]
    },
    {
     "data": {
      "text/plain": [
       "(TensorShape([2, 3, 3, 2]), 4, <tf.Tensor: shape=(), dtype=int32, numpy=36>)"
      ]
     },
     "execution_count": 14,
     "metadata": {},
     "output_type": "execute_result"
    }
   ],
   "source": [
    "rank4_tensor.shape, rank4_tensor.ndim,tf.size(rank4_tensor)"
   ]
  },
  {
   "cell_type": "code",
   "execution_count": 15,
   "id": "d85946e5",
   "metadata": {},
   "outputs": [
    {
     "name": "stdout",
     "output_type": "stream",
     "text": [
      "Shape 4d tensor: (2, 3, 3, 2)\n",
      "Dim 4d tensor : 4\n",
      "Executing op _EagerConst in device /job:localhost/replica:0/task:0/device:GPU:0\n",
      "Size 4d tensor: 36\n"
     ]
    }
   ],
   "source": [
    "print(f\"Shape 4d tensor: {rank4_tensor.shape}\")\n",
    "print(f\"Dim 4d tensor : {rank4_tensor.ndim}\")\n",
    "print(f\"Size 4d tensor: {tf.size(rank4_tensor)}\")"
   ]
  },
  {
   "attachments": {},
   "cell_type": "markdown",
   "id": "7ce0abf3",
   "metadata": {},
   "source": [
    "### Indexing Tensors\n",
    "Same as lists, more dimensiones are added "
   ]
  },
  {
   "cell_type": "code",
   "execution_count": 16,
   "id": "78ec5147",
   "metadata": {},
   "outputs": [
    {
     "name": "stdout",
     "output_type": "stream",
     "text": [
      "Executing op _EagerConst in device /job:localhost/replica:0/task:0/device:GPU:0\n",
      "Executing op _EagerConst in device /job:localhost/replica:0/task:0/device:GPU:0\n",
      "Executing op _EagerConst in device /job:localhost/replica:0/task:0/device:GPU:0\n",
      "Executing op _EagerConst in device /job:localhost/replica:0/task:0/device:GPU:0\n",
      "Executing op StridedSlice in device /job:localhost/replica:0/task:0/device:GPU:0\n"
     ]
    },
    {
     "data": {
      "text/plain": [
       "<tf.Tensor: shape=(2, 2, 1), dtype=int32, numpy=\n",
       "array([[[23],\n",
       "        [26]],\n",
       "\n",
       "       [[10],\n",
       "        [30]]])>"
      ]
     },
     "execution_count": 16,
     "metadata": {},
     "output_type": "execute_result"
    }
   ],
   "source": [
    "rank2_tensor = tf.constant([[23,26],\n",
    "                            [10,30]])\n",
    "\n",
    "#Add extra dimension to tensor\n",
    "rank3_tensor = rank2_tensor[...,tf.newaxis]\n",
    "rank3_tensor"
   ]
  },
  {
   "cell_type": "code",
   "execution_count": 17,
   "id": "4b0cc8ac",
   "metadata": {},
   "outputs": [
    {
     "name": "stdout",
     "output_type": "stream",
     "text": [
      "Executing op _EagerConst in device /job:localhost/replica:0/task:0/device:GPU:0\n",
      "Executing op ExpandDims in device /job:localhost/replica:0/task:0/device:GPU:0\n"
     ]
    },
    {
     "data": {
      "text/plain": [
       "<tf.Tensor: shape=(1, 2, 2), dtype=int32, numpy=\n",
       "array([[[23, 26],\n",
       "        [10, 30]]])>"
      ]
     },
     "execution_count": 17,
     "metadata": {},
     "output_type": "execute_result"
    }
   ],
   "source": [
    "#Expand dimensions\n",
    "    #Expand the dim in the specified position\n",
    "\n",
    "tf.expand_dims(rank2_tensor,axis=0)"
   ]
  },
  {
   "attachments": {},
   "cell_type": "markdown",
   "id": "37ce8978",
   "metadata": {},
   "source": [
    "### Tensor Operations\n",
    "* Mul\n",
    "* Div\n",
    "* Sum\n",
    "* Substract\n",
    "\n",
    "Built in tf methods are much faster because of gpu.."
   ]
  },
  {
   "cell_type": "code",
   "execution_count": 18,
   "id": "9cc05f98",
   "metadata": {},
   "outputs": [
    {
     "name": "stdout",
     "output_type": "stream",
     "text": [
      "Executing op _EagerConst in device /job:localhost/replica:0/task:0/device:GPU:0\n",
      "Executing op _EagerConst in device /job:localhost/replica:0/task:0/device:GPU:0\n",
      "Executing op MatMul in device /job:localhost/replica:0/task:0/device:CPU:0\n"
     ]
    },
    {
     "data": {
      "text/plain": [
       "<tf.Tensor: shape=(3, 3), dtype=int32, numpy=\n",
       "array([[264,  82, 116],\n",
       "       [132,  48,  60],\n",
       "       [267,  92, 181]])>"
      ]
     },
     "execution_count": 18,
     "metadata": {},
     "output_type": "execute_result"
    }
   ],
   "source": [
    "matrix_A = tf.constant([[10,3,8],\n",
    "                        [4,4,4],\n",
    "                        [19,5,3]])\n",
    "\n",
    "matrix_B =  tf.constant([[10,3,8],\n",
    "                         [4,4,4],\n",
    "                         [19,5,3]])\n",
    "\n",
    "tf.matmul(matrix_A,matrix_B)"
   ]
  },
  {
   "cell_type": "code",
   "execution_count": 19,
   "id": "af09a02c",
   "metadata": {},
   "outputs": [
    {
     "name": "stdout",
     "output_type": "stream",
     "text": [
      "Executing op MatMul in device /job:localhost/replica:0/task:0/device:CPU:0\n"
     ]
    },
    {
     "data": {
      "text/plain": [
       "<tf.Tensor: shape=(3, 3), dtype=int32, numpy=\n",
       "array([[264,  82, 116],\n",
       "       [132,  48,  60],\n",
       "       [267,  92, 181]])>"
      ]
     },
     "execution_count": 19,
     "metadata": {},
     "output_type": "execute_result"
    }
   ],
   "source": [
    "matrix_A @ matrix_B"
   ]
  },
  {
   "cell_type": "code",
   "execution_count": 20,
   "id": "753470b6",
   "metadata": {},
   "outputs": [
    {
     "name": "stdout",
     "output_type": "stream",
     "text": [
      "Executing op _EagerConst in device /job:localhost/replica:0/task:0/device:GPU:0\n",
      "Executing op _EagerConst in device /job:localhost/replica:0/task:0/device:GPU:0\n",
      "Executing op _EagerConst in device /job:localhost/replica:0/task:0/device:GPU:0\n",
      "Executing op Transpose in device /job:localhost/replica:0/task:0/device:GPU:0\n",
      "Executing op MatMul in device /job:localhost/replica:0/task:0/device:CPU:0\n"
     ]
    },
    {
     "data": {
      "text/plain": [
       "<tf.Tensor: shape=(3, 1), dtype=int32, numpy=\n",
       "array([[ 7],\n",
       "       [ 8],\n",
       "       [30]])>"
      ]
     },
     "execution_count": 20,
     "metadata": {},
     "output_type": "execute_result"
    }
   ],
   "source": [
    "matrix_C = tf.constant([[1,2],\n",
    "                        [2,2],\n",
    "                        [3,9]])\n",
    "\n",
    "matrix_D = tf.constant([[1,3]])\n",
    "\n",
    "matrix_C @ tf.transpose(matrix_D)"
   ]
  },
  {
   "attachments": {},
   "cell_type": "markdown",
   "id": "bf89bbcf",
   "metadata": {},
   "source": [
    "## Change Dtype of Tensors\n",
    "Default dtype if int32 for 32 bits preccision, but for acceleration issues\n",
    "using 16bit dtypes accelerate calculation"
   ]
  },
  {
   "cell_type": "code",
   "execution_count": 21,
   "id": "1780ee70",
   "metadata": {},
   "outputs": [
    {
     "name": "stdout",
     "output_type": "stream",
     "text": [
      "Executing op _EagerConst in device /job:localhost/replica:0/task:0/device:GPU:0\n"
     ]
    },
    {
     "data": {
      "text/plain": [
       "<tf.Tensor: shape=(5,), dtype=int32, numpy=array([1, 2, 3, 4, 5])>"
      ]
     },
     "execution_count": 21,
     "metadata": {},
     "output_type": "execute_result"
    }
   ],
   "source": [
    "bit32 = tf.constant([1,2,3,4,5])\n",
    "bit32"
   ]
  },
  {
   "cell_type": "code",
   "execution_count": 22,
   "id": "04d6cb97",
   "metadata": {},
   "outputs": [
    {
     "name": "stdout",
     "output_type": "stream",
     "text": [
      "Executing op Cast in device /job:localhost/replica:0/task:0/device:GPU:0\n"
     ]
    },
    {
     "data": {
      "text/plain": [
       "<tf.Tensor: shape=(5,), dtype=int16, numpy=array([1, 2, 3, 4, 5], dtype=int16)>"
      ]
     },
     "execution_count": 22,
     "metadata": {},
     "output_type": "execute_result"
    }
   ],
   "source": [
    "bit16 = tf.cast(bit32,dtype=tf.int16)\n",
    "bit16"
   ]
  },
  {
   "cell_type": "markdown",
   "id": "3a01c84b",
   "metadata": {},
   "source": [
    "### Tensor Agregation"
   ]
  },
  {
   "cell_type": "code",
   "execution_count": 27,
   "id": "dfa5e085",
   "metadata": {},
   "outputs": [
    {
     "name": "stdout",
     "output_type": "stream",
     "text": [
      "Executing op _EagerConst in device /job:localhost/replica:0/task:0/device:GPU:0\n",
      "Executing op Abs in device /job:localhost/replica:0/task:0/device:GPU:0\n"
     ]
    },
    {
     "data": {
      "text/plain": [
       "<tf.Tensor: shape=(4,), dtype=int32, numpy=array([7, 8, 4, 5])>"
      ]
     },
     "execution_count": 27,
     "metadata": {},
     "output_type": "execute_result"
    }
   ],
   "source": [
    "# Abs Value\n",
    "D = tf.constant([-7,-8,-4,-5])\n",
    "tf.abs(D)"
   ]
  },
  {
   "cell_type": "code",
   "execution_count": 30,
   "id": "c097eec4",
   "metadata": {},
   "outputs": [
    {
     "name": "stdout",
     "output_type": "stream",
     "text": [
      "Executing op _EagerConst in device /job:localhost/replica:0/task:0/device:GPU:0\n",
      "Executing op RandomUniform in device /job:localhost/replica:0/task:0/device:GPU:0\n",
      "Executing op Mul in device /job:localhost/replica:0/task:0/device:GPU:0\n"
     ]
    },
    {
     "data": {
      "text/plain": [
       "<tf.Tensor: shape=(2, 2, 2), dtype=float32, numpy=\n",
       "array([[[1.381838 , 0.3273332],\n",
       "        [2.6352103, 1.9380584]],\n",
       "\n",
       "       [[0.1672275, 1.3015509],\n",
       "        [1.8146585, 1.7531934]]], dtype=float32)>"
      ]
     },
     "execution_count": 30,
     "metadata": {},
     "output_type": "execute_result"
    }
   ],
   "source": [
    "ran3t = tf.random.uniform((2,2,2),0,3)\n",
    "ran3t"
   ]
  },
  {
   "cell_type": "code",
   "execution_count": 31,
   "id": "cce98a20",
   "metadata": {},
   "outputs": [
    {
     "name": "stdout",
     "output_type": "stream",
     "text": [
      "Executing op _EagerConst in device /job:localhost/replica:0/task:0/device:GPU:0\n",
      "Executing op Mean in device /job:localhost/replica:0/task:0/device:GPU:0\n"
     ]
    },
    {
     "data": {
      "text/plain": [
       "<tf.Tensor: shape=(), dtype=float32, numpy=1.4148839>"
      ]
     },
     "execution_count": 31,
     "metadata": {},
     "output_type": "execute_result"
    }
   ],
   "source": [
    "tf.reduce_mean(ran3t)"
   ]
  },
  {
   "cell_type": "code",
   "execution_count": 33,
   "id": "d97d8787",
   "metadata": {},
   "outputs": [
    {
     "name": "stdout",
     "output_type": "stream",
     "text": [
      "Executing op _EagerConst in device /job:localhost/replica:0/task:0/device:GPU:0\n",
      "Executing op Min in device /job:localhost/replica:0/task:0/device:GPU:0\n"
     ]
    },
    {
     "data": {
      "text/plain": [
       "<tf.Tensor: shape=(), dtype=float32, numpy=0.1672275>"
      ]
     },
     "execution_count": 33,
     "metadata": {},
     "output_type": "execute_result"
    }
   ],
   "source": [
    "tf.reduce_min(ran3t)"
   ]
  },
  {
   "cell_type": "code",
   "execution_count": 35,
   "id": "c88c5538",
   "metadata": {},
   "outputs": [
    {
     "data": {
      "text/plain": [
       "1.4148839"
      ]
     },
     "execution_count": 35,
     "metadata": {},
     "output_type": "execute_result"
    }
   ],
   "source": [
    "np.mean(ran3t)"
   ]
  },
  {
   "cell_type": "code",
   "execution_count": 36,
   "id": "ca310f7e",
   "metadata": {},
   "outputs": [
    {
     "name": "stdout",
     "output_type": "stream",
     "text": [
      "Executing op _EagerConst in device /job:localhost/replica:0/task:0/device:GPU:0\n",
      "Executing op Max in device /job:localhost/replica:0/task:0/device:GPU:0\n"
     ]
    },
    {
     "data": {
      "text/plain": [
       "<tf.Tensor: shape=(), dtype=float32, numpy=2.6352103>"
      ]
     },
     "execution_count": 36,
     "metadata": {},
     "output_type": "execute_result"
    }
   ],
   "source": [
    "tf.reduce_max(ran3t)"
   ]
  },
  {
   "cell_type": "code",
   "execution_count": 37,
   "id": "a81c32b2",
   "metadata": {},
   "outputs": [
    {
     "name": "stdout",
     "output_type": "stream",
     "text": [
      "Executing op _EagerConst in device /job:localhost/replica:0/task:0/device:GPU:0\n",
      "Executing op Sum in device /job:localhost/replica:0/task:0/device:GPU:0\n"
     ]
    },
    {
     "data": {
      "text/plain": [
       "<tf.Tensor: shape=(), dtype=float32, numpy=11.319071>"
      ]
     },
     "execution_count": 37,
     "metadata": {},
     "output_type": "execute_result"
    }
   ],
   "source": [
    "tf.reduce_sum(ran3t)"
   ]
  },
  {
   "cell_type": "code",
   "execution_count": 41,
   "id": "c4c37edb",
   "metadata": {},
   "outputs": [
    {
     "name": "stdout",
     "output_type": "stream",
     "text": [
      "Executing op _EagerConst in device /job:localhost/replica:0/task:0/device:GPU:0\n",
      "Executing op Mean in device /job:localhost/replica:0/task:0/device:GPU:0\n",
      "Executing op Sub in device /job:localhost/replica:0/task:0/device:GPU:0\n",
      "Executing op Square in device /job:localhost/replica:0/task:0/device:GPU:0\n",
      "Executing op _EagerConst in device /job:localhost/replica:0/task:0/device:GPU:0\n",
      "Executing op Mean in device /job:localhost/replica:0/task:0/device:GPU:0\n",
      "Executing op Sqrt in device /job:localhost/replica:0/task:0/device:GPU:0\n"
     ]
    },
    {
     "data": {
      "text/plain": [
       "<tf.Tensor: shape=(), dtype=float32, numpy=0.7738322>"
      ]
     },
     "execution_count": 41,
     "metadata": {},
     "output_type": "execute_result"
    }
   ],
   "source": [
    "tf.math.reduce_std(ran3t)"
   ]
  },
  {
   "cell_type": "code",
   "execution_count": 42,
   "id": "c03edc84",
   "metadata": {},
   "outputs": [
    {
     "name": "stdout",
     "output_type": "stream",
     "text": [
      "Executing op _EagerConst in device /job:localhost/replica:0/task:0/device:GPU:0\n",
      "Executing op Mean in device /job:localhost/replica:0/task:0/device:GPU:0\n",
      "Executing op Sub in device /job:localhost/replica:0/task:0/device:GPU:0\n",
      "Executing op Square in device /job:localhost/replica:0/task:0/device:GPU:0\n",
      "Executing op _EagerConst in device /job:localhost/replica:0/task:0/device:GPU:0\n",
      "Executing op Mean in device /job:localhost/replica:0/task:0/device:GPU:0\n"
     ]
    },
    {
     "data": {
      "text/plain": [
       "<tf.Tensor: shape=(), dtype=float32, numpy=0.5988163>"
      ]
     },
     "execution_count": 42,
     "metadata": {},
     "output_type": "execute_result"
    }
   ],
   "source": [
    "tf.math.reduce_variance(ran3t)"
   ]
  },
  {
   "cell_type": "markdown",
   "id": "955a552f",
   "metadata": {},
   "source": [
    "### Tensor Positional Argument \n",
    "positional max/min"
   ]
  },
  {
   "cell_type": "code",
   "execution_count": 47,
   "id": "9c8bbb3c",
   "metadata": {},
   "outputs": [
    {
     "name": "stdout",
     "output_type": "stream",
     "text": [
      "Executing op _EagerConst in device /job:localhost/replica:0/task:0/device:GPU:0\n",
      "Executing op VarHandleOp in device /job:localhost/replica:0/task:0/device:GPU:0\n",
      "Executing op AssignVariableOp in device /job:localhost/replica:0/task:0/device:GPU:0\n",
      "Executing op ReadVariableOp in device /job:localhost/replica:0/task:0/device:GPU:0\n",
      "Executing op Identity in device /job:localhost/replica:0/task:0/device:GPU:0\n"
     ]
    },
    {
     "data": {
      "text/plain": [
       "<tf.Variable 'Variable:0' shape=(5,) dtype=float64, numpy=array([ 1.,  5.,  6.,  7., 20.])>"
      ]
     },
     "execution_count": 47,
     "metadata": {},
     "output_type": "execute_result"
    }
   ],
   "source": [
    "r3 = tf.Variable([1,5,6,7,20],dtype=\"float64\")\n",
    "r3"
   ]
  },
  {
   "cell_type": "code",
   "execution_count": 48,
   "id": "03cd335a",
   "metadata": {},
   "outputs": [
    {
     "name": "stdout",
     "output_type": "stream",
     "text": [
      "Executing op ReadVariableOp in device /job:localhost/replica:0/task:0/device:GPU:0\n",
      "Executing op ArgMax in device /job:localhost/replica:0/task:0/device:GPU:0\n"
     ]
    },
    {
     "data": {
      "text/plain": [
       "<tf.Tensor: shape=(), dtype=int64, numpy=4>"
      ]
     },
     "execution_count": 48,
     "metadata": {},
     "output_type": "execute_result"
    }
   ],
   "source": [
    "tf.argmax(r3)"
   ]
  },
  {
   "cell_type": "code",
   "execution_count": 49,
   "id": "1a9a41dd",
   "metadata": {},
   "outputs": [
    {
     "name": "stdout",
     "output_type": "stream",
     "text": [
      "Executing op ReadVariableOp in device /job:localhost/replica:0/task:0/device:GPU:0\n",
      "Executing op ArgMax in device /job:localhost/replica:0/task:0/device:GPU:0\n",
      "Executing op ReadVariableOp in device /job:localhost/replica:0/task:0/device:GPU:0\n",
      "Executing op _EagerConst in device /job:localhost/replica:0/task:0/device:GPU:0\n",
      "Executing op AddV2 in device /job:localhost/replica:0/task:0/device:GPU:0\n",
      "Executing op Pack in device /job:localhost/replica:0/task:0/device:GPU:0\n",
      "Executing op Pack in device /job:localhost/replica:0/task:0/device:GPU:0\n",
      "Executing op Pack in device /job:localhost/replica:0/task:0/device:GPU:0\n",
      "Executing op StridedSlice in device /job:localhost/replica:0/task:0/device:GPU:0\n"
     ]
    },
    {
     "data": {
      "text/plain": [
       "<tf.Tensor: shape=(), dtype=float64, numpy=20.0>"
      ]
     },
     "execution_count": 49,
     "metadata": {},
     "output_type": "execute_result"
    }
   ],
   "source": [
    "r3[tf.argmax(r3)]"
   ]
  },
  {
   "cell_type": "code",
   "execution_count": 50,
   "id": "ebe74bba",
   "metadata": {},
   "outputs": [
    {
     "name": "stdout",
     "output_type": "stream",
     "text": [
      "Executing op ReadVariableOp in device /job:localhost/replica:0/task:0/device:GPU:0\n",
      "Executing op ArgMin in device /job:localhost/replica:0/task:0/device:GPU:0\n",
      "Executing op ReadVariableOp in device /job:localhost/replica:0/task:0/device:GPU:0\n",
      "Executing op AddV2 in device /job:localhost/replica:0/task:0/device:GPU:0\n",
      "Executing op Pack in device /job:localhost/replica:0/task:0/device:GPU:0\n",
      "Executing op Pack in device /job:localhost/replica:0/task:0/device:GPU:0\n",
      "Executing op Pack in device /job:localhost/replica:0/task:0/device:GPU:0\n",
      "Executing op StridedSlice in device /job:localhost/replica:0/task:0/device:GPU:0\n"
     ]
    },
    {
     "data": {
      "text/plain": [
       "<tf.Tensor: shape=(), dtype=float64, numpy=1.0>"
      ]
     },
     "execution_count": 50,
     "metadata": {},
     "output_type": "execute_result"
    }
   ],
   "source": [
    "r3[tf.argmin(r3)]"
   ]
  },
  {
   "cell_type": "markdown",
   "id": "8c3cf89e",
   "metadata": {},
   "source": [
    "### Squeeze Tensors to 1D"
   ]
  },
  {
   "cell_type": "code",
   "execution_count": 54,
   "id": "4eba5dd4",
   "metadata": {},
   "outputs": [
    {
     "name": "stdout",
     "output_type": "stream",
     "text": [
      "Executing op _EagerConst in device /job:localhost/replica:0/task:0/device:GPU:0\n",
      "Executing op RandomUniform in device /job:localhost/replica:0/task:0/device:GPU:0\n",
      "Executing op _EagerConst in device /job:localhost/replica:0/task:0/device:GPU:0\n",
      "Executing op Reshape in device /job:localhost/replica:0/task:0/device:GPU:0\n"
     ]
    }
   ],
   "source": [
    "G = tf.constant(tf.random.uniform(shape=[50]),shape=(1,1,1,1,50))\n",
    "G;"
   ]
  },
  {
   "cell_type": "code",
   "execution_count": 52,
   "id": "5b464e00",
   "metadata": {},
   "outputs": [
    {
     "data": {
      "text/plain": [
       "TensorShape([1, 1, 1, 1, 50])"
      ]
     },
     "execution_count": 52,
     "metadata": {},
     "output_type": "execute_result"
    }
   ],
   "source": [
    "G.shape"
   ]
  },
  {
   "cell_type": "code",
   "execution_count": 53,
   "id": "fd406fc6",
   "metadata": {},
   "outputs": [
    {
     "name": "stdout",
     "output_type": "stream",
     "text": [
      "Executing op Squeeze in device /job:localhost/replica:0/task:0/device:GPU:0\n"
     ]
    },
    {
     "data": {
      "text/plain": [
       "TensorShape([50])"
      ]
     },
     "execution_count": 53,
     "metadata": {},
     "output_type": "execute_result"
    }
   ],
   "source": [
    "squeezedG = tf.squeeze(G)\n",
    "squeezedG.shape"
   ]
  },
  {
   "cell_type": "markdown",
   "id": "fd430920",
   "metadata": {},
   "source": [
    "## One-Hot Encoding Tensors"
   ]
  },
  {
   "cell_type": "code",
   "execution_count": 59,
   "id": "e1859985",
   "metadata": {},
   "outputs": [
    {
     "name": "stdout",
     "output_type": "stream",
     "text": [
      "Executing op _EagerConst in device /job:localhost/replica:0/task:0/device:GPU:0\n",
      "Executing op OneHot in device /job:localhost/replica:0/task:0/device:GPU:0\n"
     ]
    },
    {
     "data": {
      "text/plain": [
       "<tf.Tensor: shape=(4, 4), dtype=float32, numpy=\n",
       "array([[1., 0., 0., 0.],\n",
       "       [0., 1., 0., 0.],\n",
       "       [0., 0., 1., 0.],\n",
       "       [0., 0., 0., 1.]], dtype=float32)>"
      ]
     },
     "execution_count": 59,
     "metadata": {},
     "output_type": "execute_result"
    }
   ],
   "source": [
    "index = [0,1,2,3]\n",
    "\n",
    "tf.one_hot(index,depth=4)"
   ]
  },
  {
   "cell_type": "code",
   "execution_count": 61,
   "id": "63f43100",
   "metadata": {},
   "outputs": [
    {
     "name": "stdout",
     "output_type": "stream",
     "text": [
      "Executing op Range in device /job:localhost/replica:0/task:0/device:GPU:0\n"
     ]
    },
    {
     "data": {
      "text/plain": [
       "<tf.Tensor: shape=(5,), dtype=int32, numpy=array([1, 3, 5, 7, 9])>"
      ]
     },
     "execution_count": 61,
     "metadata": {},
     "output_type": "execute_result"
    }
   ],
   "source": [
    "W = tf.range(1,10,2)\n",
    "W"
   ]
  },
  {
   "cell_type": "code",
   "execution_count": 62,
   "id": "196c26d4",
   "metadata": {},
   "outputs": [
    {
     "name": "stdout",
     "output_type": "stream",
     "text": [
      "Executing op Square in device /job:localhost/replica:0/task:0/device:GPU:0\n"
     ]
    },
    {
     "data": {
      "text/plain": [
       "<tf.Tensor: shape=(5,), dtype=int32, numpy=array([ 1,  9, 25, 49, 81])>"
      ]
     },
     "execution_count": 62,
     "metadata": {},
     "output_type": "execute_result"
    }
   ],
   "source": [
    "tf.square(W)"
   ]
  },
  {
   "cell_type": "code",
   "execution_count": 66,
   "id": "b5cc5d0f",
   "metadata": {},
   "outputs": [
    {
     "name": "stdout",
     "output_type": "stream",
     "text": [
      "Executing op Cast in device /job:localhost/replica:0/task:0/device:GPU:0\n",
      "Executing op Sqrt in device /job:localhost/replica:0/task:0/device:GPU:0\n"
     ]
    },
    {
     "data": {
      "text/plain": [
       "<tf.Tensor: shape=(5,), dtype=float32, numpy=\n",
       "array([1.       , 1.7320509, 2.2360682, 2.6457515, 3.0000002],\n",
       "      dtype=float32)>"
      ]
     },
     "execution_count": 66,
     "metadata": {},
     "output_type": "execute_result"
    }
   ],
   "source": [
    "tf.sqrt(tf.cast(W,dtype=tf.float32))"
   ]
  },
  {
   "cell_type": "code",
   "execution_count": 70,
   "id": "043c15fb",
   "metadata": {},
   "outputs": [
    {
     "name": "stdout",
     "output_type": "stream",
     "text": [
      "Executing op Cast in device /job:localhost/replica:0/task:0/device:GPU:0\n",
      "Executing op Log in device /job:localhost/replica:0/task:0/device:GPU:0\n"
     ]
    },
    {
     "data": {
      "text/plain": [
       "<tf.Tensor: shape=(5,), dtype=float32, numpy=\n",
       "array([0.       , 1.0986123, 1.609438 , 1.9459102, 2.1972246],\n",
       "      dtype=float32)>"
      ]
     },
     "execution_count": 70,
     "metadata": {},
     "output_type": "execute_result"
    }
   ],
   "source": [
    "tf.math.log(tf.cast(W,dtype=tf.float32))"
   ]
  },
  {
   "cell_type": "code",
   "execution_count": 74,
   "id": "c1f7936a",
   "metadata": {},
   "outputs": [
    {
     "name": "stdout",
     "output_type": "stream",
     "text": [
      "Mon Jul 17 21:41:47 2023       \n",
      "+---------------------------------------------------------------------------------------+\n",
      "| NVIDIA-SMI 532.03                 Driver Version: 532.03       CUDA Version: 12.1     |\n",
      "|-----------------------------------------+----------------------+----------------------+\n",
      "| GPU  Name                      TCC/WDDM | Bus-Id        Disp.A | Volatile Uncorr. ECC |\n",
      "| Fan  Temp  Perf            Pwr:Usage/Cap|         Memory-Usage | GPU-Util  Compute M. |\n",
      "|                                         |                      |               MIG M. |\n",
      "|=========================================+======================+======================|\n",
      "|   0  NVIDIA GeForce 940M           WDDM | 00000000:01:00.0 Off |                  N/A |\n",
      "| N/A    0C    P8               N/A /  N/A|   1477MiB /  2048MiB |      0%      Default |\n",
      "|                                         |                      |                  N/A |\n",
      "+-----------------------------------------+----------------------+----------------------+\n",
      "                                                                                         \n",
      "+---------------------------------------------------------------------------------------+\n",
      "| Processes:                                                                            |\n",
      "|  GPU   GI   CI        PID   Type   Process name                            GPU Memory |\n",
      "|        ID   ID                                                             Usage      |\n",
      "|=======================================================================================|\n",
      "|    0   N/A  N/A     11344      C   ...gramacion\\Tensorflow\\env\\python.exe    N/A      |\n",
      "+---------------------------------------------------------------------------------------+\n"
     ]
    }
   ],
   "source": [
    "!nvidia-smi"
   ]
  }
 ],
 "metadata": {
  "kernelspec": {
   "display_name": "Python 3",
   "language": "python",
   "name": "python3"
  },
  "language_info": {
   "codemirror_mode": {
    "name": "ipython",
    "version": 3
   },
   "file_extension": ".py",
   "mimetype": "text/x-python",
   "name": "python",
   "nbconvert_exporter": "python",
   "pygments_lexer": "ipython3",
   "version": "0.0.0"
  }
 },
 "nbformat": 4,
 "nbformat_minor": 5
}
